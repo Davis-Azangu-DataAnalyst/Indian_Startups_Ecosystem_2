{
 "cells": [
  {
   "cell_type": "markdown",
   "id": "6c16e144",
   "metadata": {},
   "source": [
    "# __INDIAN STARTUP ECOSYSTEM__\n"
   ]
  },
  {
   "cell_type": "markdown",
   "id": "51094cd2",
   "metadata": {},
   "source": [
    "## Project Description\n",
    "We embark on a journey of discovery as we leverage our data analysis expertise to uncover the untapped potential within the Indian startup ecosystem. This project is designed to not only decode the numbers but to distill insights that will guide our team towards a successful foray into this dynamic market. "
   ]
  },
  {
   "cell_type": "markdown",
   "id": "abb8cb12",
   "metadata": {},
   "source": [
    "## Scope of Work\n",
    "Conduct a thorough exploration of datasets, dissecting funding patterns, sectoral nuances, and geographical hotspots in the Indian startup landscap Analyze funding received by startups in india from 2018 to 2021."
   ]
  },
  {
   "cell_type": "markdown",
   "id": "383323f8",
   "metadata": {},
   "source": [
    "## Hypotheses\n",
    "H0 : There is no significant relationship between funding and the sector\n",
    "\n",
    "H1 : There is a significant relationship between funding and the sector\n",
    "\n"
   ]
  },
  {
   "cell_type": "markdown",
   "id": "e4c6557b",
   "metadata": {},
   "source": [
    "## Questions\n",
    "1. How does funding vary across different industry sectors in India?\n",
    "\n",
    "2. How does funding vary with the location of the start-ups\n",
    "\n",
    "3. What is the relationship between the amount of funding and the stage of the company?\n",
    "\n",
    "4. How have funding trends evolved between 2018 and 2021?\n",
    "5. What are the most attractive sectors for investors?\n",
    "6. Does the location of the company influence its sector?\n"
   ]
  },
  {
   "cell_type": "markdown",
   "id": "0aa324be",
   "metadata": {},
   "source": [
    "### __1. DATA EXPLORATION, DATA UNDERSTANDING and DATA ANALYSIS__\n"
   ]
  },
  {
   "cell_type": "code",
   "execution_count": 2,
   "id": "5a10fc8f",
   "metadata": {},
   "outputs": [
    {
     "name": "stdout",
     "output_type": "stream",
     "text": [
      "loading complete\n"
     ]
    }
   ],
   "source": [
    "\n",
    "# LOADING LIBRARIES\n",
    "\n",
    "\n",
    "# For data manipulation\n",
    "import pandas as pd\n",
    "import numpy as np\n",
    "\n",
    "#For Visualization\n",
    "import matplotlib.pyplot as plt\n",
    "import seaborn as sns\n",
    "import plotly.express as px\n",
    "from matplotlib.dates import YearLocator\n",
    "from matplotlib.ticker import FuncFormatter\n",
    "#For statistical analysis\n",
    "import scipy.stats as stats\n",
    "import statsmodels.api as sm\n",
    "from statsmodels.formula.api import ols\n",
    "from scipy.stats import chi2_contingency\n",
    "\n",
    "# for database connection\n",
    "import pyodbc\n",
    "from dotenv import dotenv_values\n",
    "import os\n",
    "\n",
    "# Filter warnings\n",
    "import warnings\n",
    "warnings.filterwarnings(\"ignore\")\n",
    "print(\"loading complete\")\n",
    "\n"
   ]
  },
  {
   "cell_type": "markdown",
   "id": "c328eadd",
   "metadata": {},
   "source": [
    "### __1.1 Loading and Inspection of Data__\n",
    "\n",
    "__a. Loading data from SQL server__"
   ]
  },
  {
   "cell_type": "code",
   "execution_count": 3,
   "id": "0ab5d4ee",
   "metadata": {},
   "outputs": [],
   "source": [
    "##Loading environment variables from .env files \n",
    "environment_variables = dotenv_values(\".env\")\n",
    "\n",
    "##Getting values of the credentials set in the .env file\n",
    "server = os.getenv(\"SERVER\")\n",
    "database = os.getenv(\"DATABASE\")\n",
    "username = os.getenv(\"USERNAME\")\n",
    "password = os.getenv(\"PASSWORD\")\n",
    "\n",
    "##Constructing the connection string\n",
    "connection_string = f\"DRIVER=SQL Server;SERVER={server};DATABASE={database};UID={username};PWD={password};MARS_Connection=yes;MinProtocolVersion=TLSv1.2;\""
   ]
  },
  {
   "cell_type": "code",
   "execution_count": 4,
   "id": "e195a0a0",
   "metadata": {},
   "outputs": [],
   "source": [
    "connection = pyodbc.connect(connection_string)"
   ]
  },
  {
   "cell_type": "code",
   "execution_count": 5,
   "id": "9f587bd2",
   "metadata": {},
   "outputs": [],
   "source": [
    "##sql query to retrieve data from the table LP1_startup_2020\n",
    "query_2020=\"SELECT * FROM dbo.LP1_startup_funding2020\"\n",
    "\n",
    "##sql query to retrieve data from table LP1_startup_funding2021\n",
    "query_2021=\"SELECT * FROM dbo.LP1_startup_funding2021\"\n",
    "\n",
    "##execute the sql query and load into pandas DataFrame\n",
    "data_2020 = pd.read_sql(query_2020,connection)\n",
    "data_2021 = pd.read_sql(query_2021,connection)"
   ]
  },
  {
   "cell_type": "markdown",
   "id": "fc3ecf45",
   "metadata": {},
   "source": [
    "### __1.2 Loading CSV Files__"
   ]
  },
  {
   "cell_type": "code",
   "execution_count": 6,
   "id": "5f55c631",
   "metadata": {},
   "outputs": [],
   "source": [
    "\n",
    "data_2019 = pd.read_csv(r\"C:\\Users\\USER\\Desktop\\LP1-Dubnium2\\startup_funding2019.csv\")\n",
    "data_2019['year'] = 2019"
   ]
  },
  {
   "cell_type": "code",
   "execution_count": 7,
   "id": "2aa2bd03",
   "metadata": {},
   "outputs": [],
   "source": [
    "data_2018 = pd.read_csv(r\"\\Users\\USER\\Desktop\\LP1-Dubnium2\\startup_funding2018.csv\")\n",
    "data_2018['year'] = 2018\n"
   ]
  },
  {
   "cell_type": "markdown",
   "id": "d32d2b92",
   "metadata": {},
   "source": [
    " ### __2. Exploratory Data Analaysis(EDA)__ ###\n",
    " #### __2.1 2018 Dataset EDA__ "
   ]
  },
  {
   "cell_type": "code",
   "execution_count": 8,
   "id": "2d7196f9",
   "metadata": {},
   "outputs": [
    {
     "data": {
      "text/html": [
       "<div>\n",
       "<style scoped>\n",
       "    .dataframe tbody tr th:only-of-type {\n",
       "        vertical-align: middle;\n",
       "    }\n",
       "\n",
       "    .dataframe tbody tr th {\n",
       "        vertical-align: top;\n",
       "    }\n",
       "\n",
       "    .dataframe thead th {\n",
       "        text-align: right;\n",
       "    }\n",
       "</style>\n",
       "<table border=\"1\" class=\"dataframe\">\n",
       "  <thead>\n",
       "    <tr style=\"text-align: right;\">\n",
       "      <th></th>\n",
       "      <th>Company Name</th>\n",
       "      <th>Industry</th>\n",
       "      <th>Round/Series</th>\n",
       "      <th>Amount</th>\n",
       "      <th>Location</th>\n",
       "      <th>About Company</th>\n",
       "      <th>year</th>\n",
       "    </tr>\n",
       "  </thead>\n",
       "  <tbody>\n",
       "    <tr>\n",
       "      <th>0</th>\n",
       "      <td>TheCollegeFever</td>\n",
       "      <td>Brand Marketing, Event Promotion, Marketing, S...</td>\n",
       "      <td>Seed</td>\n",
       "      <td>250000</td>\n",
       "      <td>Bangalore, Karnataka, India</td>\n",
       "      <td>TheCollegeFever is a hub for fun, fiesta and f...</td>\n",
       "      <td>2018</td>\n",
       "    </tr>\n",
       "    <tr>\n",
       "      <th>1</th>\n",
       "      <td>Happy Cow Dairy</td>\n",
       "      <td>Agriculture, Farming</td>\n",
       "      <td>Seed</td>\n",
       "      <td>₹40,000,000</td>\n",
       "      <td>Mumbai, Maharashtra, India</td>\n",
       "      <td>A startup which aggregates milk from dairy far...</td>\n",
       "      <td>2018</td>\n",
       "    </tr>\n",
       "    <tr>\n",
       "      <th>2</th>\n",
       "      <td>MyLoanCare</td>\n",
       "      <td>Credit, Financial Services, Lending, Marketplace</td>\n",
       "      <td>Series A</td>\n",
       "      <td>₹65,000,000</td>\n",
       "      <td>Gurgaon, Haryana, India</td>\n",
       "      <td>Leading Online Loans Marketplace in India</td>\n",
       "      <td>2018</td>\n",
       "    </tr>\n",
       "  </tbody>\n",
       "</table>\n",
       "</div>"
      ],
      "text/plain": [
       "      Company Name                                           Industry  \\\n",
       "0  TheCollegeFever  Brand Marketing, Event Promotion, Marketing, S...   \n",
       "1  Happy Cow Dairy                               Agriculture, Farming   \n",
       "2       MyLoanCare   Credit, Financial Services, Lending, Marketplace   \n",
       "\n",
       "  Round/Series       Amount                     Location  \\\n",
       "0         Seed       250000  Bangalore, Karnataka, India   \n",
       "1         Seed  ₹40,000,000   Mumbai, Maharashtra, India   \n",
       "2     Series A  ₹65,000,000      Gurgaon, Haryana, India   \n",
       "\n",
       "                                       About Company  year  \n",
       "0  TheCollegeFever is a hub for fun, fiesta and f...  2018  \n",
       "1  A startup which aggregates milk from dairy far...  2018  \n",
       "2          Leading Online Loans Marketplace in India  2018  "
      ]
     },
     "execution_count": 8,
     "metadata": {},
     "output_type": "execute_result"
    }
   ],
   "source": [
    "# Overview of 2018 dataset\n",
    "data_2018.head(3)\n"
   ]
  },
  {
   "cell_type": "code",
   "execution_count": 9,
   "id": "4bcee247",
   "metadata": {},
   "outputs": [
    {
     "name": "stdout",
     "output_type": "stream",
     "text": [
      "(526, 7)\n",
      "There are 526 rows, and 7 columns\n"
     ]
    }
   ],
   "source": [
    "# checking for number of columns and rows\n",
    "print (data_2018.shape)\n",
    "print(f\"There are {data_2018.shape[0]} rows, and {data_2018.shape[1]} columns\")"
   ]
  },
  {
   "cell_type": "code",
   "execution_count": 10,
   "id": "d5a8bc30",
   "metadata": {},
   "outputs": [
    {
     "name": "stdout",
     "output_type": "stream",
     "text": [
      "<class 'pandas.core.frame.DataFrame'>\n",
      "RangeIndex: 526 entries, 0 to 525\n",
      "Data columns (total 7 columns):\n",
      " #   Column         Non-Null Count  Dtype \n",
      "---  ------         --------------  ----- \n",
      " 0   Company Name   526 non-null    object\n",
      " 1   Industry       526 non-null    object\n",
      " 2   Round/Series   526 non-null    object\n",
      " 3   Amount         526 non-null    object\n",
      " 4   Location       526 non-null    object\n",
      " 5   About Company  526 non-null    object\n",
      " 6   year           526 non-null    int64 \n",
      "dtypes: int64(1), object(6)\n",
      "memory usage: 28.9+ KB\n"
     ]
    }
   ],
   "source": [
    "# checking info\n",
    "data_2018.info()"
   ]
  },
  {
   "cell_type": "code",
   "execution_count": 11,
   "id": "a7e48be1",
   "metadata": {},
   "outputs": [
    {
     "data": {
      "text/html": [
       "<div>\n",
       "<style scoped>\n",
       "    .dataframe tbody tr th:only-of-type {\n",
       "        vertical-align: middle;\n",
       "    }\n",
       "\n",
       "    .dataframe tbody tr th {\n",
       "        vertical-align: top;\n",
       "    }\n",
       "\n",
       "    .dataframe thead th {\n",
       "        text-align: right;\n",
       "    }\n",
       "</style>\n",
       "<table border=\"1\" class=\"dataframe\">\n",
       "  <thead>\n",
       "    <tr style=\"text-align: right;\">\n",
       "      <th></th>\n",
       "      <th>Company Name</th>\n",
       "      <th>Industry</th>\n",
       "      <th>Round/Series</th>\n",
       "      <th>Amount</th>\n",
       "      <th>Location</th>\n",
       "      <th>About Company</th>\n",
       "      <th>year</th>\n",
       "    </tr>\n",
       "  </thead>\n",
       "  <tbody>\n",
       "    <tr>\n",
       "      <th>count</th>\n",
       "      <td>526</td>\n",
       "      <td>526</td>\n",
       "      <td>526</td>\n",
       "      <td>526</td>\n",
       "      <td>526</td>\n",
       "      <td>526</td>\n",
       "      <td>526.0</td>\n",
       "    </tr>\n",
       "    <tr>\n",
       "      <th>unique</th>\n",
       "      <td>525</td>\n",
       "      <td>405</td>\n",
       "      <td>21</td>\n",
       "      <td>198</td>\n",
       "      <td>50</td>\n",
       "      <td>524</td>\n",
       "      <td>NaN</td>\n",
       "    </tr>\n",
       "    <tr>\n",
       "      <th>top</th>\n",
       "      <td>TheCollegeFever</td>\n",
       "      <td>—</td>\n",
       "      <td>Seed</td>\n",
       "      <td>—</td>\n",
       "      <td>Bangalore, Karnataka, India</td>\n",
       "      <td>TheCollegeFever is a hub for fun, fiesta and f...</td>\n",
       "      <td>NaN</td>\n",
       "    </tr>\n",
       "    <tr>\n",
       "      <th>freq</th>\n",
       "      <td>2</td>\n",
       "      <td>30</td>\n",
       "      <td>280</td>\n",
       "      <td>148</td>\n",
       "      <td>102</td>\n",
       "      <td>2</td>\n",
       "      <td>NaN</td>\n",
       "    </tr>\n",
       "    <tr>\n",
       "      <th>mean</th>\n",
       "      <td>NaN</td>\n",
       "      <td>NaN</td>\n",
       "      <td>NaN</td>\n",
       "      <td>NaN</td>\n",
       "      <td>NaN</td>\n",
       "      <td>NaN</td>\n",
       "      <td>2018.0</td>\n",
       "    </tr>\n",
       "    <tr>\n",
       "      <th>std</th>\n",
       "      <td>NaN</td>\n",
       "      <td>NaN</td>\n",
       "      <td>NaN</td>\n",
       "      <td>NaN</td>\n",
       "      <td>NaN</td>\n",
       "      <td>NaN</td>\n",
       "      <td>0.0</td>\n",
       "    </tr>\n",
       "    <tr>\n",
       "      <th>min</th>\n",
       "      <td>NaN</td>\n",
       "      <td>NaN</td>\n",
       "      <td>NaN</td>\n",
       "      <td>NaN</td>\n",
       "      <td>NaN</td>\n",
       "      <td>NaN</td>\n",
       "      <td>2018.0</td>\n",
       "    </tr>\n",
       "    <tr>\n",
       "      <th>25%</th>\n",
       "      <td>NaN</td>\n",
       "      <td>NaN</td>\n",
       "      <td>NaN</td>\n",
       "      <td>NaN</td>\n",
       "      <td>NaN</td>\n",
       "      <td>NaN</td>\n",
       "      <td>2018.0</td>\n",
       "    </tr>\n",
       "    <tr>\n",
       "      <th>50%</th>\n",
       "      <td>NaN</td>\n",
       "      <td>NaN</td>\n",
       "      <td>NaN</td>\n",
       "      <td>NaN</td>\n",
       "      <td>NaN</td>\n",
       "      <td>NaN</td>\n",
       "      <td>2018.0</td>\n",
       "    </tr>\n",
       "    <tr>\n",
       "      <th>75%</th>\n",
       "      <td>NaN</td>\n",
       "      <td>NaN</td>\n",
       "      <td>NaN</td>\n",
       "      <td>NaN</td>\n",
       "      <td>NaN</td>\n",
       "      <td>NaN</td>\n",
       "      <td>2018.0</td>\n",
       "    </tr>\n",
       "    <tr>\n",
       "      <th>max</th>\n",
       "      <td>NaN</td>\n",
       "      <td>NaN</td>\n",
       "      <td>NaN</td>\n",
       "      <td>NaN</td>\n",
       "      <td>NaN</td>\n",
       "      <td>NaN</td>\n",
       "      <td>2018.0</td>\n",
       "    </tr>\n",
       "  </tbody>\n",
       "</table>\n",
       "</div>"
      ],
      "text/plain": [
       "           Company Name Industry Round/Series Amount  \\\n",
       "count               526      526          526    526   \n",
       "unique              525      405           21    198   \n",
       "top     TheCollegeFever        —         Seed      —   \n",
       "freq                  2       30          280    148   \n",
       "mean                NaN      NaN          NaN    NaN   \n",
       "std                 NaN      NaN          NaN    NaN   \n",
       "min                 NaN      NaN          NaN    NaN   \n",
       "25%                 NaN      NaN          NaN    NaN   \n",
       "50%                 NaN      NaN          NaN    NaN   \n",
       "75%                 NaN      NaN          NaN    NaN   \n",
       "max                 NaN      NaN          NaN    NaN   \n",
       "\n",
       "                           Location  \\\n",
       "count                           526   \n",
       "unique                           50   \n",
       "top     Bangalore, Karnataka, India   \n",
       "freq                            102   \n",
       "mean                            NaN   \n",
       "std                             NaN   \n",
       "min                             NaN   \n",
       "25%                             NaN   \n",
       "50%                             NaN   \n",
       "75%                             NaN   \n",
       "max                             NaN   \n",
       "\n",
       "                                            About Company    year  \n",
       "count                                                 526   526.0  \n",
       "unique                                                524     NaN  \n",
       "top     TheCollegeFever is a hub for fun, fiesta and f...     NaN  \n",
       "freq                                                    2     NaN  \n",
       "mean                                                  NaN  2018.0  \n",
       "std                                                   NaN     0.0  \n",
       "min                                                   NaN  2018.0  \n",
       "25%                                                   NaN  2018.0  \n",
       "50%                                                   NaN  2018.0  \n",
       "75%                                                   NaN  2018.0  \n",
       "max                                                   NaN  2018.0  "
      ]
     },
     "execution_count": 11,
     "metadata": {},
     "output_type": "execute_result"
    }
   ],
   "source": [
    "# Describing the data\n",
    "data_2018.describe(include= 'all') "
   ]
  },
  {
   "cell_type": "code",
   "execution_count": 12,
   "id": "60e46dc0",
   "metadata": {},
   "outputs": [
    {
     "name": "stdout",
     "output_type": "stream",
     "text": [
      "There are  1 duplicate(s)\n"
     ]
    }
   ],
   "source": [
    "# checking for duplicates\n",
    "print(\"There are \",data_2018.duplicated().sum(),\"duplicate(s)\")"
   ]
  },
  {
   "cell_type": "code",
   "execution_count": 13,
   "id": "90dfad5b",
   "metadata": {},
   "outputs": [
    {
     "data": {
      "text/plain": [
       "Company Name     0\n",
       "Industry         0\n",
       "Round/Series     0\n",
       "Amount           0\n",
       "Location         0\n",
       "About Company    0\n",
       "year             0\n",
       "dtype: int64"
      ]
     },
     "execution_count": 13,
     "metadata": {},
     "output_type": "execute_result"
    }
   ],
   "source": [
    "# Checking for missing values\n",
    "data_2018.isnull().sum()"
   ]
  },
  {
   "cell_type": "markdown",
   "id": "6b54f5ec",
   "metadata": {},
   "source": [
    "#### __2.2 2019 Dataset EDA__ "
   ]
  },
  {
   "cell_type": "code",
   "execution_count": 14,
   "id": "ad6f6b1f",
   "metadata": {},
   "outputs": [
    {
     "data": {
      "text/html": [
       "<div>\n",
       "<style scoped>\n",
       "    .dataframe tbody tr th:only-of-type {\n",
       "        vertical-align: middle;\n",
       "    }\n",
       "\n",
       "    .dataframe tbody tr th {\n",
       "        vertical-align: top;\n",
       "    }\n",
       "\n",
       "    .dataframe thead th {\n",
       "        text-align: right;\n",
       "    }\n",
       "</style>\n",
       "<table border=\"1\" class=\"dataframe\">\n",
       "  <thead>\n",
       "    <tr style=\"text-align: right;\">\n",
       "      <th></th>\n",
       "      <th>Company/Brand</th>\n",
       "      <th>Founded</th>\n",
       "      <th>HeadQuarter</th>\n",
       "      <th>Sector</th>\n",
       "      <th>What it does</th>\n",
       "      <th>Founders</th>\n",
       "      <th>Investor</th>\n",
       "      <th>Amount($)</th>\n",
       "      <th>Stage</th>\n",
       "      <th>year</th>\n",
       "    </tr>\n",
       "  </thead>\n",
       "  <tbody>\n",
       "    <tr>\n",
       "      <th>0</th>\n",
       "      <td>Bombay Shaving</td>\n",
       "      <td>NaN</td>\n",
       "      <td>NaN</td>\n",
       "      <td>Ecommerce</td>\n",
       "      <td>Provides a range of male grooming products</td>\n",
       "      <td>Shantanu Deshpande</td>\n",
       "      <td>Sixth Sense Ventures</td>\n",
       "      <td>$6,300,000</td>\n",
       "      <td>NaN</td>\n",
       "      <td>2019</td>\n",
       "    </tr>\n",
       "    <tr>\n",
       "      <th>1</th>\n",
       "      <td>Ruangguru</td>\n",
       "      <td>2014.0</td>\n",
       "      <td>Mumbai</td>\n",
       "      <td>Edtech</td>\n",
       "      <td>A learning platform that provides topic-based ...</td>\n",
       "      <td>Adamas Belva Syah Devara, Iman Usman.</td>\n",
       "      <td>General Atlantic</td>\n",
       "      <td>$150,000,000</td>\n",
       "      <td>Series C</td>\n",
       "      <td>2019</td>\n",
       "    </tr>\n",
       "    <tr>\n",
       "      <th>2</th>\n",
       "      <td>Eduisfun</td>\n",
       "      <td>NaN</td>\n",
       "      <td>Mumbai</td>\n",
       "      <td>Edtech</td>\n",
       "      <td>It aims to make learning fun via games.</td>\n",
       "      <td>Jatin Solanki</td>\n",
       "      <td>Deepak Parekh, Amitabh Bachchan, Piyush Pandey</td>\n",
       "      <td>$28,000,000</td>\n",
       "      <td>Fresh funding</td>\n",
       "      <td>2019</td>\n",
       "    </tr>\n",
       "  </tbody>\n",
       "</table>\n",
       "</div>"
      ],
      "text/plain": [
       "    Company/Brand  Founded HeadQuarter     Sector  \\\n",
       "0  Bombay Shaving      NaN         NaN  Ecommerce   \n",
       "1       Ruangguru   2014.0      Mumbai     Edtech   \n",
       "2        Eduisfun      NaN      Mumbai     Edtech   \n",
       "\n",
       "                                        What it does  \\\n",
       "0         Provides a range of male grooming products   \n",
       "1  A learning platform that provides topic-based ...   \n",
       "2            It aims to make learning fun via games.   \n",
       "\n",
       "                                Founders  \\\n",
       "0                     Shantanu Deshpande   \n",
       "1  Adamas Belva Syah Devara, Iman Usman.   \n",
       "2                          Jatin Solanki   \n",
       "\n",
       "                                         Investor     Amount($)  \\\n",
       "0                            Sixth Sense Ventures    $6,300,000   \n",
       "1                                General Atlantic  $150,000,000   \n",
       "2  Deepak Parekh, Amitabh Bachchan, Piyush Pandey   $28,000,000   \n",
       "\n",
       "           Stage  year  \n",
       "0            NaN  2019  \n",
       "1       Series C  2019  \n",
       "2  Fresh funding  2019  "
      ]
     },
     "execution_count": 14,
     "metadata": {},
     "output_type": "execute_result"
    }
   ],
   "source": [
    "# Overview of 2019 dataset\n",
    "data_2019.head(3)"
   ]
  },
  {
   "cell_type": "code",
   "execution_count": 15,
   "id": "c2c15d49",
   "metadata": {},
   "outputs": [
    {
     "name": "stdout",
     "output_type": "stream",
     "text": [
      "(89, 10)\n",
      "There are 89 rows, and 10 columns\n"
     ]
    }
   ],
   "source": [
    "# checking for number of columns and rows\n",
    "print (data_2019.shape)\n",
    "print(f\"There are {data_2019.shape[0]} rows, and {data_2019.shape[1]} columns\")\n"
   ]
  },
  {
   "cell_type": "code",
   "execution_count": 16,
   "id": "0427223a",
   "metadata": {},
   "outputs": [
    {
     "name": "stdout",
     "output_type": "stream",
     "text": [
      "There are  0 duplicate(s)\n"
     ]
    }
   ],
   "source": [
    "# checking for duplicates\n",
    "print(\"There are \",data_2019.duplicated().sum(),\"duplicate(s)\")"
   ]
  },
  {
   "cell_type": "code",
   "execution_count": 17,
   "id": "786d488c",
   "metadata": {},
   "outputs": [
    {
     "data": {
      "text/plain": [
       "Company/Brand     0\n",
       "Founded          29\n",
       "HeadQuarter      19\n",
       "Sector            5\n",
       "What it does      0\n",
       "Founders          3\n",
       "Investor          0\n",
       "Amount($)         0\n",
       "Stage            46\n",
       "year              0\n",
       "dtype: int64"
      ]
     },
     "execution_count": 17,
     "metadata": {},
     "output_type": "execute_result"
    }
   ],
   "source": [
    "# Checking for nulls\n",
    "data_2019.isnull().sum()"
   ]
  },
  {
   "cell_type": "code",
   "execution_count": 18,
   "id": "6fbe929c",
   "metadata": {},
   "outputs": [
    {
     "name": "stdout",
     "output_type": "stream",
     "text": [
      "<class 'pandas.core.frame.DataFrame'>\n",
      "RangeIndex: 89 entries, 0 to 88\n",
      "Data columns (total 10 columns):\n",
      " #   Column         Non-Null Count  Dtype  \n",
      "---  ------         --------------  -----  \n",
      " 0   Company/Brand  89 non-null     object \n",
      " 1   Founded        60 non-null     float64\n",
      " 2   HeadQuarter    70 non-null     object \n",
      " 3   Sector         84 non-null     object \n",
      " 4   What it does   89 non-null     object \n",
      " 5   Founders       86 non-null     object \n",
      " 6   Investor       89 non-null     object \n",
      " 7   Amount($)      89 non-null     object \n",
      " 8   Stage          43 non-null     object \n",
      " 9   year           89 non-null     int64  \n",
      "dtypes: float64(1), int64(1), object(8)\n",
      "memory usage: 7.1+ KB\n"
     ]
    }
   ],
   "source": [
    "# checking for datatypes in the different columns\n",
    "data_2019.info()"
   ]
  },
  {
   "cell_type": "code",
   "execution_count": 19,
   "id": "5c0b731a",
   "metadata": {},
   "outputs": [
    {
     "data": {
      "text/html": [
       "<div>\n",
       "<style scoped>\n",
       "    .dataframe tbody tr th:only-of-type {\n",
       "        vertical-align: middle;\n",
       "    }\n",
       "\n",
       "    .dataframe tbody tr th {\n",
       "        vertical-align: top;\n",
       "    }\n",
       "\n",
       "    .dataframe thead th {\n",
       "        text-align: right;\n",
       "    }\n",
       "</style>\n",
       "<table border=\"1\" class=\"dataframe\">\n",
       "  <thead>\n",
       "    <tr style=\"text-align: right;\">\n",
       "      <th></th>\n",
       "      <th>Company/Brand</th>\n",
       "      <th>Founded</th>\n",
       "      <th>HeadQuarter</th>\n",
       "      <th>Sector</th>\n",
       "      <th>What it does</th>\n",
       "      <th>Founders</th>\n",
       "      <th>Investor</th>\n",
       "      <th>Amount($)</th>\n",
       "      <th>Stage</th>\n",
       "      <th>year</th>\n",
       "    </tr>\n",
       "  </thead>\n",
       "  <tbody>\n",
       "    <tr>\n",
       "      <th>count</th>\n",
       "      <td>89</td>\n",
       "      <td>60.000000</td>\n",
       "      <td>70</td>\n",
       "      <td>84</td>\n",
       "      <td>89</td>\n",
       "      <td>86</td>\n",
       "      <td>89</td>\n",
       "      <td>89</td>\n",
       "      <td>43</td>\n",
       "      <td>89.0</td>\n",
       "    </tr>\n",
       "    <tr>\n",
       "      <th>unique</th>\n",
       "      <td>87</td>\n",
       "      <td>NaN</td>\n",
       "      <td>17</td>\n",
       "      <td>52</td>\n",
       "      <td>88</td>\n",
       "      <td>85</td>\n",
       "      <td>86</td>\n",
       "      <td>50</td>\n",
       "      <td>15</td>\n",
       "      <td>NaN</td>\n",
       "    </tr>\n",
       "    <tr>\n",
       "      <th>top</th>\n",
       "      <td>Kratikal</td>\n",
       "      <td>NaN</td>\n",
       "      <td>Bangalore</td>\n",
       "      <td>Edtech</td>\n",
       "      <td>Online meat shop</td>\n",
       "      <td>Vivek Gupta, Abhay Hanjura</td>\n",
       "      <td>Undisclosed</td>\n",
       "      <td>Undisclosed</td>\n",
       "      <td>Series A</td>\n",
       "      <td>NaN</td>\n",
       "    </tr>\n",
       "    <tr>\n",
       "      <th>freq</th>\n",
       "      <td>2</td>\n",
       "      <td>NaN</td>\n",
       "      <td>21</td>\n",
       "      <td>7</td>\n",
       "      <td>2</td>\n",
       "      <td>2</td>\n",
       "      <td>3</td>\n",
       "      <td>12</td>\n",
       "      <td>10</td>\n",
       "      <td>NaN</td>\n",
       "    </tr>\n",
       "    <tr>\n",
       "      <th>mean</th>\n",
       "      <td>NaN</td>\n",
       "      <td>2014.533333</td>\n",
       "      <td>NaN</td>\n",
       "      <td>NaN</td>\n",
       "      <td>NaN</td>\n",
       "      <td>NaN</td>\n",
       "      <td>NaN</td>\n",
       "      <td>NaN</td>\n",
       "      <td>NaN</td>\n",
       "      <td>2019.0</td>\n",
       "    </tr>\n",
       "    <tr>\n",
       "      <th>std</th>\n",
       "      <td>NaN</td>\n",
       "      <td>2.937003</td>\n",
       "      <td>NaN</td>\n",
       "      <td>NaN</td>\n",
       "      <td>NaN</td>\n",
       "      <td>NaN</td>\n",
       "      <td>NaN</td>\n",
       "      <td>NaN</td>\n",
       "      <td>NaN</td>\n",
       "      <td>0.0</td>\n",
       "    </tr>\n",
       "    <tr>\n",
       "      <th>min</th>\n",
       "      <td>NaN</td>\n",
       "      <td>2004.000000</td>\n",
       "      <td>NaN</td>\n",
       "      <td>NaN</td>\n",
       "      <td>NaN</td>\n",
       "      <td>NaN</td>\n",
       "      <td>NaN</td>\n",
       "      <td>NaN</td>\n",
       "      <td>NaN</td>\n",
       "      <td>2019.0</td>\n",
       "    </tr>\n",
       "    <tr>\n",
       "      <th>25%</th>\n",
       "      <td>NaN</td>\n",
       "      <td>2013.000000</td>\n",
       "      <td>NaN</td>\n",
       "      <td>NaN</td>\n",
       "      <td>NaN</td>\n",
       "      <td>NaN</td>\n",
       "      <td>NaN</td>\n",
       "      <td>NaN</td>\n",
       "      <td>NaN</td>\n",
       "      <td>2019.0</td>\n",
       "    </tr>\n",
       "    <tr>\n",
       "      <th>50%</th>\n",
       "      <td>NaN</td>\n",
       "      <td>2015.000000</td>\n",
       "      <td>NaN</td>\n",
       "      <td>NaN</td>\n",
       "      <td>NaN</td>\n",
       "      <td>NaN</td>\n",
       "      <td>NaN</td>\n",
       "      <td>NaN</td>\n",
       "      <td>NaN</td>\n",
       "      <td>2019.0</td>\n",
       "    </tr>\n",
       "    <tr>\n",
       "      <th>75%</th>\n",
       "      <td>NaN</td>\n",
       "      <td>2016.250000</td>\n",
       "      <td>NaN</td>\n",
       "      <td>NaN</td>\n",
       "      <td>NaN</td>\n",
       "      <td>NaN</td>\n",
       "      <td>NaN</td>\n",
       "      <td>NaN</td>\n",
       "      <td>NaN</td>\n",
       "      <td>2019.0</td>\n",
       "    </tr>\n",
       "    <tr>\n",
       "      <th>max</th>\n",
       "      <td>NaN</td>\n",
       "      <td>2019.000000</td>\n",
       "      <td>NaN</td>\n",
       "      <td>NaN</td>\n",
       "      <td>NaN</td>\n",
       "      <td>NaN</td>\n",
       "      <td>NaN</td>\n",
       "      <td>NaN</td>\n",
       "      <td>NaN</td>\n",
       "      <td>2019.0</td>\n",
       "    </tr>\n",
       "  </tbody>\n",
       "</table>\n",
       "</div>"
      ],
      "text/plain": [
       "       Company/Brand      Founded HeadQuarter  Sector      What it does  \\\n",
       "count             89    60.000000          70      84                89   \n",
       "unique            87          NaN          17      52                88   \n",
       "top         Kratikal          NaN   Bangalore  Edtech  Online meat shop   \n",
       "freq               2          NaN          21       7                 2   \n",
       "mean             NaN  2014.533333         NaN     NaN               NaN   \n",
       "std              NaN     2.937003         NaN     NaN               NaN   \n",
       "min              NaN  2004.000000         NaN     NaN               NaN   \n",
       "25%              NaN  2013.000000         NaN     NaN               NaN   \n",
       "50%              NaN  2015.000000         NaN     NaN               NaN   \n",
       "75%              NaN  2016.250000         NaN     NaN               NaN   \n",
       "max              NaN  2019.000000         NaN     NaN               NaN   \n",
       "\n",
       "                          Founders     Investor    Amount($)     Stage    year  \n",
       "count                           86           89           89        43    89.0  \n",
       "unique                          85           86           50        15     NaN  \n",
       "top     Vivek Gupta, Abhay Hanjura  Undisclosed  Undisclosed  Series A     NaN  \n",
       "freq                             2            3           12        10     NaN  \n",
       "mean                           NaN          NaN          NaN       NaN  2019.0  \n",
       "std                            NaN          NaN          NaN       NaN     0.0  \n",
       "min                            NaN          NaN          NaN       NaN  2019.0  \n",
       "25%                            NaN          NaN          NaN       NaN  2019.0  \n",
       "50%                            NaN          NaN          NaN       NaN  2019.0  \n",
       "75%                            NaN          NaN          NaN       NaN  2019.0  \n",
       "max                            NaN          NaN          NaN       NaN  2019.0  "
      ]
     },
     "execution_count": 19,
     "metadata": {},
     "output_type": "execute_result"
    }
   ],
   "source": [
    "# performing descriptive analysis\n",
    "data_2019.describe(include='all')"
   ]
  },
  {
   "cell_type": "markdown",
   "id": "26751183",
   "metadata": {},
   "source": [
    "Findings\n",
    "\n",
    "Kratikal company was the most common company\n",
    "\n",
    "Most companies had their headquarters based in Bangalore\n",
    "\n",
    "Majority of the companies are involved in the Edtech sector"
   ]
  },
  {
   "cell_type": "markdown",
   "id": "682a8623",
   "metadata": {},
   "source": [
    "#### __2.3 2020 Dataset EDA__ "
   ]
  },
  {
   "cell_type": "code",
   "execution_count": 20,
   "id": "4303c33f",
   "metadata": {},
   "outputs": [
    {
     "data": {
      "text/html": [
       "<div>\n",
       "<style scoped>\n",
       "    .dataframe tbody tr th:only-of-type {\n",
       "        vertical-align: middle;\n",
       "    }\n",
       "\n",
       "    .dataframe tbody tr th {\n",
       "        vertical-align: top;\n",
       "    }\n",
       "\n",
       "    .dataframe thead th {\n",
       "        text-align: right;\n",
       "    }\n",
       "</style>\n",
       "<table border=\"1\" class=\"dataframe\">\n",
       "  <thead>\n",
       "    <tr style=\"text-align: right;\">\n",
       "      <th></th>\n",
       "      <th>Company_Brand</th>\n",
       "      <th>Founded</th>\n",
       "      <th>HeadQuarter</th>\n",
       "      <th>Sector</th>\n",
       "      <th>What_it_does</th>\n",
       "      <th>Founders</th>\n",
       "      <th>Investor</th>\n",
       "      <th>Amount</th>\n",
       "      <th>Stage</th>\n",
       "      <th>column10</th>\n",
       "    </tr>\n",
       "  </thead>\n",
       "  <tbody>\n",
       "    <tr>\n",
       "      <th>0</th>\n",
       "      <td>Aqgromalin</td>\n",
       "      <td>2019.0</td>\n",
       "      <td>Chennai</td>\n",
       "      <td>AgriTech</td>\n",
       "      <td>Cultivating Ideas for Profit</td>\n",
       "      <td>Prasanna Manogaran, Bharani C L</td>\n",
       "      <td>Angel investors</td>\n",
       "      <td>200000.0</td>\n",
       "      <td>None</td>\n",
       "      <td>None</td>\n",
       "    </tr>\n",
       "    <tr>\n",
       "      <th>1</th>\n",
       "      <td>Krayonnz</td>\n",
       "      <td>2019.0</td>\n",
       "      <td>Bangalore</td>\n",
       "      <td>EdTech</td>\n",
       "      <td>An academy-guardian-scholar centric ecosystem ...</td>\n",
       "      <td>Saurabh Dixit, Gurudutt Upadhyay</td>\n",
       "      <td>GSF Accelerator</td>\n",
       "      <td>100000.0</td>\n",
       "      <td>Pre-seed</td>\n",
       "      <td>None</td>\n",
       "    </tr>\n",
       "    <tr>\n",
       "      <th>2</th>\n",
       "      <td>PadCare Labs</td>\n",
       "      <td>2018.0</td>\n",
       "      <td>Pune</td>\n",
       "      <td>Hygiene management</td>\n",
       "      <td>Converting bio-hazardous waste to harmless waste</td>\n",
       "      <td>Ajinkya Dhariya</td>\n",
       "      <td>Venture Center</td>\n",
       "      <td>NaN</td>\n",
       "      <td>Pre-seed</td>\n",
       "      <td>None</td>\n",
       "    </tr>\n",
       "  </tbody>\n",
       "</table>\n",
       "</div>"
      ],
      "text/plain": [
       "  Company_Brand  Founded HeadQuarter              Sector  \\\n",
       "0    Aqgromalin   2019.0     Chennai            AgriTech   \n",
       "1      Krayonnz   2019.0   Bangalore              EdTech   \n",
       "2  PadCare Labs   2018.0        Pune  Hygiene management   \n",
       "\n",
       "                                        What_it_does  \\\n",
       "0                       Cultivating Ideas for Profit   \n",
       "1  An academy-guardian-scholar centric ecosystem ...   \n",
       "2   Converting bio-hazardous waste to harmless waste   \n",
       "\n",
       "                           Founders         Investor    Amount     Stage  \\\n",
       "0   Prasanna Manogaran, Bharani C L  Angel investors  200000.0      None   \n",
       "1  Saurabh Dixit, Gurudutt Upadhyay  GSF Accelerator  100000.0  Pre-seed   \n",
       "2                   Ajinkya Dhariya   Venture Center       NaN  Pre-seed   \n",
       "\n",
       "  column10  \n",
       "0     None  \n",
       "1     None  \n",
       "2     None  "
      ]
     },
     "execution_count": 20,
     "metadata": {},
     "output_type": "execute_result"
    }
   ],
   "source": [
    "# Overview of 2018 dataset\n",
    "data_2020.head(3)"
   ]
  },
  {
   "cell_type": "code",
   "execution_count": 21,
   "id": "8c212475",
   "metadata": {},
   "outputs": [
    {
     "name": "stdout",
     "output_type": "stream",
     "text": [
      "(1055, 10)\n",
      "There are 1055 rows, and 10 columns\n"
     ]
    }
   ],
   "source": [
    "#checking for number of columns and rows\n",
    "print (data_2020.shape)\n",
    "print(f\"There are {data_2020.shape[0]} rows, and {data_2020.shape[1]} columns\")"
   ]
  },
  {
   "cell_type": "code",
   "execution_count": 22,
   "id": "89dec1db",
   "metadata": {},
   "outputs": [
    {
     "name": "stdout",
     "output_type": "stream",
     "text": [
      "There are  3 duplicate(s)\n"
     ]
    }
   ],
   "source": [
    "# checking for duplicates\n",
    "print(\"There are \",data_2020.duplicated().sum(),\"duplicate(s)\")"
   ]
  },
  {
   "cell_type": "code",
   "execution_count": 23,
   "id": "4e98a266",
   "metadata": {},
   "outputs": [
    {
     "data": {
      "text/plain": [
       "Company_Brand       0\n",
       "Founded           213\n",
       "HeadQuarter        94\n",
       "Sector             13\n",
       "What_it_does        0\n",
       "Founders           12\n",
       "Investor           38\n",
       "Amount            254\n",
       "Stage             464\n",
       "column10         1053\n",
       "dtype: int64"
      ]
     },
     "execution_count": 23,
     "metadata": {},
     "output_type": "execute_result"
    }
   ],
   "source": [
    "# Checking for nulls\n",
    "data_2020.isnull().sum()"
   ]
  },
  {
   "cell_type": "code",
   "execution_count": 24,
   "id": "e8a45636",
   "metadata": {},
   "outputs": [
    {
     "name": "stdout",
     "output_type": "stream",
     "text": [
      "<class 'pandas.core.frame.DataFrame'>\n",
      "RangeIndex: 1055 entries, 0 to 1054\n",
      "Data columns (total 10 columns):\n",
      " #   Column         Non-Null Count  Dtype  \n",
      "---  ------         --------------  -----  \n",
      " 0   Company_Brand  1055 non-null   object \n",
      " 1   Founded        842 non-null    float64\n",
      " 2   HeadQuarter    961 non-null    object \n",
      " 3   Sector         1042 non-null   object \n",
      " 4   What_it_does   1055 non-null   object \n",
      " 5   Founders       1043 non-null   object \n",
      " 6   Investor       1017 non-null   object \n",
      " 7   Amount         801 non-null    float64\n",
      " 8   Stage          591 non-null    object \n",
      " 9   column10       2 non-null      object \n",
      "dtypes: float64(2), object(8)\n",
      "memory usage: 82.5+ KB\n"
     ]
    }
   ],
   "source": [
    "# checking for datatypes in the different columns\n",
    "data_2020.info()"
   ]
  },
  {
   "cell_type": "code",
   "execution_count": 25,
   "id": "80327611",
   "metadata": {},
   "outputs": [
    {
     "data": {
      "text/html": [
       "<div>\n",
       "<style scoped>\n",
       "    .dataframe tbody tr th:only-of-type {\n",
       "        vertical-align: middle;\n",
       "    }\n",
       "\n",
       "    .dataframe tbody tr th {\n",
       "        vertical-align: top;\n",
       "    }\n",
       "\n",
       "    .dataframe thead th {\n",
       "        text-align: right;\n",
       "    }\n",
       "</style>\n",
       "<table border=\"1\" class=\"dataframe\">\n",
       "  <thead>\n",
       "    <tr style=\"text-align: right;\">\n",
       "      <th></th>\n",
       "      <th>Company_Brand</th>\n",
       "      <th>Founded</th>\n",
       "      <th>HeadQuarter</th>\n",
       "      <th>Sector</th>\n",
       "      <th>What_it_does</th>\n",
       "      <th>Founders</th>\n",
       "      <th>Investor</th>\n",
       "      <th>Amount</th>\n",
       "      <th>Stage</th>\n",
       "      <th>column10</th>\n",
       "    </tr>\n",
       "  </thead>\n",
       "  <tbody>\n",
       "    <tr>\n",
       "      <th>count</th>\n",
       "      <td>1055</td>\n",
       "      <td>842.000000</td>\n",
       "      <td>961</td>\n",
       "      <td>1042</td>\n",
       "      <td>1055</td>\n",
       "      <td>1043</td>\n",
       "      <td>1017</td>\n",
       "      <td>8.010000e+02</td>\n",
       "      <td>591</td>\n",
       "      <td>2</td>\n",
       "    </tr>\n",
       "    <tr>\n",
       "      <th>unique</th>\n",
       "      <td>905</td>\n",
       "      <td>NaN</td>\n",
       "      <td>77</td>\n",
       "      <td>302</td>\n",
       "      <td>990</td>\n",
       "      <td>927</td>\n",
       "      <td>848</td>\n",
       "      <td>NaN</td>\n",
       "      <td>42</td>\n",
       "      <td>2</td>\n",
       "    </tr>\n",
       "    <tr>\n",
       "      <th>top</th>\n",
       "      <td>Nykaa</td>\n",
       "      <td>NaN</td>\n",
       "      <td>Bangalore</td>\n",
       "      <td>Fintech</td>\n",
       "      <td>Provides online learning classes</td>\n",
       "      <td>Falguni Nayar</td>\n",
       "      <td>Venture Catalysts</td>\n",
       "      <td>NaN</td>\n",
       "      <td>Series A</td>\n",
       "      <td>Pre-Seed</td>\n",
       "    </tr>\n",
       "    <tr>\n",
       "      <th>freq</th>\n",
       "      <td>6</td>\n",
       "      <td>NaN</td>\n",
       "      <td>317</td>\n",
       "      <td>80</td>\n",
       "      <td>4</td>\n",
       "      <td>6</td>\n",
       "      <td>20</td>\n",
       "      <td>NaN</td>\n",
       "      <td>96</td>\n",
       "      <td>1</td>\n",
       "    </tr>\n",
       "    <tr>\n",
       "      <th>mean</th>\n",
       "      <td>NaN</td>\n",
       "      <td>2015.363420</td>\n",
       "      <td>NaN</td>\n",
       "      <td>NaN</td>\n",
       "      <td>NaN</td>\n",
       "      <td>NaN</td>\n",
       "      <td>NaN</td>\n",
       "      <td>1.130430e+08</td>\n",
       "      <td>NaN</td>\n",
       "      <td>NaN</td>\n",
       "    </tr>\n",
       "    <tr>\n",
       "      <th>std</th>\n",
       "      <td>NaN</td>\n",
       "      <td>4.097909</td>\n",
       "      <td>NaN</td>\n",
       "      <td>NaN</td>\n",
       "      <td>NaN</td>\n",
       "      <td>NaN</td>\n",
       "      <td>NaN</td>\n",
       "      <td>2.476635e+09</td>\n",
       "      <td>NaN</td>\n",
       "      <td>NaN</td>\n",
       "    </tr>\n",
       "    <tr>\n",
       "      <th>min</th>\n",
       "      <td>NaN</td>\n",
       "      <td>1973.000000</td>\n",
       "      <td>NaN</td>\n",
       "      <td>NaN</td>\n",
       "      <td>NaN</td>\n",
       "      <td>NaN</td>\n",
       "      <td>NaN</td>\n",
       "      <td>1.270000e+04</td>\n",
       "      <td>NaN</td>\n",
       "      <td>NaN</td>\n",
       "    </tr>\n",
       "    <tr>\n",
       "      <th>25%</th>\n",
       "      <td>NaN</td>\n",
       "      <td>2014.000000</td>\n",
       "      <td>NaN</td>\n",
       "      <td>NaN</td>\n",
       "      <td>NaN</td>\n",
       "      <td>NaN</td>\n",
       "      <td>NaN</td>\n",
       "      <td>1.000000e+06</td>\n",
       "      <td>NaN</td>\n",
       "      <td>NaN</td>\n",
       "    </tr>\n",
       "    <tr>\n",
       "      <th>50%</th>\n",
       "      <td>NaN</td>\n",
       "      <td>2016.000000</td>\n",
       "      <td>NaN</td>\n",
       "      <td>NaN</td>\n",
       "      <td>NaN</td>\n",
       "      <td>NaN</td>\n",
       "      <td>NaN</td>\n",
       "      <td>3.000000e+06</td>\n",
       "      <td>NaN</td>\n",
       "      <td>NaN</td>\n",
       "    </tr>\n",
       "    <tr>\n",
       "      <th>75%</th>\n",
       "      <td>NaN</td>\n",
       "      <td>2018.000000</td>\n",
       "      <td>NaN</td>\n",
       "      <td>NaN</td>\n",
       "      <td>NaN</td>\n",
       "      <td>NaN</td>\n",
       "      <td>NaN</td>\n",
       "      <td>1.100000e+07</td>\n",
       "      <td>NaN</td>\n",
       "      <td>NaN</td>\n",
       "    </tr>\n",
       "    <tr>\n",
       "      <th>max</th>\n",
       "      <td>NaN</td>\n",
       "      <td>2020.000000</td>\n",
       "      <td>NaN</td>\n",
       "      <td>NaN</td>\n",
       "      <td>NaN</td>\n",
       "      <td>NaN</td>\n",
       "      <td>NaN</td>\n",
       "      <td>7.000000e+10</td>\n",
       "      <td>NaN</td>\n",
       "      <td>NaN</td>\n",
       "    </tr>\n",
       "  </tbody>\n",
       "</table>\n",
       "</div>"
      ],
      "text/plain": [
       "       Company_Brand      Founded HeadQuarter   Sector  \\\n",
       "count           1055   842.000000         961     1042   \n",
       "unique           905          NaN          77      302   \n",
       "top            Nykaa          NaN   Bangalore  Fintech   \n",
       "freq               6          NaN         317       80   \n",
       "mean             NaN  2015.363420         NaN      NaN   \n",
       "std              NaN     4.097909         NaN      NaN   \n",
       "min              NaN  1973.000000         NaN      NaN   \n",
       "25%              NaN  2014.000000         NaN      NaN   \n",
       "50%              NaN  2016.000000         NaN      NaN   \n",
       "75%              NaN  2018.000000         NaN      NaN   \n",
       "max              NaN  2020.000000         NaN      NaN   \n",
       "\n",
       "                            What_it_does       Founders           Investor  \\\n",
       "count                               1055           1043               1017   \n",
       "unique                               990            927                848   \n",
       "top     Provides online learning classes  Falguni Nayar  Venture Catalysts   \n",
       "freq                                   4              6                 20   \n",
       "mean                                 NaN            NaN                NaN   \n",
       "std                                  NaN            NaN                NaN   \n",
       "min                                  NaN            NaN                NaN   \n",
       "25%                                  NaN            NaN                NaN   \n",
       "50%                                  NaN            NaN                NaN   \n",
       "75%                                  NaN            NaN                NaN   \n",
       "max                                  NaN            NaN                NaN   \n",
       "\n",
       "              Amount     Stage  column10  \n",
       "count   8.010000e+02       591         2  \n",
       "unique           NaN        42         2  \n",
       "top              NaN  Series A  Pre-Seed  \n",
       "freq             NaN        96         1  \n",
       "mean    1.130430e+08       NaN       NaN  \n",
       "std     2.476635e+09       NaN       NaN  \n",
       "min     1.270000e+04       NaN       NaN  \n",
       "25%     1.000000e+06       NaN       NaN  \n",
       "50%     3.000000e+06       NaN       NaN  \n",
       "75%     1.100000e+07       NaN       NaN  \n",
       "max     7.000000e+10       NaN       NaN  "
      ]
     },
     "execution_count": 25,
     "metadata": {},
     "output_type": "execute_result"
    }
   ],
   "source": [
    "# Describe the data\n",
    "data_2020.describe(include='all')"
   ]
  },
  {
   "cell_type": "markdown",
   "id": "5baaaf89",
   "metadata": {},
   "source": [
    "Findings\n",
    "\n",
    "Nykaa company was the most common company\n",
    "\n",
    "Majority of the companies had their headquarter at Bangalore\n",
    "\n",
    "The average Amount invested was 113042969.54"
   ]
  },
  {
   "cell_type": "markdown",
   "id": "bcc8d0d1",
   "metadata": {},
   "source": [
    "#### __2.4 2021 Dataset EDA__ "
   ]
  },
  {
   "cell_type": "code",
   "execution_count": 26,
   "id": "b13ad570",
   "metadata": {},
   "outputs": [
    {
     "data": {
      "text/html": [
       "<div>\n",
       "<style scoped>\n",
       "    .dataframe tbody tr th:only-of-type {\n",
       "        vertical-align: middle;\n",
       "    }\n",
       "\n",
       "    .dataframe tbody tr th {\n",
       "        vertical-align: top;\n",
       "    }\n",
       "\n",
       "    .dataframe thead th {\n",
       "        text-align: right;\n",
       "    }\n",
       "</style>\n",
       "<table border=\"1\" class=\"dataframe\">\n",
       "  <thead>\n",
       "    <tr style=\"text-align: right;\">\n",
       "      <th></th>\n",
       "      <th>Company_Brand</th>\n",
       "      <th>Founded</th>\n",
       "      <th>HeadQuarter</th>\n",
       "      <th>Sector</th>\n",
       "      <th>What_it_does</th>\n",
       "      <th>Founders</th>\n",
       "      <th>Investor</th>\n",
       "      <th>Amount</th>\n",
       "      <th>Stage</th>\n",
       "      <th>column10</th>\n",
       "    </tr>\n",
       "  </thead>\n",
       "  <tbody>\n",
       "    <tr>\n",
       "      <th>0</th>\n",
       "      <td>Aqgromalin</td>\n",
       "      <td>2019.0</td>\n",
       "      <td>Chennai</td>\n",
       "      <td>AgriTech</td>\n",
       "      <td>Cultivating Ideas for Profit</td>\n",
       "      <td>Prasanna Manogaran, Bharani C L</td>\n",
       "      <td>Angel investors</td>\n",
       "      <td>200000.0</td>\n",
       "      <td>None</td>\n",
       "      <td>None</td>\n",
       "    </tr>\n",
       "    <tr>\n",
       "      <th>1</th>\n",
       "      <td>Krayonnz</td>\n",
       "      <td>2019.0</td>\n",
       "      <td>Bangalore</td>\n",
       "      <td>EdTech</td>\n",
       "      <td>An academy-guardian-scholar centric ecosystem ...</td>\n",
       "      <td>Saurabh Dixit, Gurudutt Upadhyay</td>\n",
       "      <td>GSF Accelerator</td>\n",
       "      <td>100000.0</td>\n",
       "      <td>Pre-seed</td>\n",
       "      <td>None</td>\n",
       "    </tr>\n",
       "    <tr>\n",
       "      <th>2</th>\n",
       "      <td>PadCare Labs</td>\n",
       "      <td>2018.0</td>\n",
       "      <td>Pune</td>\n",
       "      <td>Hygiene management</td>\n",
       "      <td>Converting bio-hazardous waste to harmless waste</td>\n",
       "      <td>Ajinkya Dhariya</td>\n",
       "      <td>Venture Center</td>\n",
       "      <td>NaN</td>\n",
       "      <td>Pre-seed</td>\n",
       "      <td>None</td>\n",
       "    </tr>\n",
       "  </tbody>\n",
       "</table>\n",
       "</div>"
      ],
      "text/plain": [
       "  Company_Brand  Founded HeadQuarter              Sector  \\\n",
       "0    Aqgromalin   2019.0     Chennai            AgriTech   \n",
       "1      Krayonnz   2019.0   Bangalore              EdTech   \n",
       "2  PadCare Labs   2018.0        Pune  Hygiene management   \n",
       "\n",
       "                                        What_it_does  \\\n",
       "0                       Cultivating Ideas for Profit   \n",
       "1  An academy-guardian-scholar centric ecosystem ...   \n",
       "2   Converting bio-hazardous waste to harmless waste   \n",
       "\n",
       "                           Founders         Investor    Amount     Stage  \\\n",
       "0   Prasanna Manogaran, Bharani C L  Angel investors  200000.0      None   \n",
       "1  Saurabh Dixit, Gurudutt Upadhyay  GSF Accelerator  100000.0  Pre-seed   \n",
       "2                   Ajinkya Dhariya   Venture Center       NaN  Pre-seed   \n",
       "\n",
       "  column10  \n",
       "0     None  \n",
       "1     None  \n",
       "2     None  "
      ]
     },
     "execution_count": 26,
     "metadata": {},
     "output_type": "execute_result"
    }
   ],
   "source": [
    "# Overview of 2018 dataset\n",
    "data_2020.head(3)\n"
   ]
  },
  {
   "cell_type": "code",
   "execution_count": 27,
   "id": "f0d97de9",
   "metadata": {},
   "outputs": [
    {
     "name": "stdout",
     "output_type": "stream",
     "text": [
      "(1209, 9)\n",
      "The 2021 dataset has 1209 rows and 9 Columns\n"
     ]
    }
   ],
   "source": [
    "# get the number of rows and columns for the datasets\n",
    "print(f'{data_2021.shape}')\n",
    "\n",
    "print(f\"The 2021 dataset has {data_2021.shape[0]} rows and {data_2021.shape[1]} Columns\")"
   ]
  },
  {
   "cell_type": "code",
   "execution_count": 28,
   "id": "b6b5af70",
   "metadata": {},
   "outputs": [
    {
     "name": "stdout",
     "output_type": "stream",
     "text": [
      "There are  19 duplicate(s)\n"
     ]
    }
   ],
   "source": [
    "# checking for duplicates\n",
    "print(\"There are \",data_2021.duplicated().sum(),\"duplicate(s)\")"
   ]
  },
  {
   "cell_type": "code",
   "execution_count": 29,
   "id": "0252bbf5",
   "metadata": {},
   "outputs": [
    {
     "data": {
      "text/plain": [
       "Company_Brand      0\n",
       "Founded            1\n",
       "HeadQuarter        1\n",
       "Sector             0\n",
       "What_it_does       0\n",
       "Founders           4\n",
       "Investor          62\n",
       "Amount             3\n",
       "Stage            428\n",
       "dtype: int64"
      ]
     },
     "execution_count": 29,
     "metadata": {},
     "output_type": "execute_result"
    }
   ],
   "source": [
    "#  Checking for nulls\n",
    "data_2021.isnull().sum()"
   ]
  },
  {
   "cell_type": "code",
   "execution_count": 30,
   "id": "c2e399d0",
   "metadata": {},
   "outputs": [
    {
     "name": "stdout",
     "output_type": "stream",
     "text": [
      "<class 'pandas.core.frame.DataFrame'>\n",
      "RangeIndex: 1209 entries, 0 to 1208\n",
      "Data columns (total 9 columns):\n",
      " #   Column         Non-Null Count  Dtype  \n",
      "---  ------         --------------  -----  \n",
      " 0   Company_Brand  1209 non-null   object \n",
      " 1   Founded        1208 non-null   float64\n",
      " 2   HeadQuarter    1208 non-null   object \n",
      " 3   Sector         1209 non-null   object \n",
      " 4   What_it_does   1209 non-null   object \n",
      " 5   Founders       1205 non-null   object \n",
      " 6   Investor       1147 non-null   object \n",
      " 7   Amount         1206 non-null   object \n",
      " 8   Stage          781 non-null    object \n",
      "dtypes: float64(1), object(8)\n",
      "memory usage: 85.1+ KB\n"
     ]
    }
   ],
   "source": [
    "# checking for datatypes in the different columns\n",
    "data_2021.info()"
   ]
  },
  {
   "cell_type": "code",
   "execution_count": 31,
   "id": "7d798dcc",
   "metadata": {},
   "outputs": [
    {
     "data": {
      "text/html": [
       "<div>\n",
       "<style scoped>\n",
       "    .dataframe tbody tr th:only-of-type {\n",
       "        vertical-align: middle;\n",
       "    }\n",
       "\n",
       "    .dataframe tbody tr th {\n",
       "        vertical-align: top;\n",
       "    }\n",
       "\n",
       "    .dataframe thead th {\n",
       "        text-align: right;\n",
       "    }\n",
       "</style>\n",
       "<table border=\"1\" class=\"dataframe\">\n",
       "  <thead>\n",
       "    <tr style=\"text-align: right;\">\n",
       "      <th></th>\n",
       "      <th>Company_Brand</th>\n",
       "      <th>Founded</th>\n",
       "      <th>HeadQuarter</th>\n",
       "      <th>Sector</th>\n",
       "      <th>What_it_does</th>\n",
       "      <th>Founders</th>\n",
       "      <th>Investor</th>\n",
       "      <th>Amount</th>\n",
       "      <th>Stage</th>\n",
       "    </tr>\n",
       "  </thead>\n",
       "  <tbody>\n",
       "    <tr>\n",
       "      <th>count</th>\n",
       "      <td>1209</td>\n",
       "      <td>1208.000000</td>\n",
       "      <td>1208</td>\n",
       "      <td>1209</td>\n",
       "      <td>1209</td>\n",
       "      <td>1205</td>\n",
       "      <td>1147</td>\n",
       "      <td>1206</td>\n",
       "      <td>781</td>\n",
       "    </tr>\n",
       "    <tr>\n",
       "      <th>unique</th>\n",
       "      <td>1033</td>\n",
       "      <td>NaN</td>\n",
       "      <td>70</td>\n",
       "      <td>254</td>\n",
       "      <td>1143</td>\n",
       "      <td>1095</td>\n",
       "      <td>937</td>\n",
       "      <td>278</td>\n",
       "      <td>31</td>\n",
       "    </tr>\n",
       "    <tr>\n",
       "      <th>top</th>\n",
       "      <td>BharatPe</td>\n",
       "      <td>NaN</td>\n",
       "      <td>Bangalore</td>\n",
       "      <td>FinTech</td>\n",
       "      <td>BharatPe develops a QR code-based payment app ...</td>\n",
       "      <td>Ashneer Grover, Shashvat Nakrani</td>\n",
       "      <td>Inflection Point Ventures</td>\n",
       "      <td>$Undisclosed</td>\n",
       "      <td>Seed</td>\n",
       "    </tr>\n",
       "    <tr>\n",
       "      <th>freq</th>\n",
       "      <td>8</td>\n",
       "      <td>NaN</td>\n",
       "      <td>426</td>\n",
       "      <td>122</td>\n",
       "      <td>4</td>\n",
       "      <td>7</td>\n",
       "      <td>24</td>\n",
       "      <td>73</td>\n",
       "      <td>246</td>\n",
       "    </tr>\n",
       "    <tr>\n",
       "      <th>mean</th>\n",
       "      <td>NaN</td>\n",
       "      <td>2016.655629</td>\n",
       "      <td>NaN</td>\n",
       "      <td>NaN</td>\n",
       "      <td>NaN</td>\n",
       "      <td>NaN</td>\n",
       "      <td>NaN</td>\n",
       "      <td>NaN</td>\n",
       "      <td>NaN</td>\n",
       "    </tr>\n",
       "    <tr>\n",
       "      <th>std</th>\n",
       "      <td>NaN</td>\n",
       "      <td>4.517364</td>\n",
       "      <td>NaN</td>\n",
       "      <td>NaN</td>\n",
       "      <td>NaN</td>\n",
       "      <td>NaN</td>\n",
       "      <td>NaN</td>\n",
       "      <td>NaN</td>\n",
       "      <td>NaN</td>\n",
       "    </tr>\n",
       "    <tr>\n",
       "      <th>min</th>\n",
       "      <td>NaN</td>\n",
       "      <td>1963.000000</td>\n",
       "      <td>NaN</td>\n",
       "      <td>NaN</td>\n",
       "      <td>NaN</td>\n",
       "      <td>NaN</td>\n",
       "      <td>NaN</td>\n",
       "      <td>NaN</td>\n",
       "      <td>NaN</td>\n",
       "    </tr>\n",
       "    <tr>\n",
       "      <th>25%</th>\n",
       "      <td>NaN</td>\n",
       "      <td>2015.000000</td>\n",
       "      <td>NaN</td>\n",
       "      <td>NaN</td>\n",
       "      <td>NaN</td>\n",
       "      <td>NaN</td>\n",
       "      <td>NaN</td>\n",
       "      <td>NaN</td>\n",
       "      <td>NaN</td>\n",
       "    </tr>\n",
       "    <tr>\n",
       "      <th>50%</th>\n",
       "      <td>NaN</td>\n",
       "      <td>2018.000000</td>\n",
       "      <td>NaN</td>\n",
       "      <td>NaN</td>\n",
       "      <td>NaN</td>\n",
       "      <td>NaN</td>\n",
       "      <td>NaN</td>\n",
       "      <td>NaN</td>\n",
       "      <td>NaN</td>\n",
       "    </tr>\n",
       "    <tr>\n",
       "      <th>75%</th>\n",
       "      <td>NaN</td>\n",
       "      <td>2020.000000</td>\n",
       "      <td>NaN</td>\n",
       "      <td>NaN</td>\n",
       "      <td>NaN</td>\n",
       "      <td>NaN</td>\n",
       "      <td>NaN</td>\n",
       "      <td>NaN</td>\n",
       "      <td>NaN</td>\n",
       "    </tr>\n",
       "    <tr>\n",
       "      <th>max</th>\n",
       "      <td>NaN</td>\n",
       "      <td>2021.000000</td>\n",
       "      <td>NaN</td>\n",
       "      <td>NaN</td>\n",
       "      <td>NaN</td>\n",
       "      <td>NaN</td>\n",
       "      <td>NaN</td>\n",
       "      <td>NaN</td>\n",
       "      <td>NaN</td>\n",
       "    </tr>\n",
       "  </tbody>\n",
       "</table>\n",
       "</div>"
      ],
      "text/plain": [
       "       Company_Brand      Founded HeadQuarter   Sector  \\\n",
       "count           1209  1208.000000        1208     1209   \n",
       "unique          1033          NaN          70      254   \n",
       "top         BharatPe          NaN   Bangalore  FinTech   \n",
       "freq               8          NaN         426      122   \n",
       "mean             NaN  2016.655629         NaN      NaN   \n",
       "std              NaN     4.517364         NaN      NaN   \n",
       "min              NaN  1963.000000         NaN      NaN   \n",
       "25%              NaN  2015.000000         NaN      NaN   \n",
       "50%              NaN  2018.000000         NaN      NaN   \n",
       "75%              NaN  2020.000000         NaN      NaN   \n",
       "max              NaN  2021.000000         NaN      NaN   \n",
       "\n",
       "                                             What_it_does  \\\n",
       "count                                                1209   \n",
       "unique                                               1143   \n",
       "top     BharatPe develops a QR code-based payment app ...   \n",
       "freq                                                    4   \n",
       "mean                                                  NaN   \n",
       "std                                                   NaN   \n",
       "min                                                   NaN   \n",
       "25%                                                   NaN   \n",
       "50%                                                   NaN   \n",
       "75%                                                   NaN   \n",
       "max                                                   NaN   \n",
       "\n",
       "                                Founders                   Investor  \\\n",
       "count                               1205                       1147   \n",
       "unique                              1095                        937   \n",
       "top     Ashneer Grover, Shashvat Nakrani  Inflection Point Ventures   \n",
       "freq                                   7                         24   \n",
       "mean                                 NaN                        NaN   \n",
       "std                                  NaN                        NaN   \n",
       "min                                  NaN                        NaN   \n",
       "25%                                  NaN                        NaN   \n",
       "50%                                  NaN                        NaN   \n",
       "75%                                  NaN                        NaN   \n",
       "max                                  NaN                        NaN   \n",
       "\n",
       "              Amount Stage  \n",
       "count           1206   781  \n",
       "unique           278    31  \n",
       "top     $Undisclosed  Seed  \n",
       "freq              73   246  \n",
       "mean             NaN   NaN  \n",
       "std              NaN   NaN  \n",
       "min              NaN   NaN  \n",
       "25%              NaN   NaN  \n",
       "50%              NaN   NaN  \n",
       "75%              NaN   NaN  \n",
       "max              NaN   NaN  "
      ]
     },
     "execution_count": 31,
     "metadata": {},
     "output_type": "execute_result"
    }
   ],
   "source": [
    "# Describe the dataset\n",
    "data_2021.describe(include='all')"
   ]
  },
  {
   "cell_type": "markdown",
   "id": "9aabbac7",
   "metadata": {},
   "source": [
    "__Findings__\n",
    "\n",
    "- BharatPe is the most common company\n",
    "\n",
    "- Most companies invested in the FinTech sector\n",
    "\n",
    "- Majority of the companies were found in Bangalore\n",
    "\n",
    "__Overall Observations: Issues with the data__\n",
    "\n",
    "There is a discrepancy in the naming conventions between the columns in the 2018 and 2019 datasets compared to the 2020 and 2021 datasets.\n",
    "\n",
    "The 2018 dataset exhibits some missing columns, contributing to an incomplete representation of the data.\n",
    "\n",
    "Conversely, the 2020 dataset contains an additional column that appears to be extraneous and does not serve a meaningful purpose in our analysis.\n",
    "\n",
    "__Course of Action:__\n",
    "\n",
    "__Missing Column Engineering for 2018:__\n",
    "\n",
    "We will address the absence of certain columns in the 2018 dataset by employing data engineering techniques to create and populate the missing columns, ensuring a comprehensive and consistent dataset.\n",
    "Column Name Standardization:\n",
    "\n",
    "To establish uniformity and coherence across all datasets, we will embark on a column renaming process for the 2018 and 2019 datasets. This action aims to align the naming conventions with those observed in the 2020 and 2021 datasets, facilitating seamless data integration and analysis.\n",
    "Extraneous Column Removal in 2020:\n",
    "\n",
    "The redundant column identified in the 2020 dataset will be removed, streamlining the dataset and eliminating unnecessary elements that do not contribute to the overall analysis objectives.\n",
    "These actions collectively enhance the integrity, consistency, and completeness of the dataset, paving the way for a more robust and coherent analytical process. ical process."
   ]
  },
  {
   "cell_type": "markdown",
   "id": "7bff8f97",
   "metadata": {},
   "source": [
    " #### Displaying Datasets columns"
   ]
  },
  {
   "cell_type": "code",
   "execution_count": 32,
   "id": "68f13a1d",
   "metadata": {},
   "outputs": [
    {
     "name": "stdout",
     "output_type": "stream",
     "text": [
      "columns for 2021_dataset: \n",
      " Index(['Company_Brand', 'Founded', 'HeadQuarter', 'Sector', 'What_it_does',\n",
      "       'Founders', 'Investor', 'Amount', 'Stage'],\n",
      "      dtype='object')\n",
      "columns for 2020_dataset: \n",
      " Index(['Company_Brand', 'Founded', 'HeadQuarter', 'Sector', 'What_it_does',\n",
      "       'Founders', 'Investor', 'Amount', 'Stage', 'column10'],\n",
      "      dtype='object')\n",
      "columns for 2019_dataset: \n",
      " Index(['Company/Brand', 'Founded', 'HeadQuarter', 'Sector', 'What it does',\n",
      "       'Founders', 'Investor', 'Amount($)', 'Stage', 'year'],\n",
      "      dtype='object')\n",
      "columns for 2018_dataset: \n",
      " Index(['Company Name', 'Industry', 'Round/Series', 'Amount', 'Location',\n",
      "       'About Company', 'year'],\n",
      "      dtype='object')\n"
     ]
    }
   ],
   "source": [
    "print(\"columns for 2021_dataset:\",\"\\n\",data_2021.columns)\n",
    "print(\"columns for 2020_dataset:\",\"\\n\",data_2020.columns)\n",
    "print(\"columns for 2019_dataset:\",\"\\n\",data_2019.columns)\n",
    "print(\"columns for 2018_dataset:\",\"\\n\",data_2018.columns)"
   ]
  },
  {
   "cell_type": "markdown",
   "id": "42d92467",
   "metadata": {},
   "source": [
    "## 3. __Data Cleaning and Preparation__"
   ]
  },
  {
   "cell_type": "markdown",
   "id": "963ae38f",
   "metadata": {},
   "source": [
    "### 3.1. __Convert Indian Rupee values in the 2018 data to dollars__ ###"
   ]
  },
  {
   "cell_type": "code",
   "execution_count": 33,
   "id": "e02cc7cc",
   "metadata": {},
   "outputs": [],
   "source": [
    "# Replace '₹', commas, '—', and \"''\" in 'Amount' column\n",
    "data_2018['Amount'] = data_2018['Amount'].str.replace(',', '').str.replace('—', '').str.replace(\"''\",'').replace('', np.nan)\n",
    "\n",
    "# Conditionally apply multiplication only where '₹' is present\n",
    "mask = data_2018['Amount'].str.contains('₹', na=False)\n",
    "data_2018.loc[mask, 'Amount'] = data_2018.loc[mask, 'Amount'].str.replace('₹', '').astype(float) * 0.0146\n"
   ]
  },
  {
   "cell_type": "code",
   "execution_count": 34,
   "id": "09320e4d",
   "metadata": {},
   "outputs": [],
   "source": [
    "# add year when data was collected column to every dataset\n",
    "data_2018['year'] = pd.to_datetime('2018', format='%Y').year\n",
    "data_2019['year'] = pd.to_datetime('2019', format='%Y').year\n",
    "data_2020['year'] = pd.to_datetime('2020', format='%Y').year\n",
    "data_2021['year'] = pd.to_datetime('2021', format='%Y').year"
   ]
  },
  {
   "cell_type": "markdown",
   "id": "ab2690b0",
   "metadata": {},
   "source": [
    "Add year data was collected\n",
    "There is need to add a column that represents the year each dataset was collected. This will help with handling the datasets after merging the dataframes"
   ]
  },
  {
   "cell_type": "markdown",
   "id": "d368f213",
   "metadata": {},
   "source": [
    "#### Concatinating our datasets i.e data_2021, data_2020, data_2019, data_2018"
   ]
  },
  {
   "cell_type": "code",
   "execution_count": 35,
   "id": "a26010f9",
   "metadata": {},
   "outputs": [],
   "source": [
    "def concat_dataframes(data_2020,data_2021,data_2018,data_2019):\n",
    "    \"\"\"\n",
    "    Concatenates four dataframes along the row axis.\n",
    " \n",
    "    Parameters:\n",
    "    data_2020 (pandas.DataFrame): The first dataframe to concatenate.\n",
    "    data_2021 (pandas.DataFrame): The second dataframe to concatenate.\n",
    "    LP1_dataset (pandas.DataFrame): The third dataframe to concatenate.\n",
    "    LP2_dataset (pandas.DataFrame): The fourth dataframe to concatenate.\n",
    " \n",
    "    Returns:\n",
    "    pandas.DataFrame: The concatenated dataframe.\n",
    "    \"\"\"\n",
    "    # Rename columns to make them consistent across dataframes\n",
    "    df1 = data_2020.rename(columns={'Company_Brand': 'company_brand', 'Founded': 'founded','HeadQuarter': 'headquarter','Sector': 'sector','What_it_does': 'about_company','Founders':'founders','Investor':'investor','Amount':'amount','Stage':'series'})\n",
    "    df2 = data_2021.rename(columns={'Company_Brand': 'company_brand', 'Founded': 'founded','HeadQuarter': 'headquarter','Sector': 'sector','What_it_does': 'about_company','Founders':'founders','Investor':'investor','Amount':'amount','Stage':'series'})\n",
    "    df3 = data_2019.rename(columns={'Company/Brand': 'company_brand', 'Founded': 'founded','HeadQuarter': 'headquarter','Sector': 'sector','What it does': 'about_company','Founders':'founders','Investor':'investor','Amount($)':'amount','Stage':'series'})\n",
    "    df4 = data_2018.rename(columns={'Company Name': 'company_brand','Location': 'headquarter','Industry': 'sector','About Company': 'about_company','Amount':'amount','Round/Series':'series'})\n",
    " \n",
    "    # Concatenate dataframes along the row axis\n",
    "    result = pd.concat([df1,df2,df3,df4], axis=0).reset_index(drop=True)\n",
    " \n",
    "    return result"
   ]
  },
  {
   "cell_type": "code",
   "execution_count": 36,
   "id": "8e2802ff",
   "metadata": {},
   "outputs": [
    {
     "data": {
      "text/html": [
       "<div>\n",
       "<style scoped>\n",
       "    .dataframe tbody tr th:only-of-type {\n",
       "        vertical-align: middle;\n",
       "    }\n",
       "\n",
       "    .dataframe tbody tr th {\n",
       "        vertical-align: top;\n",
       "    }\n",
       "\n",
       "    .dataframe thead th {\n",
       "        text-align: right;\n",
       "    }\n",
       "</style>\n",
       "<table border=\"1\" class=\"dataframe\">\n",
       "  <thead>\n",
       "    <tr style=\"text-align: right;\">\n",
       "      <th></th>\n",
       "      <th>company_brand</th>\n",
       "      <th>founded</th>\n",
       "      <th>headquarter</th>\n",
       "      <th>sector</th>\n",
       "      <th>about_company</th>\n",
       "      <th>founders</th>\n",
       "      <th>investor</th>\n",
       "      <th>amount</th>\n",
       "      <th>series</th>\n",
       "      <th>column10</th>\n",
       "      <th>year</th>\n",
       "    </tr>\n",
       "  </thead>\n",
       "  <tbody>\n",
       "    <tr>\n",
       "      <th>0</th>\n",
       "      <td>Aqgromalin</td>\n",
       "      <td>2019.0</td>\n",
       "      <td>Chennai</td>\n",
       "      <td>AgriTech</td>\n",
       "      <td>Cultivating Ideas for Profit</td>\n",
       "      <td>Prasanna Manogaran, Bharani C L</td>\n",
       "      <td>Angel investors</td>\n",
       "      <td>200000.0</td>\n",
       "      <td>None</td>\n",
       "      <td>None</td>\n",
       "      <td>2020</td>\n",
       "    </tr>\n",
       "    <tr>\n",
       "      <th>1</th>\n",
       "      <td>Krayonnz</td>\n",
       "      <td>2019.0</td>\n",
       "      <td>Bangalore</td>\n",
       "      <td>EdTech</td>\n",
       "      <td>An academy-guardian-scholar centric ecosystem ...</td>\n",
       "      <td>Saurabh Dixit, Gurudutt Upadhyay</td>\n",
       "      <td>GSF Accelerator</td>\n",
       "      <td>100000.0</td>\n",
       "      <td>Pre-seed</td>\n",
       "      <td>None</td>\n",
       "      <td>2020</td>\n",
       "    </tr>\n",
       "    <tr>\n",
       "      <th>2</th>\n",
       "      <td>PadCare Labs</td>\n",
       "      <td>2018.0</td>\n",
       "      <td>Pune</td>\n",
       "      <td>Hygiene management</td>\n",
       "      <td>Converting bio-hazardous waste to harmless waste</td>\n",
       "      <td>Ajinkya Dhariya</td>\n",
       "      <td>Venture Center</td>\n",
       "      <td>NaN</td>\n",
       "      <td>Pre-seed</td>\n",
       "      <td>None</td>\n",
       "      <td>2020</td>\n",
       "    </tr>\n",
       "    <tr>\n",
       "      <th>3</th>\n",
       "      <td>NCOME</td>\n",
       "      <td>2020.0</td>\n",
       "      <td>New Delhi</td>\n",
       "      <td>Escrow</td>\n",
       "      <td>Escrow-as-a-service platform</td>\n",
       "      <td>Ritesh Tiwari</td>\n",
       "      <td>Venture Catalysts, PointOne Capital</td>\n",
       "      <td>400000.0</td>\n",
       "      <td>None</td>\n",
       "      <td>None</td>\n",
       "      <td>2020</td>\n",
       "    </tr>\n",
       "    <tr>\n",
       "      <th>4</th>\n",
       "      <td>Gramophone</td>\n",
       "      <td>2016.0</td>\n",
       "      <td>Indore</td>\n",
       "      <td>AgriTech</td>\n",
       "      <td>Gramophone is an AgTech platform enabling acce...</td>\n",
       "      <td>Ashish Rajan Singh, Harshit Gupta, Nishant Mah...</td>\n",
       "      <td>Siana Capital Management, Info Edge</td>\n",
       "      <td>340000.0</td>\n",
       "      <td>None</td>\n",
       "      <td>None</td>\n",
       "      <td>2020</td>\n",
       "    </tr>\n",
       "  </tbody>\n",
       "</table>\n",
       "</div>"
      ],
      "text/plain": [
       "  company_brand  founded headquarter              sector  \\\n",
       "0    Aqgromalin   2019.0     Chennai            AgriTech   \n",
       "1      Krayonnz   2019.0   Bangalore              EdTech   \n",
       "2  PadCare Labs   2018.0        Pune  Hygiene management   \n",
       "3         NCOME   2020.0   New Delhi              Escrow   \n",
       "4    Gramophone   2016.0      Indore            AgriTech   \n",
       "\n",
       "                                       about_company  \\\n",
       "0                       Cultivating Ideas for Profit   \n",
       "1  An academy-guardian-scholar centric ecosystem ...   \n",
       "2   Converting bio-hazardous waste to harmless waste   \n",
       "3                       Escrow-as-a-service platform   \n",
       "4  Gramophone is an AgTech platform enabling acce...   \n",
       "\n",
       "                                            founders  \\\n",
       "0                    Prasanna Manogaran, Bharani C L   \n",
       "1                   Saurabh Dixit, Gurudutt Upadhyay   \n",
       "2                                    Ajinkya Dhariya   \n",
       "3                                      Ritesh Tiwari   \n",
       "4  Ashish Rajan Singh, Harshit Gupta, Nishant Mah...   \n",
       "\n",
       "                              investor    amount    series column10  year  \n",
       "0                      Angel investors  200000.0      None     None  2020  \n",
       "1                      GSF Accelerator  100000.0  Pre-seed     None  2020  \n",
       "2                       Venture Center       NaN  Pre-seed     None  2020  \n",
       "3  Venture Catalysts, PointOne Capital  400000.0      None     None  2020  \n",
       "4  Siana Capital Management, Info Edge  340000.0      None     None  2020  "
      ]
     },
     "execution_count": 36,
     "metadata": {},
     "output_type": "execute_result"
    }
   ],
   "source": [
    "## combined dataset (df)\n",
    "df = concat_dataframes(data_2020,data_2021,data_2018,data_2019)\n",
    "df.head()"
   ]
  },
  {
   "cell_type": "code",
   "execution_count": 37,
   "id": "61a3396e",
   "metadata": {},
   "outputs": [
    {
     "name": "stdout",
     "output_type": "stream",
     "text": [
      "<class 'pandas.core.frame.DataFrame'>\n",
      "RangeIndex: 2879 entries, 0 to 2878\n",
      "Data columns (total 11 columns):\n",
      " #   Column         Non-Null Count  Dtype  \n",
      "---  ------         --------------  -----  \n",
      " 0   company_brand  2879 non-null   object \n",
      " 1   founded        2110 non-null   float64\n",
      " 2   headquarter    2765 non-null   object \n",
      " 3   sector         2861 non-null   object \n",
      " 4   about_company  2879 non-null   object \n",
      " 5   founders       2334 non-null   object \n",
      " 6   investor       2253 non-null   object \n",
      " 7   amount         2474 non-null   object \n",
      " 8   series         1941 non-null   object \n",
      " 9   column10       2 non-null      object \n",
      " 10  year           2879 non-null   int64  \n",
      "dtypes: float64(1), int64(1), object(9)\n",
      "memory usage: 247.5+ KB\n"
     ]
    }
   ],
   "source": [
    "# overview of combined dataset(2018-2021)\n",
    "df.info()"
   ]
  },
  {
   "cell_type": "code",
   "execution_count": 38,
   "id": "0817c8e1",
   "metadata": {},
   "outputs": [
    {
     "data": {
      "text/plain": [
       "(2879, 11)"
      ]
     },
     "execution_count": 38,
     "metadata": {},
     "output_type": "execute_result"
    }
   ],
   "source": [
    "df.shape"
   ]
  },
  {
   "cell_type": "code",
   "execution_count": 39,
   "id": "100ab921",
   "metadata": {},
   "outputs": [
    {
     "data": {
      "text/html": [
       "<div>\n",
       "<style scoped>\n",
       "    .dataframe tbody tr th:only-of-type {\n",
       "        vertical-align: middle;\n",
       "    }\n",
       "\n",
       "    .dataframe tbody tr th {\n",
       "        vertical-align: top;\n",
       "    }\n",
       "\n",
       "    .dataframe thead th {\n",
       "        text-align: right;\n",
       "    }\n",
       "</style>\n",
       "<table border=\"1\" class=\"dataframe\">\n",
       "  <thead>\n",
       "    <tr style=\"text-align: right;\">\n",
       "      <th></th>\n",
       "      <th>founded</th>\n",
       "      <th>year</th>\n",
       "    </tr>\n",
       "  </thead>\n",
       "  <tbody>\n",
       "    <tr>\n",
       "      <th>count</th>\n",
       "      <td>2110.000000</td>\n",
       "      <td>2879.000000</td>\n",
       "    </tr>\n",
       "    <tr>\n",
       "      <th>mean</th>\n",
       "      <td>2016.079621</td>\n",
       "      <td>2020.023619</td>\n",
       "    </tr>\n",
       "    <tr>\n",
       "      <th>std</th>\n",
       "      <td>4.368006</td>\n",
       "      <td>1.086974</td>\n",
       "    </tr>\n",
       "    <tr>\n",
       "      <th>min</th>\n",
       "      <td>1963.000000</td>\n",
       "      <td>2018.000000</td>\n",
       "    </tr>\n",
       "    <tr>\n",
       "      <th>25%</th>\n",
       "      <td>2015.000000</td>\n",
       "      <td>2020.000000</td>\n",
       "    </tr>\n",
       "    <tr>\n",
       "      <th>50%</th>\n",
       "      <td>2017.000000</td>\n",
       "      <td>2020.000000</td>\n",
       "    </tr>\n",
       "    <tr>\n",
       "      <th>75%</th>\n",
       "      <td>2019.000000</td>\n",
       "      <td>2021.000000</td>\n",
       "    </tr>\n",
       "    <tr>\n",
       "      <th>max</th>\n",
       "      <td>2021.000000</td>\n",
       "      <td>2021.000000</td>\n",
       "    </tr>\n",
       "  </tbody>\n",
       "</table>\n",
       "</div>"
      ],
      "text/plain": [
       "           founded         year\n",
       "count  2110.000000  2879.000000\n",
       "mean   2016.079621  2020.023619\n",
       "std       4.368006     1.086974\n",
       "min    1963.000000  2018.000000\n",
       "25%    2015.000000  2020.000000\n",
       "50%    2017.000000  2020.000000\n",
       "75%    2019.000000  2021.000000\n",
       "max    2021.000000  2021.000000"
      ]
     },
     "execution_count": 39,
     "metadata": {},
     "output_type": "execute_result"
    }
   ],
   "source": [
    "df.describe()"
   ]
  },
  {
   "cell_type": "code",
   "execution_count": 40,
   "id": "84ab3d54",
   "metadata": {},
   "outputs": [
    {
     "data": {
      "text/html": [
       "<div>\n",
       "<style scoped>\n",
       "    .dataframe tbody tr th:only-of-type {\n",
       "        vertical-align: middle;\n",
       "    }\n",
       "\n",
       "    .dataframe tbody tr th {\n",
       "        vertical-align: top;\n",
       "    }\n",
       "\n",
       "    .dataframe thead th {\n",
       "        text-align: right;\n",
       "    }\n",
       "</style>\n",
       "<table border=\"1\" class=\"dataframe\">\n",
       "  <thead>\n",
       "    <tr style=\"text-align: right;\">\n",
       "      <th></th>\n",
       "      <th>company_brand</th>\n",
       "      <th>founded</th>\n",
       "      <th>headquarter</th>\n",
       "      <th>sector</th>\n",
       "      <th>about_company</th>\n",
       "      <th>founders</th>\n",
       "      <th>investor</th>\n",
       "      <th>amount</th>\n",
       "      <th>series</th>\n",
       "      <th>column10</th>\n",
       "      <th>year</th>\n",
       "    </tr>\n",
       "  </thead>\n",
       "  <tbody>\n",
       "    <tr>\n",
       "      <th>count</th>\n",
       "      <td>2879</td>\n",
       "      <td>2110.000000</td>\n",
       "      <td>2765</td>\n",
       "      <td>2861</td>\n",
       "      <td>2879</td>\n",
       "      <td>2334</td>\n",
       "      <td>2253</td>\n",
       "      <td>2474</td>\n",
       "      <td>1941</td>\n",
       "      <td>2</td>\n",
       "      <td>2879.000000</td>\n",
       "    </tr>\n",
       "    <tr>\n",
       "      <th>unique</th>\n",
       "      <td>2214</td>\n",
       "      <td>NaN</td>\n",
       "      <td>172</td>\n",
       "      <td>873</td>\n",
       "      <td>2691</td>\n",
       "      <td>1980</td>\n",
       "      <td>1777</td>\n",
       "      <td>771</td>\n",
       "      <td>75</td>\n",
       "      <td>2</td>\n",
       "      <td>NaN</td>\n",
       "    </tr>\n",
       "    <tr>\n",
       "      <th>top</th>\n",
       "      <td>BharatPe</td>\n",
       "      <td>NaN</td>\n",
       "      <td>Bangalore</td>\n",
       "      <td>FinTech</td>\n",
       "      <td>Provides online learning classes</td>\n",
       "      <td>Byju Raveendran</td>\n",
       "      <td>Inflection Point Ventures</td>\n",
       "      <td>$Undisclosed</td>\n",
       "      <td>Seed</td>\n",
       "      <td>Pre-Seed</td>\n",
       "      <td>NaN</td>\n",
       "    </tr>\n",
       "    <tr>\n",
       "      <th>freq</th>\n",
       "      <td>10</td>\n",
       "      <td>NaN</td>\n",
       "      <td>764</td>\n",
       "      <td>173</td>\n",
       "      <td>5</td>\n",
       "      <td>7</td>\n",
       "      <td>36</td>\n",
       "      <td>73</td>\n",
       "      <td>606</td>\n",
       "      <td>1</td>\n",
       "      <td>NaN</td>\n",
       "    </tr>\n",
       "    <tr>\n",
       "      <th>mean</th>\n",
       "      <td>NaN</td>\n",
       "      <td>2016.079621</td>\n",
       "      <td>NaN</td>\n",
       "      <td>NaN</td>\n",
       "      <td>NaN</td>\n",
       "      <td>NaN</td>\n",
       "      <td>NaN</td>\n",
       "      <td>NaN</td>\n",
       "      <td>NaN</td>\n",
       "      <td>NaN</td>\n",
       "      <td>2020.023619</td>\n",
       "    </tr>\n",
       "    <tr>\n",
       "      <th>std</th>\n",
       "      <td>NaN</td>\n",
       "      <td>4.368006</td>\n",
       "      <td>NaN</td>\n",
       "      <td>NaN</td>\n",
       "      <td>NaN</td>\n",
       "      <td>NaN</td>\n",
       "      <td>NaN</td>\n",
       "      <td>NaN</td>\n",
       "      <td>NaN</td>\n",
       "      <td>NaN</td>\n",
       "      <td>1.086974</td>\n",
       "    </tr>\n",
       "    <tr>\n",
       "      <th>min</th>\n",
       "      <td>NaN</td>\n",
       "      <td>1963.000000</td>\n",
       "      <td>NaN</td>\n",
       "      <td>NaN</td>\n",
       "      <td>NaN</td>\n",
       "      <td>NaN</td>\n",
       "      <td>NaN</td>\n",
       "      <td>NaN</td>\n",
       "      <td>NaN</td>\n",
       "      <td>NaN</td>\n",
       "      <td>2018.000000</td>\n",
       "    </tr>\n",
       "    <tr>\n",
       "      <th>25%</th>\n",
       "      <td>NaN</td>\n",
       "      <td>2015.000000</td>\n",
       "      <td>NaN</td>\n",
       "      <td>NaN</td>\n",
       "      <td>NaN</td>\n",
       "      <td>NaN</td>\n",
       "      <td>NaN</td>\n",
       "      <td>NaN</td>\n",
       "      <td>NaN</td>\n",
       "      <td>NaN</td>\n",
       "      <td>2020.000000</td>\n",
       "    </tr>\n",
       "    <tr>\n",
       "      <th>50%</th>\n",
       "      <td>NaN</td>\n",
       "      <td>2017.000000</td>\n",
       "      <td>NaN</td>\n",
       "      <td>NaN</td>\n",
       "      <td>NaN</td>\n",
       "      <td>NaN</td>\n",
       "      <td>NaN</td>\n",
       "      <td>NaN</td>\n",
       "      <td>NaN</td>\n",
       "      <td>NaN</td>\n",
       "      <td>2020.000000</td>\n",
       "    </tr>\n",
       "    <tr>\n",
       "      <th>75%</th>\n",
       "      <td>NaN</td>\n",
       "      <td>2019.000000</td>\n",
       "      <td>NaN</td>\n",
       "      <td>NaN</td>\n",
       "      <td>NaN</td>\n",
       "      <td>NaN</td>\n",
       "      <td>NaN</td>\n",
       "      <td>NaN</td>\n",
       "      <td>NaN</td>\n",
       "      <td>NaN</td>\n",
       "      <td>2021.000000</td>\n",
       "    </tr>\n",
       "    <tr>\n",
       "      <th>max</th>\n",
       "      <td>NaN</td>\n",
       "      <td>2021.000000</td>\n",
       "      <td>NaN</td>\n",
       "      <td>NaN</td>\n",
       "      <td>NaN</td>\n",
       "      <td>NaN</td>\n",
       "      <td>NaN</td>\n",
       "      <td>NaN</td>\n",
       "      <td>NaN</td>\n",
       "      <td>NaN</td>\n",
       "      <td>2021.000000</td>\n",
       "    </tr>\n",
       "  </tbody>\n",
       "</table>\n",
       "</div>"
      ],
      "text/plain": [
       "       company_brand      founded headquarter   sector  \\\n",
       "count           2879  2110.000000        2765     2861   \n",
       "unique          2214          NaN         172      873   \n",
       "top         BharatPe          NaN   Bangalore  FinTech   \n",
       "freq              10          NaN         764      173   \n",
       "mean             NaN  2016.079621         NaN      NaN   \n",
       "std              NaN     4.368006         NaN      NaN   \n",
       "min              NaN  1963.000000         NaN      NaN   \n",
       "25%              NaN  2015.000000         NaN      NaN   \n",
       "50%              NaN  2017.000000         NaN      NaN   \n",
       "75%              NaN  2019.000000         NaN      NaN   \n",
       "max              NaN  2021.000000         NaN      NaN   \n",
       "\n",
       "                           about_company         founders  \\\n",
       "count                               2879             2334   \n",
       "unique                              2691             1980   \n",
       "top     Provides online learning classes  Byju Raveendran   \n",
       "freq                                   5                7   \n",
       "mean                                 NaN              NaN   \n",
       "std                                  NaN              NaN   \n",
       "min                                  NaN              NaN   \n",
       "25%                                  NaN              NaN   \n",
       "50%                                  NaN              NaN   \n",
       "75%                                  NaN              NaN   \n",
       "max                                  NaN              NaN   \n",
       "\n",
       "                         investor        amount series  column10         year  \n",
       "count                        2253          2474   1941         2  2879.000000  \n",
       "unique                       1777           771     75         2          NaN  \n",
       "top     Inflection Point Ventures  $Undisclosed   Seed  Pre-Seed          NaN  \n",
       "freq                           36            73    606         1          NaN  \n",
       "mean                          NaN           NaN    NaN       NaN  2020.023619  \n",
       "std                           NaN           NaN    NaN       NaN     1.086974  \n",
       "min                           NaN           NaN    NaN       NaN  2018.000000  \n",
       "25%                           NaN           NaN    NaN       NaN  2020.000000  \n",
       "50%                           NaN           NaN    NaN       NaN  2020.000000  \n",
       "75%                           NaN           NaN    NaN       NaN  2021.000000  \n",
       "max                           NaN           NaN    NaN       NaN  2021.000000  "
      ]
     },
     "execution_count": 40,
     "metadata": {},
     "output_type": "execute_result"
    }
   ],
   "source": [
    "df.describe(include='all')"
   ]
  },
  {
   "cell_type": "code",
   "execution_count": 41,
   "id": "41eba41b",
   "metadata": {},
   "outputs": [
    {
     "data": {
      "text/plain": [
       "company_brand       0\n",
       "founded           769\n",
       "headquarter       114\n",
       "sector             18\n",
       "about_company       0\n",
       "founders          545\n",
       "investor          626\n",
       "amount            405\n",
       "series            938\n",
       "column10         2877\n",
       "year                0\n",
       "dtype: int64"
      ]
     },
     "execution_count": 41,
     "metadata": {},
     "output_type": "execute_result"
    }
   ],
   "source": [
    "df.isna().sum()"
   ]
  },
  {
   "cell_type": "code",
   "execution_count": 42,
   "id": "e931744b",
   "metadata": {},
   "outputs": [
    {
     "data": {
      "text/plain": [
       "23"
      ]
     },
     "execution_count": 42,
     "metadata": {},
     "output_type": "execute_result"
    }
   ],
   "source": [
    "df.duplicated().sum()"
   ]
  },
  {
   "cell_type": "code",
   "execution_count": 43,
   "id": "10585aa1",
   "metadata": {},
   "outputs": [
    {
     "data": {
      "text/plain": [
       "company_brand    2214\n",
       "founded            34\n",
       "headquarter       172\n",
       "sector            873\n",
       "about_company    2691\n",
       "founders         1980\n",
       "investor         1777\n",
       "amount            771\n",
       "series             75\n",
       "column10            2\n",
       "year                4\n",
       "dtype: int64"
      ]
     },
     "execution_count": 43,
     "metadata": {},
     "output_type": "execute_result"
    }
   ],
   "source": [
    "df.nunique()"
   ]
  },
  {
   "cell_type": "markdown",
   "id": "2d9fe018",
   "metadata": {},
   "source": [
    "#### OBSERVATION\n",
    "\n",
    "Issues with the data\n",
    "1. There is a discrepancy in the naming conventions between the columns in the 2018 and 2019 datasets compared to the 2020 and 2021 datasets.\n",
    "\n",
    "2. The 2018 dataset exhibits some missing columns, contributing to an incomplete representation of the data.\n",
    "\n",
    "3. Conversely, the 2020 dataset contains an additional column that appears to be extraneous and does not serve a meaningful purpose in our analysis."
   ]
  },
  {
   "cell_type": "markdown",
   "id": "146cd604",
   "metadata": {},
   "source": [
    "##### Course of Action:\n",
    " **1. Missing Column Engineering for 2018:**\n",
    "---> We will address the absence of certain columns in the 2018 dataset by employing data engineering techniques to create and populate the missing columns, ensuring a comprehensive and consistent dataset.\n",
    "\n",
    "**2. Column Name Standardization:**\n",
    "---> To establish uniformity and coherence across all datasets, we will embark on a column renaming process for the 2018 and 2019 datasets. This action aims to align the naming conventions with those observed in the 2020 and 2021 datasets, facilitating seamless data integration and analysis.\n",
    "\n",
    "**3. Extraneous Column Removal in 2020:**\n",
    "---> The redundant column identified in the 2020 dataset will be removed, streamlining the dataset and eliminating unnecessary elements that do not contribute to the overall analysis objectives.\n",
    "\n",
    "These actions collectively enhance the integrity, consistency, and completeness of the dataset, paving the way for a more robust and coherent analytical process. ical process\n",
    "\n"
   ]
  },
  {
   "cell_type": "markdown",
   "id": "0944d13f",
   "metadata": {},
   "source": [
    "BUSINESS QUESTIONS\n",
    "\n",
    "1. How does funding vary across different industry sectors in India?\n",
    "2. How does funding vary with the loaction of the start-ups\n",
    "3. What is the relationship between the amount of funding and the stage of the company?\n",
    "4. How have funding trends evolved between 2018 and 2021?\n",
    "5. What are the most attractive sectors for investors?\n",
    "6. Does the location of the company influence its sector?\n",
    " "
   ]
  },
  {
   "cell_type": "code",
   "execution_count": 44,
   "id": "4f0e3ee7",
   "metadata": {},
   "outputs": [],
   "source": [
    "#Drop the extreneous column 10\n",
    "df.drop('column10', axis=1, inplace= True)"
   ]
  },
  {
   "cell_type": "markdown",
   "id": "f9a54d7e",
   "metadata": {},
   "source": [
    "### __4. DATA CLEANING ON EACH COLUMN__"
   ]
  },
  {
   "cell_type": "markdown",
   "id": "155e1452",
   "metadata": {},
   "source": [
    "#### __4.0 Cleaning 'Amount' column__ ####"
   ]
  },
  {
   "cell_type": "markdown",
   "id": "06ff4a36",
   "metadata": {},
   "source": [
    "__Notes__\n",
    "\n",
    "- Remove all currency signs\n",
    "\n",
    "- Remove all other umwanted characters, words and symbols\n",
    "\n",
    "- Fill the nulls uning interpolate method\n",
    "\n",
    "- Convert the column from object to float"
   ]
  },
  {
   "cell_type": "code",
   "execution_count": 45,
   "id": "7cadbaa1",
   "metadata": {},
   "outputs": [],
   "source": [
    "\n",
    "\n",
    "df['amount']=df['amount'].replace('\\$','',regex=True)\n",
    "df['amount']=df['amount'].replace(['Undisclosed','undisclosed',None],np.NAN)\n",
    "df['headquarter']=df['headquarter'].str.strip('\\t#REF!')\n",
    "df['amount']=df['amount'].replace('\\,','',regex=True)\n",
    "df['amount']=df['amount'].replace(\",\",\"\")"
   ]
  },
  {
   "cell_type": "code",
   "execution_count": 46,
   "id": "f71567c7",
   "metadata": {},
   "outputs": [],
   "source": [
    "\n",
    "\n",
    "# fix index 242\n",
    "df.at[242, 'headquarter'] = None\n",
    "df.at[242, 'sector'] = 'Pharmaceuticals'\n",
    "df.at[242, 'founders'] = 'Varun Khanna'\n",
    "df.at[242, 'investor'] = 'Morgan Stanley Private Equity Asia'\n",
    "df.at[242, 'amount'] = '22000000'\n",
    "df.at[242, 'series'] = 'Series C'\n",
    "df.at[242, 'about_company'] = 'Development and Manufacturing'\n",
    "\n",
    "# drop the duplicate row\n",
    "df = df.drop(256, axis=0, errors='ignore')\n",
    "\n",
    "# fix index 1148\n",
    "df.at[1148, 'sector'] = 'Logistics'\n",
    "df.at[1148, 'founders'] ='Basant Kumar' \n",
    "df.at[1148, 'investor'] =None\n",
    "df.at[1148, 'amount'] = 1000000\n",
    "df.at[1148, 'series'] = 'Seed'\n",
    " \n",
    "# fix index 257\n",
    "df.at[257, 'sector'] = 'Transport'\n",
    "df.at[257, 'founders'] ='Anshuman Maheshwary'\n",
    "df.at[257, 'investor'] =None\n",
    "df.at[257, 'amount'] = 5000000\n",
    "df.at[257, 'series'] = 'Seed'\n",
    "\n",
    "# fix index 98\n",
    "df.at[98, 'sector'] = 'Computer Games'\n",
    "df.at[98, 'founders'] ='Pritesh Kumar'\n",
    "df.at[98, 'investor'] =None\n",
    "df.at[98, 'amount'] = 1200000\n",
    "df.at[98, 'series'] = 'Seed'\n",
    "\n",
    "# drop the duplicate column\n",
    "df = df.drop(111, axis=0, errors='ignore')\n",
    "\n",
    "# fix index 677\n",
    "df.at[677, 'amount'] = 1000000\n",
    "df.at[677, 'series'] = 'Angel'\n",
    "\n",
    "# fix index 545\n",
    "df.at[545, 'investor'] =None\n",
    "df.at[545, 'amount'] = 1000000\n",
    "df.at[545, 'series'] = 'Pre-series A'\n",
    "\n",
    "# fix index 538\n",
    "df.at[538, 'investor'] =None\n",
    "df.at[538, 'amount'] = 300000\n",
    "df.at[538, 'series'] = 'Pre-Seed'\n",
    "\n",
    "# fix index 551\n",
    "df.at[551,'amount']=300000\n",
    "df.at[551,'series']=None\n",
    "\n",
    "# fix index 674\n",
    "df.at[674,'amount']=6000000\n",
    "df.at[674,'series']=None\n",
    "\n",
    "# fix index 2531\n",
    "df.at[2531,'amount']=None\n",
    "df.at[2531,'series']=None"
   ]
  },
  {
   "cell_type": "code",
   "execution_count": 47,
   "id": "d2938e05",
   "metadata": {},
   "outputs": [
    {
     "name": "stdout",
     "output_type": "stream",
     "text": [
      "Unable to parse value at position 1151: Unable to parse string \"Upsparks\" at position 1151\n"
     ]
    }
   ],
   "source": [
    "\n",
    "\n",
    "\n",
    "\n",
    "try:\n",
    "    df['amount'] = pd.to_numeric(df['amount'])\n",
    "except ValueError as e:\n",
    "    # Handle the specific exception\n",
    "    print(f\"Unable to parse value at position 1151: {e}\")\n",
    "    # Perform alternative actions if needed, such as replacing the value or skipping it\n",
    "    df.at[1151, 'amount'] = 0  # Replace the value at position 1151 with 0"
   ]
  },
  {
   "cell_type": "code",
   "execution_count": 48,
   "id": "3fa91417",
   "metadata": {},
   "outputs": [],
   "source": [
    "# fill nulll values with 0\n",
    "df['amount'].fillna(0, inplace=True)"
   ]
  },
  {
   "cell_type": "code",
   "execution_count": 49,
   "id": "d6db9ccb",
   "metadata": {},
   "outputs": [
    {
     "data": {
      "text/plain": [
       "0"
      ]
     },
     "execution_count": 49,
     "metadata": {},
     "output_type": "execute_result"
    }
   ],
   "source": [
    "df['amount'].isna().sum()"
   ]
  },
  {
   "cell_type": "markdown",
   "id": "da5e58bb",
   "metadata": {},
   "source": [
    "### 4.1 Founded"
   ]
  },
  {
   "cell_type": "code",
   "execution_count": 50,
   "id": "d85b24cb",
   "metadata": {},
   "outputs": [
    {
     "name": "stdout",
     "output_type": "stream",
     "text": [
      "There are 769 Null values in the 'founded' column\n"
     ]
    }
   ],
   "source": [
    "print(f\"There are {df['founded'].isna().sum()} Null values in the 'founded' column\")"
   ]
  },
  {
   "cell_type": "markdown",
   "id": "fe0abfaa",
   "metadata": {},
   "source": [
    "Since there are companies with unique names but dealing in different sectors we wont alter the duplicates.\n",
    "\n",
    "The column company brand is cleaning"
   ]
  },
  {
   "cell_type": "markdown",
   "id": "c09cdb00",
   "metadata": {},
   "source": [
    "#### COURSE OF ACTION\n",
    "\n",
    "---> We will be cleaning the missing values by fill them using interpolate method which is suitable for time series data.\n",
    "\n",
    "---> We will also be converting the data type from float to datetime for purpose of our analysis."
   ]
  },
  {
   "cell_type": "code",
   "execution_count": 51,
   "id": "38835a3f",
   "metadata": {},
   "outputs": [
    {
     "name": "stdout",
     "output_type": "stream",
     "text": [
      "There are 0 missing values\n"
     ]
    }
   ],
   "source": [
    "df[\"founded\"].interpolate(method='linear',inplace= True)\n",
    "\n",
    "print(f\"There are {df['founded'].isna().sum()} missing values\")"
   ]
  },
  {
   "cell_type": "code",
   "execution_count": 52,
   "id": "12455bfc",
   "metadata": {},
   "outputs": [
    {
     "name": "stdout",
     "output_type": "stream",
     "text": [
      "<class 'pandas.core.series.Series'>\n",
      "Index: 2877 entries, 0 to 2878\n",
      "Series name: founded\n",
      "Non-Null Count  Dtype        \n",
      "--------------  -----        \n",
      "2877 non-null   period[A-DEC]\n",
      "dtypes: period[A-DEC](1)\n",
      "memory usage: 109.5 KB\n"
     ]
    }
   ],
   "source": [
    "# Convert to datetime\n",
    "df['founded'] = pd.to_datetime(df['founded'], format='%Y')\n",
    "\n",
    "# Convert to period\n",
    "df['founded'] = df['founded'].dt.to_period('Y')\n",
    "\n",
    "df['founded'].info()"
   ]
  },
  {
   "cell_type": "markdown",
   "id": "a1d1ee81",
   "metadata": {},
   "source": [
    "#### 4.2. Headquater"
   ]
  },
  {
   "cell_type": "code",
   "execution_count": 53,
   "id": "2e4b7346",
   "metadata": {},
   "outputs": [],
   "source": [
    "# Get the first location from every list\n",
    "df['headquarter']=df['headquarter'].str.split(\",\").str[0]"
   ]
  },
  {
   "cell_type": "code",
   "execution_count": 54,
   "id": "34342ad0",
   "metadata": {},
   "outputs": [],
   "source": [
    "def fix_headquarters(row):\n",
    "    replacements = {'Bengaluru': 'Bangalore', 'Banglore': 'Bangalore', 'Gurugram': 'Gurgaon', 'Hyderebad': 'Hyderabad',\n",
    "                    'New Delhi': 'Delhi', 'Ahmadabad': 'Ahmedabad', 'Ernakulam': 'Cochin', 'Telugana': 'Telangana',\n",
    "                    'Rajastan': 'Rajasthan', 'San Franciscao': 'San Francisco', 'Samsitpur': 'Samastipur', 'Santra': 'Samtra',\n",
    "                    'Rajsamand': 'Rajasthan', 'Kerala': 'Kochi', 'The Nilgiris': 'Nilgiris', 'Gurugram\\t#REF!': 'Gurgaon',\n",
    "                    'California': 'San Francisco', 'San Francisco Bay Area': 'San Francisco', 'Hyderebad': 'Hyderabad',\n",
    "                    'Online Media\\t#REF!': 'Unknown', 'Pharmaceuticals\\t#REF!': 'Unknown',\n",
    "                    'Information Technology & Services': 'Unknown', 'Small Towns': 'Unknown', 'Orissia': 'Odisha',\n",
    "                    'Santra': 'Samtra', 'Vadodara': 'Vadodara', 'Food & Beverages': 'Unknown', 'Bangaldesh': 'Bangladesh'}\n",
    "\n",
    "    return replacements.get(row, row)\n",
    "\n",
    "# Apply the fix_headquarters function to the 'headquarter' column\n",
    "df['headquarter'] = df['headquarter'].apply(fix_headquarters)"
   ]
  },
  {
   "cell_type": "code",
   "execution_count": 55,
   "id": "d8779462",
   "metadata": {},
   "outputs": [
    {
     "data": {
      "text/html": [
       "<div>\n",
       "<style scoped>\n",
       "    .dataframe tbody tr th:only-of-type {\n",
       "        vertical-align: middle;\n",
       "    }\n",
       "\n",
       "    .dataframe tbody tr th {\n",
       "        vertical-align: top;\n",
       "    }\n",
       "\n",
       "    .dataframe thead th {\n",
       "        text-align: right;\n",
       "    }\n",
       "</style>\n",
       "<table border=\"1\" class=\"dataframe\">\n",
       "  <thead>\n",
       "    <tr style=\"text-align: right;\">\n",
       "      <th></th>\n",
       "      <th>company_brand</th>\n",
       "      <th>founded</th>\n",
       "      <th>headquarter</th>\n",
       "      <th>sector</th>\n",
       "      <th>about_company</th>\n",
       "      <th>founders</th>\n",
       "      <th>investor</th>\n",
       "      <th>amount</th>\n",
       "      <th>series</th>\n",
       "      <th>year</th>\n",
       "    </tr>\n",
       "  </thead>\n",
       "  <tbody>\n",
       "    <tr>\n",
       "      <th>0</th>\n",
       "      <td>Aqgromalin</td>\n",
       "      <td>2019</td>\n",
       "      <td>Chennai</td>\n",
       "      <td>AgriTech</td>\n",
       "      <td>Cultivating Ideas for Profit</td>\n",
       "      <td>Prasanna Manogaran, Bharani C L</td>\n",
       "      <td>Angel investors</td>\n",
       "      <td>200000.0</td>\n",
       "      <td>None</td>\n",
       "      <td>2020</td>\n",
       "    </tr>\n",
       "    <tr>\n",
       "      <th>1</th>\n",
       "      <td>Krayonnz</td>\n",
       "      <td>2019</td>\n",
       "      <td>Bangalore</td>\n",
       "      <td>EdTech</td>\n",
       "      <td>An academy-guardian-scholar centric ecosystem ...</td>\n",
       "      <td>Saurabh Dixit, Gurudutt Upadhyay</td>\n",
       "      <td>GSF Accelerator</td>\n",
       "      <td>100000.0</td>\n",
       "      <td>Pre-seed</td>\n",
       "      <td>2020</td>\n",
       "    </tr>\n",
       "    <tr>\n",
       "      <th>2</th>\n",
       "      <td>PadCare Labs</td>\n",
       "      <td>2018</td>\n",
       "      <td>Pune</td>\n",
       "      <td>Hygiene management</td>\n",
       "      <td>Converting bio-hazardous waste to harmless waste</td>\n",
       "      <td>Ajinkya Dhariya</td>\n",
       "      <td>Venture Center</td>\n",
       "      <td>0</td>\n",
       "      <td>Pre-seed</td>\n",
       "      <td>2020</td>\n",
       "    </tr>\n",
       "    <tr>\n",
       "      <th>3</th>\n",
       "      <td>NCOME</td>\n",
       "      <td>2020</td>\n",
       "      <td>Delhi</td>\n",
       "      <td>Escrow</td>\n",
       "      <td>Escrow-as-a-service platform</td>\n",
       "      <td>Ritesh Tiwari</td>\n",
       "      <td>Venture Catalysts, PointOne Capital</td>\n",
       "      <td>400000.0</td>\n",
       "      <td>None</td>\n",
       "      <td>2020</td>\n",
       "    </tr>\n",
       "    <tr>\n",
       "      <th>4</th>\n",
       "      <td>Gramophone</td>\n",
       "      <td>2016</td>\n",
       "      <td>Indore</td>\n",
       "      <td>AgriTech</td>\n",
       "      <td>Gramophone is an AgTech platform enabling acce...</td>\n",
       "      <td>Ashish Rajan Singh, Harshit Gupta, Nishant Mah...</td>\n",
       "      <td>Siana Capital Management, Info Edge</td>\n",
       "      <td>340000.0</td>\n",
       "      <td>None</td>\n",
       "      <td>2020</td>\n",
       "    </tr>\n",
       "  </tbody>\n",
       "</table>\n",
       "</div>"
      ],
      "text/plain": [
       "  company_brand founded headquarter              sector  \\\n",
       "0    Aqgromalin    2019     Chennai            AgriTech   \n",
       "1      Krayonnz    2019   Bangalore              EdTech   \n",
       "2  PadCare Labs    2018        Pune  Hygiene management   \n",
       "3         NCOME    2020       Delhi              Escrow   \n",
       "4    Gramophone    2016      Indore            AgriTech   \n",
       "\n",
       "                                       about_company  \\\n",
       "0                       Cultivating Ideas for Profit   \n",
       "1  An academy-guardian-scholar centric ecosystem ...   \n",
       "2   Converting bio-hazardous waste to harmless waste   \n",
       "3                       Escrow-as-a-service platform   \n",
       "4  Gramophone is an AgTech platform enabling acce...   \n",
       "\n",
       "                                            founders  \\\n",
       "0                    Prasanna Manogaran, Bharani C L   \n",
       "1                   Saurabh Dixit, Gurudutt Upadhyay   \n",
       "2                                    Ajinkya Dhariya   \n",
       "3                                      Ritesh Tiwari   \n",
       "4  Ashish Rajan Singh, Harshit Gupta, Nishant Mah...   \n",
       "\n",
       "                              investor    amount    series  year  \n",
       "0                      Angel investors  200000.0      None  2020  \n",
       "1                      GSF Accelerator  100000.0  Pre-seed  2020  \n",
       "2                       Venture Center         0  Pre-seed  2020  \n",
       "3  Venture Catalysts, PointOne Capital  400000.0      None  2020  \n",
       "4  Siana Capital Management, Info Edge  340000.0      None  2020  "
      ]
     },
     "execution_count": 55,
     "metadata": {},
     "output_type": "execute_result"
    }
   ],
   "source": [
    "df.head()"
   ]
  },
  {
   "cell_type": "code",
   "execution_count": 56,
   "id": "c77a7f81",
   "metadata": {},
   "outputs": [
    {
     "data": {
      "text/html": [
       "<div>\n",
       "<style scoped>\n",
       "    .dataframe tbody tr th:only-of-type {\n",
       "        vertical-align: middle;\n",
       "    }\n",
       "\n",
       "    .dataframe tbody tr th {\n",
       "        vertical-align: top;\n",
       "    }\n",
       "\n",
       "    .dataframe thead th {\n",
       "        text-align: right;\n",
       "    }\n",
       "</style>\n",
       "<table border=\"1\" class=\"dataframe\">\n",
       "  <thead>\n",
       "    <tr style=\"text-align: right;\">\n",
       "      <th></th>\n",
       "      <th>company_brand</th>\n",
       "      <th>founded</th>\n",
       "      <th>headquarter</th>\n",
       "      <th>sector</th>\n",
       "      <th>about_company</th>\n",
       "      <th>founders</th>\n",
       "      <th>investor</th>\n",
       "      <th>amount</th>\n",
       "      <th>series</th>\n",
       "      <th>year</th>\n",
       "    </tr>\n",
       "  </thead>\n",
       "  <tbody>\n",
       "    <tr>\n",
       "      <th>145</th>\n",
       "      <td>Krimanshi</td>\n",
       "      <td>2015</td>\n",
       "      <td>Jodhpur</td>\n",
       "      <td>Biotechnology company</td>\n",
       "      <td>Krimanshi aims to increase rural income by imp...</td>\n",
       "      <td>Nikhil Bohra</td>\n",
       "      <td>Rajasthan Venture Capital Fund, AIM Smart City</td>\n",
       "      <td>600000.0</td>\n",
       "      <td>Seed</td>\n",
       "      <td>2020</td>\n",
       "    </tr>\n",
       "    <tr>\n",
       "      <th>205</th>\n",
       "      <td>Nykaa</td>\n",
       "      <td>2012</td>\n",
       "      <td>Mumbai</td>\n",
       "      <td>Cosmetics</td>\n",
       "      <td>Nykaa is an online marketplace for different b...</td>\n",
       "      <td>Falguni Nayar</td>\n",
       "      <td>Alia Bhatt, Katrina Kaif</td>\n",
       "      <td>0</td>\n",
       "      <td>None</td>\n",
       "      <td>2020</td>\n",
       "    </tr>\n",
       "    <tr>\n",
       "      <th>362</th>\n",
       "      <td>Byju’s</td>\n",
       "      <td>2011</td>\n",
       "      <td>Bangalore</td>\n",
       "      <td>EdTech</td>\n",
       "      <td>An Indian educational technology and online tu...</td>\n",
       "      <td>Byju Raveendran</td>\n",
       "      <td>Owl Ventures, Tiger Global Management</td>\n",
       "      <td>500000000.0</td>\n",
       "      <td>None</td>\n",
       "      <td>2020</td>\n",
       "    </tr>\n",
       "    <tr>\n",
       "      <th>1162</th>\n",
       "      <td>Curefoods</td>\n",
       "      <td>2020</td>\n",
       "      <td>Bangalore</td>\n",
       "      <td>Food &amp; Beverages</td>\n",
       "      <td>Healthy &amp; nutritious foods and cold pressed ju...</td>\n",
       "      <td>Ankit Nagori</td>\n",
       "      <td>Iron Pillar, Nordstar, Binny Bansal</td>\n",
       "      <td>13000000</td>\n",
       "      <td>None</td>\n",
       "      <td>2021</td>\n",
       "    </tr>\n",
       "    <tr>\n",
       "      <th>1166</th>\n",
       "      <td>FanPlay</td>\n",
       "      <td>2020</td>\n",
       "      <td>Computer Games</td>\n",
       "      <td>Computer Games</td>\n",
       "      <td>A real money game app specializing in trivia g...</td>\n",
       "      <td>YC W21</td>\n",
       "      <td>Pritesh Kumar, Bharat Gupta</td>\n",
       "      <td>Upsparks</td>\n",
       "      <td>$1200000</td>\n",
       "      <td>2021</td>\n",
       "    </tr>\n",
       "    <tr>\n",
       "      <th>1172</th>\n",
       "      <td>Advantage Club</td>\n",
       "      <td>2014</td>\n",
       "      <td>Mumbai</td>\n",
       "      <td>HRTech</td>\n",
       "      <td>Advantage Club is India's largest employee eng...</td>\n",
       "      <td>Sourabh Deorah, Smiti Bhatt Deorah</td>\n",
       "      <td>Y Combinator, Broom Ventures, Kunal Shah</td>\n",
       "      <td>1700000</td>\n",
       "      <td>None</td>\n",
       "      <td>2021</td>\n",
       "    </tr>\n",
       "    <tr>\n",
       "      <th>1174</th>\n",
       "      <td>Ruptok</td>\n",
       "      <td>2020</td>\n",
       "      <td>Delhi</td>\n",
       "      <td>FinTech</td>\n",
       "      <td>Ruptok fintech Pvt. Ltd. is an online gold loa...</td>\n",
       "      <td>Ankur Gupta</td>\n",
       "      <td>Eclear Leasing</td>\n",
       "      <td>1000000</td>\n",
       "      <td>None</td>\n",
       "      <td>2021</td>\n",
       "    </tr>\n",
       "    <tr>\n",
       "      <th>1298</th>\n",
       "      <td>Trinkerr</td>\n",
       "      <td>2021</td>\n",
       "      <td>Bangalore</td>\n",
       "      <td>Capital Markets</td>\n",
       "      <td>Trinkerr is India's first social trading platf...</td>\n",
       "      <td>Manvendra Singh, Gaurav Agarwal</td>\n",
       "      <td>Accel India</td>\n",
       "      <td>6600000</td>\n",
       "      <td>Series A</td>\n",
       "      <td>2021</td>\n",
       "    </tr>\n",
       "    <tr>\n",
       "      <th>1299</th>\n",
       "      <td>Zorro</td>\n",
       "      <td>2021</td>\n",
       "      <td>Gurgaon</td>\n",
       "      <td>Social network</td>\n",
       "      <td>Pseudonymous social network platform</td>\n",
       "      <td>Jasveer Singh, Abhishek Asthana, Deepak Kumar</td>\n",
       "      <td>Vijay Shekhar Sharma, Ritesh Agarwal, Ankiti Bose</td>\n",
       "      <td>32000000</td>\n",
       "      <td>Seed</td>\n",
       "      <td>2021</td>\n",
       "    </tr>\n",
       "    <tr>\n",
       "      <th>1300</th>\n",
       "      <td>Ultraviolette</td>\n",
       "      <td>2021</td>\n",
       "      <td>Bangalore</td>\n",
       "      <td>Automotive</td>\n",
       "      <td>Create and Inspire the future of sustainable u...</td>\n",
       "      <td>Subramaniam Narayan, Niraj Rajmohan</td>\n",
       "      <td>TVS Motor, Zoho</td>\n",
       "      <td>150000000</td>\n",
       "      <td>Series C</td>\n",
       "      <td>2021</td>\n",
       "    </tr>\n",
       "    <tr>\n",
       "      <th>1301</th>\n",
       "      <td>NephroPlus</td>\n",
       "      <td>2009</td>\n",
       "      <td>Hyderabad</td>\n",
       "      <td>Hospital &amp; Health Care</td>\n",
       "      <td>A vision and passion of redefining healthcare ...</td>\n",
       "      <td>Vikram Vuppala</td>\n",
       "      <td>IIFL Asset Management</td>\n",
       "      <td>24000000</td>\n",
       "      <td>Series E</td>\n",
       "      <td>2021</td>\n",
       "    </tr>\n",
       "    <tr>\n",
       "      <th>1302</th>\n",
       "      <td>Unremot</td>\n",
       "      <td>2020</td>\n",
       "      <td>Bangalore</td>\n",
       "      <td>Information Technology &amp; Services</td>\n",
       "      <td>Unremot is a personal office for consultants!</td>\n",
       "      <td>Shiju Radhakrishnan</td>\n",
       "      <td>Inflection Point Ventures</td>\n",
       "      <td>700000</td>\n",
       "      <td>Seed</td>\n",
       "      <td>2021</td>\n",
       "    </tr>\n",
       "    <tr>\n",
       "      <th>1303</th>\n",
       "      <td>FanAnywhere</td>\n",
       "      <td>2021</td>\n",
       "      <td>Bangalore</td>\n",
       "      <td>Financial Services</td>\n",
       "      <td>Celebrity NFT platform</td>\n",
       "      <td>Varun Chaudhary, Amit Kumar</td>\n",
       "      <td>Oasis Capital, Scorpio VC, DeltaHub Capital</td>\n",
       "      <td>0</td>\n",
       "      <td>Seed</td>\n",
       "      <td>2021</td>\n",
       "    </tr>\n",
       "    <tr>\n",
       "      <th>1304</th>\n",
       "      <td>PingoLearn</td>\n",
       "      <td>2021</td>\n",
       "      <td>Pune</td>\n",
       "      <td>E-learning</td>\n",
       "      <td>PingoLearn offers language learning courses wi...</td>\n",
       "      <td>Mohit Menghani, Shubham Maheshwari</td>\n",
       "      <td>Titan Capital, Haresh Chawla, AngelList Syndicate</td>\n",
       "      <td>200000</td>\n",
       "      <td>None</td>\n",
       "      <td>2021</td>\n",
       "    </tr>\n",
       "    <tr>\n",
       "      <th>1305</th>\n",
       "      <td>Spry</td>\n",
       "      <td>2021</td>\n",
       "      <td>Mumbai</td>\n",
       "      <td>Music</td>\n",
       "      <td>THE BEST ROYALTY-FREE MUSIC TO CREATE TRENDING...</td>\n",
       "      <td>Gaurav Dagaonkar, Meghna Mittal</td>\n",
       "      <td>9Unicorns, Ashneer Grover</td>\n",
       "      <td>1500000</td>\n",
       "      <td>Seed</td>\n",
       "      <td>2021</td>\n",
       "    </tr>\n",
       "    <tr>\n",
       "      <th>1306</th>\n",
       "      <td>Enmovil</td>\n",
       "      <td>2015</td>\n",
       "      <td>Hyderabad</td>\n",
       "      <td>Information Technology &amp; Services</td>\n",
       "      <td>Enmovil delivers a Business Intelligence Platf...</td>\n",
       "      <td>Ravi Bulusu, Nanda Kishore, Venkat Moganty</td>\n",
       "      <td>Anicut Angel Fund</td>\n",
       "      <td>1300000</td>\n",
       "      <td>Pre-series A</td>\n",
       "      <td>2021</td>\n",
       "    </tr>\n",
       "    <tr>\n",
       "      <th>1307</th>\n",
       "      <td>ASQI Advisors</td>\n",
       "      <td>2019</td>\n",
       "      <td>Mumbai</td>\n",
       "      <td>Financial Services</td>\n",
       "      <td>Bringing Blockchain technology intro mainstrea...</td>\n",
       "      <td>Swapnil Pawar</td>\n",
       "      <td>Founders Room Capital</td>\n",
       "      <td>1000000</td>\n",
       "      <td>Pre-series A</td>\n",
       "      <td>2021</td>\n",
       "    </tr>\n",
       "    <tr>\n",
       "      <th>1308</th>\n",
       "      <td>Insurance Samadhan</td>\n",
       "      <td>2018</td>\n",
       "      <td>Delhi</td>\n",
       "      <td>Insurance</td>\n",
       "      <td>The insurance industry will help in representa...</td>\n",
       "      <td>Deepak Bhuvenshwari Uniyal</td>\n",
       "      <td>9Unicorns, ZNL</td>\n",
       "      <td>725000</td>\n",
       "      <td>Pre-series A</td>\n",
       "      <td>2021</td>\n",
       "    </tr>\n",
       "    <tr>\n",
       "      <th>1309</th>\n",
       "      <td>Evenflow Brands</td>\n",
       "      <td>2020</td>\n",
       "      <td>Mumbai</td>\n",
       "      <td>Consumer Goods</td>\n",
       "      <td>Identify and partner with the upcoming eCommer...</td>\n",
       "      <td>Utsav Agarwal, Pulkit Chhabra</td>\n",
       "      <td>None</td>\n",
       "      <td>500000</td>\n",
       "      <td>None</td>\n",
       "      <td>2021</td>\n",
       "    </tr>\n",
       "    <tr>\n",
       "      <th>1310</th>\n",
       "      <td>MasterChow</td>\n",
       "      <td>2020</td>\n",
       "      <td>ood &amp; Beverages</td>\n",
       "      <td>Hauz Khas</td>\n",
       "      <td>A ready-to-cook Asian cuisine brand</td>\n",
       "      <td>Vidur Kataria, Sidhanth Madan</td>\n",
       "      <td>WEH Ventures</td>\n",
       "      <td>461000</td>\n",
       "      <td>Seed</td>\n",
       "      <td>2021</td>\n",
       "    </tr>\n",
       "    <tr>\n",
       "      <th>1311</th>\n",
       "      <td>Fullife Healthcare</td>\n",
       "      <td>2009</td>\n",
       "      <td>Pharmaceuticals</td>\n",
       "      <td>Primary Business is Development and Manufactur...</td>\n",
       "      <td>Varun Khanna</td>\n",
       "      <td>Morgan Stanley Private Equity Asia</td>\n",
       "      <td>$22000000</td>\n",
       "      <td>Series C</td>\n",
       "      <td>None</td>\n",
       "      <td>2021</td>\n",
       "    </tr>\n",
       "    <tr>\n",
       "      <th>2701</th>\n",
       "      <td>TheCollegeFever</td>\n",
       "      <td>2015</td>\n",
       "      <td>Bangalore</td>\n",
       "      <td>Brand Marketing, Event Promotion, Marketing, S...</td>\n",
       "      <td>TheCollegeFever is a hub for fun, fiesta and f...</td>\n",
       "      <td>NaN</td>\n",
       "      <td>NaN</td>\n",
       "      <td>250000</td>\n",
       "      <td>Seed</td>\n",
       "      <td>2018</td>\n",
       "    </tr>\n",
       "  </tbody>\n",
       "</table>\n",
       "</div>"
      ],
      "text/plain": [
       "           company_brand founded      headquarter  \\\n",
       "145            Krimanshi    2015          Jodhpur   \n",
       "205                Nykaa    2012           Mumbai   \n",
       "362               Byju’s    2011        Bangalore   \n",
       "1162           Curefoods    2020        Bangalore   \n",
       "1166             FanPlay    2020   Computer Games   \n",
       "1172      Advantage Club    2014           Mumbai   \n",
       "1174              Ruptok    2020            Delhi   \n",
       "1298            Trinkerr    2021        Bangalore   \n",
       "1299               Zorro    2021          Gurgaon   \n",
       "1300       Ultraviolette    2021        Bangalore   \n",
       "1301          NephroPlus    2009        Hyderabad   \n",
       "1302             Unremot    2020        Bangalore   \n",
       "1303         FanAnywhere    2021        Bangalore   \n",
       "1304          PingoLearn    2021             Pune   \n",
       "1305                Spry    2021           Mumbai   \n",
       "1306             Enmovil    2015        Hyderabad   \n",
       "1307       ASQI Advisors    2019           Mumbai   \n",
       "1308  Insurance Samadhan    2018            Delhi   \n",
       "1309     Evenflow Brands    2020           Mumbai   \n",
       "1310          MasterChow    2020  ood & Beverages   \n",
       "1311  Fullife Healthcare    2009  Pharmaceuticals   \n",
       "2701     TheCollegeFever    2015        Bangalore   \n",
       "\n",
       "                                                 sector  \\\n",
       "145                               Biotechnology company   \n",
       "205                                           Cosmetics   \n",
       "362                                              EdTech   \n",
       "1162                                   Food & Beverages   \n",
       "1166                                     Computer Games   \n",
       "1172                                             HRTech   \n",
       "1174                                            FinTech   \n",
       "1298                                    Capital Markets   \n",
       "1299                                     Social network   \n",
       "1300                                         Automotive   \n",
       "1301                             Hospital & Health Care   \n",
       "1302                  Information Technology & Services   \n",
       "1303                                 Financial Services   \n",
       "1304                                         E-learning   \n",
       "1305                                              Music   \n",
       "1306                  Information Technology & Services   \n",
       "1307                                 Financial Services   \n",
       "1308                                          Insurance   \n",
       "1309                                     Consumer Goods   \n",
       "1310                                          Hauz Khas   \n",
       "1311  Primary Business is Development and Manufactur...   \n",
       "2701  Brand Marketing, Event Promotion, Marketing, S...   \n",
       "\n",
       "                                          about_company  \\\n",
       "145   Krimanshi aims to increase rural income by imp...   \n",
       "205   Nykaa is an online marketplace for different b...   \n",
       "362   An Indian educational technology and online tu...   \n",
       "1162  Healthy & nutritious foods and cold pressed ju...   \n",
       "1166  A real money game app specializing in trivia g...   \n",
       "1172  Advantage Club is India's largest employee eng...   \n",
       "1174  Ruptok fintech Pvt. Ltd. is an online gold loa...   \n",
       "1298  Trinkerr is India's first social trading platf...   \n",
       "1299               Pseudonymous social network platform   \n",
       "1300  Create and Inspire the future of sustainable u...   \n",
       "1301  A vision and passion of redefining healthcare ...   \n",
       "1302      Unremot is a personal office for consultants!   \n",
       "1303                             Celebrity NFT platform   \n",
       "1304  PingoLearn offers language learning courses wi...   \n",
       "1305  THE BEST ROYALTY-FREE MUSIC TO CREATE TRENDING...   \n",
       "1306  Enmovil delivers a Business Intelligence Platf...   \n",
       "1307  Bringing Blockchain technology intro mainstrea...   \n",
       "1308  The insurance industry will help in representa...   \n",
       "1309  Identify and partner with the upcoming eCommer...   \n",
       "1310                A ready-to-cook Asian cuisine brand   \n",
       "1311                                       Varun Khanna   \n",
       "2701  TheCollegeFever is a hub for fun, fiesta and f...   \n",
       "\n",
       "                                           founders  \\\n",
       "145                                    Nikhil Bohra   \n",
       "205                                   Falguni Nayar   \n",
       "362                                 Byju Raveendran   \n",
       "1162                                   Ankit Nagori   \n",
       "1166                                         YC W21   \n",
       "1172             Sourabh Deorah, Smiti Bhatt Deorah   \n",
       "1174                                    Ankur Gupta   \n",
       "1298                Manvendra Singh, Gaurav Agarwal   \n",
       "1299  Jasveer Singh, Abhishek Asthana, Deepak Kumar   \n",
       "1300            Subramaniam Narayan, Niraj Rajmohan   \n",
       "1301                                 Vikram Vuppala   \n",
       "1302                            Shiju Radhakrishnan   \n",
       "1303                    Varun Chaudhary, Amit Kumar   \n",
       "1304             Mohit Menghani, Shubham Maheshwari   \n",
       "1305                Gaurav Dagaonkar, Meghna Mittal   \n",
       "1306     Ravi Bulusu, Nanda Kishore, Venkat Moganty   \n",
       "1307                                  Swapnil Pawar   \n",
       "1308                     Deepak Bhuvenshwari Uniyal   \n",
       "1309                  Utsav Agarwal, Pulkit Chhabra   \n",
       "1310                  Vidur Kataria, Sidhanth Madan   \n",
       "1311             Morgan Stanley Private Equity Asia   \n",
       "2701                                            NaN   \n",
       "\n",
       "                                               investor       amount  \\\n",
       "145      Rajasthan Venture Capital Fund, AIM Smart City     600000.0   \n",
       "205                            Alia Bhatt, Katrina Kaif            0   \n",
       "362               Owl Ventures, Tiger Global Management  500000000.0   \n",
       "1162                Iron Pillar, Nordstar, Binny Bansal     13000000   \n",
       "1166                        Pritesh Kumar, Bharat Gupta     Upsparks   \n",
       "1172           Y Combinator, Broom Ventures, Kunal Shah      1700000   \n",
       "1174                                     Eclear Leasing      1000000   \n",
       "1298                                        Accel India      6600000   \n",
       "1299  Vijay Shekhar Sharma, Ritesh Agarwal, Ankiti Bose     32000000   \n",
       "1300                                    TVS Motor, Zoho    150000000   \n",
       "1301                              IIFL Asset Management     24000000   \n",
       "1302                          Inflection Point Ventures       700000   \n",
       "1303        Oasis Capital, Scorpio VC, DeltaHub Capital            0   \n",
       "1304  Titan Capital, Haresh Chawla, AngelList Syndicate       200000   \n",
       "1305                          9Unicorns, Ashneer Grover      1500000   \n",
       "1306                                  Anicut Angel Fund      1300000   \n",
       "1307                              Founders Room Capital      1000000   \n",
       "1308                                     9Unicorns, ZNL       725000   \n",
       "1309                                               None       500000   \n",
       "1310                                       WEH Ventures       461000   \n",
       "1311                                          $22000000     Series C   \n",
       "2701                                                NaN       250000   \n",
       "\n",
       "            series  year  \n",
       "145           Seed  2020  \n",
       "205           None  2020  \n",
       "362           None  2020  \n",
       "1162          None  2021  \n",
       "1166      $1200000  2021  \n",
       "1172          None  2021  \n",
       "1174          None  2021  \n",
       "1298      Series A  2021  \n",
       "1299          Seed  2021  \n",
       "1300      Series C  2021  \n",
       "1301      Series E  2021  \n",
       "1302          Seed  2021  \n",
       "1303          Seed  2021  \n",
       "1304          None  2021  \n",
       "1305          Seed  2021  \n",
       "1306  Pre-series A  2021  \n",
       "1307  Pre-series A  2021  \n",
       "1308  Pre-series A  2021  \n",
       "1309          None  2021  \n",
       "1310          Seed  2021  \n",
       "1311          None  2021  \n",
       "2701          Seed  2018  "
      ]
     },
     "execution_count": 56,
     "metadata": {},
     "output_type": "execute_result"
    }
   ],
   "source": [
    "# check for duplicates\n",
    "df[df.duplicated()]"
   ]
  },
  {
   "cell_type": "code",
   "execution_count": 57,
   "id": "c08b568d",
   "metadata": {},
   "outputs": [],
   "source": [
    "# drop duplicates\n",
    "df.drop_duplicates(keep='first', inplace=True)"
   ]
  },
  {
   "cell_type": "code",
   "execution_count": 58,
   "id": "3b799ff5",
   "metadata": {},
   "outputs": [
    {
     "name": "stdout",
     "output_type": "stream",
     "text": [
      " There are 0 duplicates\n"
     ]
    }
   ],
   "source": [
    "# check for duplicates\n",
    "print(f\" There are {df.duplicated().sum()} duplicates\")"
   ]
  },
  {
   "cell_type": "code",
   "execution_count": 59,
   "id": "6b71ae42",
   "metadata": {},
   "outputs": [
    {
     "name": "stdout",
     "output_type": "stream",
     "text": [
      "<class 'pandas.core.frame.DataFrame'>\n",
      "Index: 2855 entries, 0 to 2878\n",
      "Data columns (total 10 columns):\n",
      " #   Column         Non-Null Count  Dtype        \n",
      "---  ------         --------------  -----        \n",
      " 0   company_brand  2855 non-null   object       \n",
      " 1   founded        2855 non-null   period[A-DEC]\n",
      " 2   headquarter    2740 non-null   object       \n",
      " 3   sector         2837 non-null   object       \n",
      " 4   about_company  2855 non-null   object       \n",
      " 5   founders       2311 non-null   object       \n",
      " 6   investor       2226 non-null   object       \n",
      " 7   amount         2855 non-null   object       \n",
      " 8   series         1926 non-null   object       \n",
      " 9   year           2855 non-null   int64        \n",
      "dtypes: int64(1), object(8), period[A-DEC](1)\n",
      "memory usage: 245.4+ KB\n"
     ]
    }
   ],
   "source": [
    "df.info()"
   ]
  },
  {
   "cell_type": "markdown",
   "id": "410e3c3c",
   "metadata": {},
   "source": [
    "Observation\n",
    "\n",
    "---> There are companies which have unidentified locations and have been placed as none.\n",
    "\n",
    "----> There are wrong entries in the column\n",
    "\n",
    "---> Clean the locations with only the city for a very accurate analysis.\n",
    "\n",
    "Course of action\n",
    "\n",
    "----> Since there are companies where their location is unidentified as none we will fill the missing values with none.\n",
    "----> split the long locations with one location.\n",
    "\n",
    "----> assess the wrong entries and place a function that returns the orginal data into the column."
   ]
  },
  {
   "cell_type": "code",
   "execution_count": 60,
   "id": "b87fe90e",
   "metadata": {},
   "outputs": [],
   "source": [
    "def clean_replace(dataframe,column_name):\n",
    "    dataframe[column_name] = dataframe[column_name].replace('-', np.nan)\n",
    "    #clean the nan values with none\n",
    "    dataframe[column_name] = dataframe[column_name].fillna(value='None')\n",
    "\n",
    "    return df.head()"
   ]
  },
  {
   "cell_type": "code",
   "execution_count": 61,
   "id": "ab9bb805",
   "metadata": {},
   "outputs": [
    {
     "data": {
      "text/html": [
       "<div>\n",
       "<style scoped>\n",
       "    .dataframe tbody tr th:only-of-type {\n",
       "        vertical-align: middle;\n",
       "    }\n",
       "\n",
       "    .dataframe tbody tr th {\n",
       "        vertical-align: top;\n",
       "    }\n",
       "\n",
       "    .dataframe thead th {\n",
       "        text-align: right;\n",
       "    }\n",
       "</style>\n",
       "<table border=\"1\" class=\"dataframe\">\n",
       "  <thead>\n",
       "    <tr style=\"text-align: right;\">\n",
       "      <th></th>\n",
       "      <th>company_brand</th>\n",
       "      <th>founded</th>\n",
       "      <th>headquarter</th>\n",
       "      <th>sector</th>\n",
       "      <th>about_company</th>\n",
       "      <th>founders</th>\n",
       "      <th>investor</th>\n",
       "      <th>amount</th>\n",
       "      <th>series</th>\n",
       "      <th>year</th>\n",
       "    </tr>\n",
       "  </thead>\n",
       "  <tbody>\n",
       "    <tr>\n",
       "      <th>0</th>\n",
       "      <td>Aqgromalin</td>\n",
       "      <td>2019</td>\n",
       "      <td>Chennai</td>\n",
       "      <td>AgriTech</td>\n",
       "      <td>Cultivating Ideas for Profit</td>\n",
       "      <td>Prasanna Manogaran, Bharani C L</td>\n",
       "      <td>Angel investors</td>\n",
       "      <td>200000.0</td>\n",
       "      <td>None</td>\n",
       "      <td>2020</td>\n",
       "    </tr>\n",
       "    <tr>\n",
       "      <th>1</th>\n",
       "      <td>Krayonnz</td>\n",
       "      <td>2019</td>\n",
       "      <td>Bangalore</td>\n",
       "      <td>EdTech</td>\n",
       "      <td>An academy-guardian-scholar centric ecosystem ...</td>\n",
       "      <td>Saurabh Dixit, Gurudutt Upadhyay</td>\n",
       "      <td>GSF Accelerator</td>\n",
       "      <td>100000.0</td>\n",
       "      <td>Pre-seed</td>\n",
       "      <td>2020</td>\n",
       "    </tr>\n",
       "    <tr>\n",
       "      <th>2</th>\n",
       "      <td>PadCare Labs</td>\n",
       "      <td>2018</td>\n",
       "      <td>Pune</td>\n",
       "      <td>Hygiene management</td>\n",
       "      <td>Converting bio-hazardous waste to harmless waste</td>\n",
       "      <td>Ajinkya Dhariya</td>\n",
       "      <td>Venture Center</td>\n",
       "      <td>0</td>\n",
       "      <td>Pre-seed</td>\n",
       "      <td>2020</td>\n",
       "    </tr>\n",
       "    <tr>\n",
       "      <th>3</th>\n",
       "      <td>NCOME</td>\n",
       "      <td>2020</td>\n",
       "      <td>Delhi</td>\n",
       "      <td>Escrow</td>\n",
       "      <td>Escrow-as-a-service platform</td>\n",
       "      <td>Ritesh Tiwari</td>\n",
       "      <td>Venture Catalysts, PointOne Capital</td>\n",
       "      <td>400000.0</td>\n",
       "      <td>None</td>\n",
       "      <td>2020</td>\n",
       "    </tr>\n",
       "    <tr>\n",
       "      <th>4</th>\n",
       "      <td>Gramophone</td>\n",
       "      <td>2016</td>\n",
       "      <td>Indore</td>\n",
       "      <td>AgriTech</td>\n",
       "      <td>Gramophone is an AgTech platform enabling acce...</td>\n",
       "      <td>Ashish Rajan Singh, Harshit Gupta, Nishant Mah...</td>\n",
       "      <td>Siana Capital Management, Info Edge</td>\n",
       "      <td>340000.0</td>\n",
       "      <td>None</td>\n",
       "      <td>2020</td>\n",
       "    </tr>\n",
       "  </tbody>\n",
       "</table>\n",
       "</div>"
      ],
      "text/plain": [
       "  company_brand founded headquarter              sector  \\\n",
       "0    Aqgromalin    2019     Chennai            AgriTech   \n",
       "1      Krayonnz    2019   Bangalore              EdTech   \n",
       "2  PadCare Labs    2018        Pune  Hygiene management   \n",
       "3         NCOME    2020       Delhi              Escrow   \n",
       "4    Gramophone    2016      Indore            AgriTech   \n",
       "\n",
       "                                       about_company  \\\n",
       "0                       Cultivating Ideas for Profit   \n",
       "1  An academy-guardian-scholar centric ecosystem ...   \n",
       "2   Converting bio-hazardous waste to harmless waste   \n",
       "3                       Escrow-as-a-service platform   \n",
       "4  Gramophone is an AgTech platform enabling acce...   \n",
       "\n",
       "                                            founders  \\\n",
       "0                    Prasanna Manogaran, Bharani C L   \n",
       "1                   Saurabh Dixit, Gurudutt Upadhyay   \n",
       "2                                    Ajinkya Dhariya   \n",
       "3                                      Ritesh Tiwari   \n",
       "4  Ashish Rajan Singh, Harshit Gupta, Nishant Mah...   \n",
       "\n",
       "                              investor    amount    series  year  \n",
       "0                      Angel investors  200000.0      None  2020  \n",
       "1                      GSF Accelerator  100000.0  Pre-seed  2020  \n",
       "2                       Venture Center         0  Pre-seed  2020  \n",
       "3  Venture Catalysts, PointOne Capital  400000.0      None  2020  \n",
       "4  Siana Capital Management, Info Edge  340000.0      None  2020  "
      ]
     },
     "execution_count": 61,
     "metadata": {},
     "output_type": "execute_result"
    }
   ],
   "source": [
    "clean_replace(df,\"headquarter\")"
   ]
  },
  {
   "cell_type": "code",
   "execution_count": 62,
   "id": "4e7ef163",
   "metadata": {},
   "outputs": [
    {
     "name": "stdout",
     "output_type": "stream",
     "text": [
      "There are 0 missing values\n"
     ]
    }
   ],
   "source": [
    "print(f\"There are {df['headquarter'].isnull().sum()} missing values\")"
   ]
  },
  {
   "cell_type": "code",
   "execution_count": 63,
   "id": "0fe248ab",
   "metadata": {},
   "outputs": [],
   "source": [
    "df['headquarter']= df['headquarter'].str.split(',').str[0].str.replace(\"'\",\"\", regex=True)\n",
    "df['headquarter'] = df['headquarter'].str.strip('\\t#REF!')"
   ]
  },
  {
   "cell_type": "code",
   "execution_count": 64,
   "id": "43ec00f3",
   "metadata": {},
   "outputs": [],
   "source": [
    "df['headquarter']=df['headquarter'].replace({'Bengaluru': 'Bangalore', 'Banglore': 'Bangalore', 'Gurugram': 'Gurgaon', 'Hyderebad': 'Hyderabad', \n",
    "                                      'New Delhi': 'Delhi', 'Ahmadabad': 'Ahmedabad', 'Ernakulam': 'Cochin', 'Telugana': 'Telangana',\n",
    "                                      'Rajastan': 'Rajasthan', 'San Franciscao': 'San Francisco', 'Samsitpur': 'Samastipur', 'Santra': 'Samtra',\n",
    "                                      'Rajsamand': 'Rajasthan', 'Kerala': 'Kochi','The Nilgiris': 'Nilgiris', 'Gurugram': 'Gurgaon', \n",
    "                                      'California': 'San Francisco', 'San Francisco Bay Area': 'San Francisco', 'Hyderebad': 'Hyderabad' ,'Small Towns': 'Small Towns','Orissia': 'Odisha', \n",
    "                                      'Santra': 'Samtra', 'Vadodara': 'Vadodara', 'Bangaldesh': 'Bangladesh',}) "
   ]
  },
  {
   "cell_type": "markdown",
   "id": "b1084f20",
   "metadata": {},
   "source": [
    "### __4.3 Sector__"
   ]
  },
  {
   "cell_type": "code",
   "execution_count": 65,
   "id": "e36ef82d",
   "metadata": {},
   "outputs": [],
   "source": [
    "# Get the first sentence of every list\n",
    "df['sector']=df['sector'].str.split(\",\").str[0]"
   ]
  },
  {
   "cell_type": "code",
   "execution_count": 66,
   "id": "2e529002",
   "metadata": {},
   "outputs": [],
   "source": [
    "\n",
    "def categorize_sector(df):\n",
    "    # Replace Artificial Intelligence sectors\n",
    "    df['sector'] = df['sector'].replace(['AI startup', 'AI Chatbot', 'AI Company', 'AI platform', 'AI Platform', 'AI Startup', 'Artificial Intelligence'], 'Artificial Intelligence')\n",
    "    \n",
    "    # Replace Education Technology sectors\n",
    "    df['sector'] = df['sector'].replace(['EdTech', 'EdTech Startup', 'EdtTech', 'Edtech'], 'Education Technology')\n",
    "    \n",
    "    # Replace Business-to-Business E-commerce sectors\n",
    "    df['sector'] = df['sector'].replace(['B2B E-commerce', 'E-commerce', 'B2B Ecommerce', 'Commerce', 'B2B marketplace', 'B2B Marketplace'], 'Business-to-Business E-commerce')\n",
    "    \n",
    "    # Replace Fintech sector\n",
    "    df['sector'] = df['sector'].replace(['FinTech'], 'Fintech')\n",
    "    \n",
    "    # Replace Home Services sector\n",
    "    df['sector'] = df['sector'].replace(['Home services'], 'Home Services')\n",
    "    \n",
    "    # Replace Healthcare sectors\n",
    "    df['sector'] = df['sector'].replace(['HealthTech', 'Healthtech', 'Healtcare', 'HeathTech', 'Alternative Medicine', 'Health care', 'Helathcare', 'Healthcare', 'Health', 'Hospital & Health Care', 'Heathcare'], 'Healthcare')\n",
    "    \n",
    "    # Replace Technology Startup sector\n",
    "    df['sector'] = df['sector'].replace(['Tech Startup', 'Tech startup', 'IT startup', 'Technology Startup'], 'Technology Startup')\n",
    "    \n",
    "    # Replace Business-to-Business Services sector\n",
    "    df['sector'] = df['sector'].replace(['B2B service'], 'Business-to-Business Services')\n",
    "    \n",
    "    # Replace Renewable Energy sector\n",
    "    df['sector'] = df['sector'].replace(['Renewable Energy'], 'Renewable Energy')\n",
    "    \n",
    "    # Replace Electronics sector\n",
    "    df['sector'] = df['sector'].replace(['Electronics'], 'Electronics')\n",
    "    \n",
    "    # Replace Food and Beverages sectors\n",
    "    df['sector'] = df['sector'].replace(['Food & Beverages', 'Food and Beverages', 'Food', 'Food Production', 'Food Industry', 'Food tech', 'Foodtech', 'FoodTech', 'Food Startup', 'Food & tech', 'Food diet', 'Food Processing', 'Food and Beverage', 'Food delivery', 'Food Delivery', 'Food & Logistics', 'Food devlivery', 'QSR startup'], 'Food and Beverages')\n",
    "    \n",
    "    # Replace Aerospace sectors\n",
    "    df['sector'] = df['sector'].replace(['Aeorspace', 'Aerospace', 'Aviation', 'Aviation & Aerospace', 'Aero company'], 'Aerospace')\n",
    "    \n",
    "    # Replace Deep Technology sector\n",
    "    df['sector'] = df['sector'].replace(['Deep Tech', 'Deeptech'], 'Deep Technology')\n",
    "    \n",
    "    # Replace Dating Services sector\n",
    "    df['sector'] = df['sector'].replace(['Dating', 'Dating app'], 'Dating Services')\n",
    "    \n",
    "    # Replace Gaming sector\n",
    "    df['sector'] = df['sector'].replace(['Gaming', 'Computer Games', 'Mobile Games', 'Games', 'E-Sports', 'Gaming startup'], 'Gaming')\n",
    "    \n",
    "    # Replace Robotics sector\n",
    "    df['sector'] = df['sector'].replace(['Robotics', 'Robotics & AI'], 'Robotics')\n",
    "    \n",
    "    # Replace Retail sector\n",
    "    df['sector'] = df['sector'].replace(['Retail', 'Reatil startup', 'Retail Startup', 'Retail Tech'], 'Retail')\n",
    "    \n",
    "    # Replace Oil and Energy sector\n",
    "    df['sector'] = df['sector'].replace(['Oil and Energy', 'Oil & Energy'], 'Oil and Energy')\n",
    "    \n",
    "    # Replace Agricultural Technology sectors\n",
    "    df['sector'] = df['sector'].replace(['AgriTech', 'Agritech', 'Agritech startup', 'AgTech', 'Agri tech', 'B2B Agritech', 'Agricultural Technology'], 'Agricultural Technology')\n",
    "    \n",
    "    # Replace Telecommunications sector\n",
    "    df['sector'] = df['sector'].replace(['Telecommuncation', 'Telecommunication', 'Telecommunications'], 'Telecommunications')\n",
    "    \n",
    "    # Replace Dairy sector\n",
    "    df['sector'] = df['sector'].replace(['Milk startup', 'Dairy startup', 'Dairy'], 'Dairy')\n",
    "    \n",
    "    # Replace Information Technology sectors\n",
    "    df['sector'] = df['sector'].replace(['IT', 'Information Technology', 'Information Technology & Services', 'Information Technology Company', 'Information Technology and Services', 'IT company'], 'Information Technology')\n",
    "    \n",
    "    # Replace Logistics and Supply Chain sector\n",
    "    df['sector'] = df['sector'].replace(['Logistics', 'Logistics & Supply Chain', 'Logistics and Supply Chain'], 'Logistics and Supply Chain')\n",
    "    \n",
    "    # Replace Hospitality sector\n",
    "    df['sector'] = df['sector'].replace(['Hospitality'], 'Hospitality')\n",
    "    \n",
    "    # Replace Fashion and Lifestyle sectors\n",
    "    df['sector'] = df['sector'].replace(['Fashion', 'Fashion & Lifestyle', 'Fashion and lifestyle', 'Fashion startup', 'Fashion Tech', 'Apparel & Fashion', 'Apparel and Fashion', 'Clothing', 'D2C Fashion', 'D2C jewellery'], 'Fashion and Lifestyle')\n",
    "    \n",
    "    # Replace Marketing and Advertising sectors\n",
    "    df['sector'] = df['sector'].replace(['Marketing', 'Marketing & Advertising', 'Marketing and Advertising', 'MarTech', 'Marketing Technology', 'Advertisement', 'Advertising', 'Marketing company', 'Marketing startup'], 'Marketing and Advertising')\n",
    "    \n",
    "    # Replace Transportation and Mobility sectors\n",
    "    df['sector'] = df['sector'].replace(['Transportation', 'Transport', 'Mobility', 'Mobility/Transport', 'Mobility tech', 'Auto-tech', 'Logitech', 'Transport & Rentals', 'Transport Automation', 'Transportation-as-a-Service Startup', 'TaaS startup', 'Automotive and Rentals', 'IoT/Automobile', 'Automobile Technology', 'Mobility', 'Last Mile Transportation', 'Micro-mobiity'], 'Transportation and Mobility')\n",
    "    \n",
    "    # Replace Legal Technology sector\n",
    "    df['sector'] = df['sector'].replace(['LegalTech', 'Legaltech', 'Legal Services', 'Legal tech', 'Legaltech'], 'Legal Technology')\n",
    "    \n",
    "    # Replace Automotive sectors\n",
    "    df['sector'] = df['sector'].replace(['Automotive', 'Automobile', 'Automotive Startup', 'Automotive company', 'Car Trade', 'Automotive tech', 'Vehicle repair startup', 'Car Service', 'Luxury car startup'], 'Automotive')\n",
    "    \n",
    "    # Replace Software-as-a-Service sectors\n",
    "    df['sector'] = df['sector'].replace(['SaaS startup', 'SaaS', 'SaaS platform', 'Software-as-a-Service', 'Software-as-a-Service Platform', 'Software-as-a-Service Startup', 'SaaS\\xa0\\xa0startup'], 'Software-as-a-Service')\n",
    "    \n",
    "    # Replace Fantasy Sports sector\n",
    "    df['sector'] = df['sector'].replace(['Fantasy sports', 'Fantasy Sports'], 'Fantasy Sports')\n",
    "    \n",
    "    # Replace Video sectors\n",
    "    df['sector'] = df['sector'].replace(['Video communication', 'Video platform', 'Video', 'Video sharing platform', 'Video streaming platform', 'Video personalization'], 'Video')\n",
    "    \n",
    "    # Replace Social Media sectors\n",
    "    df['sector'] = df['sector'].replace(['Social Media', 'Social network', 'Social Networking', 'Social commerce', 'Social community', 'Social Network', 'Social e-commerce', 'Social media', 'Social platform', 'Social audio'], 'Social Media')\n",
    "    \n",
    "    # Replace Skills Development and Professional Training sectors\n",
    "    df['sector'] = df['sector'].replace(['Skill development', 'Skills Development', 'Professional Training & Coaching', 'Professional Training and Coaching'], 'Skills Development and Professional Training')\n",
    "    \n",
    "    # Replace Rental Services sectors\n",
    "    df['sector'] = df['sector'].replace(['Rental', 'Rental Services', 'Rental space', 'Bike Rental', 'Furniture Rental'], 'Rental Services')\n",
    "    \n",
    "    # Replace Recruitment and Staffing sectors\n",
    "    df['sector'] = df['sector'].replace(['Recruitment', 'Job discovery platform', 'Job portal', 'Staffing & Recruiting', 'Staffing and Recruiting', 'Recruitment startup'], 'Recruitment and Staffing')\n",
    "    \n",
    "    # Replace Sports and Sports Technology sectors\n",
    "    df['sector'] = df['sector'].replace(['Sports', 'SportsTech', 'Sports Technology', 'sports', 'Sports startup'], 'Sports and Sports Technology')\n",
    "    \n",
    "    # Replace Consumer Goods and Services sectors\n",
    "    df['sector'] = df['sector'].replace(['Consumer Goods', 'Consumer goods', 'Consumer software', 'Consumer service', 'Consumer Services', 'Consumer', 'Consumer Applications', 'Consumer appliances', 'Consumer Electronics'], 'Consumer Goods and Services')\n",
    "    \n",
    "    # Replace Human Resources and HR Technology sectors\n",
    "    df['sector'] = df['sector'].replace(['HRTech', 'HR Tech', 'HR Tech startup', 'Human Resources', 'Human Resources Technology', 'HRTech', 'HR tech', 'HR'], 'Human Resources and HR Technology')\n",
    "    \n",
    "    # Replace Wine and Spirits sector\n",
    "    df['sector'] = df['sector'].replace(['Wine & Spirits'], 'Wine and Spirits')\n",
    "    \n",
    "    # Replace Mechanical and Industrial Engineering sector\n",
    "    df['sector'] = df['sector'].replace(['Mechanical & Industrial Engineering', 'Mechanical and Industrial Engineering', 'Mechanical Or Industrial Engineering'], 'Mechanical and Industrial Engineering')\n",
    "    \n",
    "    # Replace Spirituality sector\n",
    "    df['sector'] = df['sector'].replace(['Spiritual', 'Linguistic Spiritual'], 'Spirituality')\n",
    "    \n",
    "    # Replace Financial Services sectors\n",
    "    df['sector'] = df['sector'].replace(['Financial Services', 'Banking', 'Capital Markets', 'Finance', 'Finance company', 'Investment Banking', 'Investment Management', 'Finance', 'Finance company', 'Financial Technology', 'FinTech', 'Digital mortgage', 'Online financial service', 'Online credit management startup', 'Trading platform', 'Virtual Banking'], 'Financial Services')\n",
    "    \n",
    "    # Replace Industrial Automation sector\n",
    "    df['sector'] = df['sector'].replace(['Industrial Automation'], 'Industrial Automation')\n",
    "    \n",
    "    # Replace Internet of Things sectors\n",
    "    df['sector'] = df['sector'].replace(['IoT', 'Internet of Things', 'IoT platform', 'IoT startup', 'Internet of Things Platform', 'Internet of Things Startup'], 'Internet of Things')\n",
    "    \n",
    "    # Replace Computer Software sectors\n",
    "    df['sector'] = df['sector'].replace(['Computer software', 'Computer Software', 'Software', 'Software company', 'Software Startup'], 'Computer Software')\n",
    "    \n",
    "    # Replace Furniture and Home Decor sectors\n",
    "    df['sector'] = df['sector'].replace(['Furniture', 'Home Decor', 'Interior Design'], 'Furniture and Home Decor')\n",
    "    \n",
    "    # Replace Location Analytics sector\n",
    "    df['sector'] = df['sector'].replace(['Location Analytics'], 'Location Analytics')\n",
    "    \n",
    "    # Replace Media and Entertainment sectors\n",
    "    df['sector'] = df['sector'].replace(['Media', 'Online Media', 'Podcast', 'Podcasting', 'Content publishing', 'Publication', 'Digital Media', 'Media and Entertainment', 'Broadcasting', 'News', 'Digital Entertainment', 'Media Tech', 'Visual Media', 'Online Portals', 'Content creation', 'Content Management', 'Content Marktplace'], 'Media and Entertainment')\n",
    "    \n",
    "    # Replace Consumer Electronics sector\n",
    "    df['sector'] = df['sector'].replace(['Consumer Electronics'], 'Consumer Electronics')\n",
    "    \n",
    "    # Replace Tobacco sector\n",
    "    df['sector'] = df['sector'].replace(['Tobacco'], 'Tobacco')\n",
    "    \n",
    "    # Replace Insurance sectors\n",
    "    df['sector'] = df['sector'].replace(['Insuretech', 'Insurance Technology', 'Insurtech', 'InsureTech', 'Insurance'], 'Insurance')\n",
    "    \n",
    "    # Replace Machine Learning Operations sector\n",
    "    df['sector'] = df['sector'].replace(['MLOps platform'], 'Machine Learning Operations')\n",
    "    \n",
    "    # Replace Venture Capital sectors\n",
    "    df['sector'] = df['sector'].replace(['Venture Capital', 'Venture Capital & Private Equity', 'Venture Capital and Private Equity', 'Venture capitalist'], 'Venture Capital')\n",
    "    \n",
    "    # Replace Pet Care and Veterinary Services sectors\n",
    "    df['sector'] = df['sector'].replace(['Pet care', 'Veterinary', 'Veterinary Services'], 'Pet Care and Veterinary Services')\n",
    "    \n",
    "    # Replace Drone Technology sectors\n",
    "    df['sector'] = df['sector'].replace(['Drone', 'Drone Technology'], 'Drone Technology')\n",
    "    \n",
    "    # Replace Wholesale sector\n",
    "    df['sector'] = df['sector'].replace(['Wholesale'], 'Wholesale')\n",
    "    \n",
    "    # Replace Construction and Construction Technology sectors\n",
    "    df['sector'] = df['sector'].replace(['Construction', 'Construction tech'], 'Construction and Construction Technology')\n",
    "    \n",
    "    # Replace E-learning and Education Management sectors\n",
    "    df['sector'] = df['sector'].replace(['E-learning', 'E-learning', 'Education Management'], 'E-learning and Education Management')\n",
    "    \n",
    "    # Replace Over-the-Top Media Services sector\n",
    "    df['sector'] = df['sector'].replace(['OTT', 'Over-the-Top Media Services'], 'Over-the-Top Media Services')\n",
    "    \n",
    "    # Replace Computer and Network Security sectors\n",
    "    df['sector'] = df['sector'].replace(['Computer & Network Security', 'Computer and Network Security', 'Cybersecurity'], 'Computer and Network Security')\n",
    "    \n",
    "    # Replace Social Networking and Community Platforms sectors\n",
    "    df['sector'] = df['sector'].replace(['Social network', 'Social Networking', 'Social Network', 'Social community', 'Social platform'], 'Social Networking and Community Platforms')\n",
    "    \n",
    "    # Replace Music and Music Streaming sectors\n",
    "    df['sector'] = df['sector'].replace(['Music', 'Music Streaming'], 'Music and Music Streaming')\n",
    "    \n",
    "    # Replace Hauz Khas sector\n",
    "    df['sector'] = df['sector'].replace(['Hauz Khas'], 'Hauz Khas')\n",
    "    \n",
    "    # Replace Pharmaceuticals sectors\n",
    "    df['sector'] = df['sector'].replace(['Pharmaceuticals', 'Pharmaceutical', 'Pharma', 'Biopharma', 'Pharmaceuticals'], 'Pharmaceuticals')\n",
    "    \n",
    "    # Replace Cosmetics, Personal Care, and Beauty Products sectors\n",
    "    df['sector'] = df['sector'].replace(['Cosmetics', 'Beauty products', 'Personal Care', 'Beauty & wellness', 'Personal care startup', 'Skincare startup'], 'Cosmetics, Personal Care, and Beauty Products')\n",
    "    \n",
    "    # Replace Real Estate and Property Technology sectors\n",
    "    df['sector'] = df['sector'].replace(['Real Estate', 'Real estate', 'Commercial Real Estate', 'Housing Marketplace', 'Proptech', 'Property Technology'], 'Real Estate and Property Technology')\n",
    "    \n",
    "    # Replace Digital Platforms sector\n",
    "    df['sector'] = df['sector'].replace(['Digital platform', 'Digital Platform'], 'Digital Platforms')\n",
    "    \n",
    "    # Replace NFT and Non-Fungible Tokens sectors\n",
    "    df['sector'] = df['sector'].replace(['NFT Marketplace', 'Non-Fungible Token Marketplace', 'NFT', 'Non-Fungible Tokens'], 'NFT and Non-Fungible Tokens')\n",
    "    \n",
    "    # Replace Space Technology and Defense sectors\n",
    "    df['sector'] = df['sector'].replace(['SpaceTech', 'Spacetech', 'Space Technology', 'Defense & Space'], 'Space Technology and Defense')\n",
    "    \n",
    "    # Replace Fishery sector\n",
    "    df['sector'] = df['sector'].replace(['Fishery'], 'Fishery')\n",
    "            \n",
    "    # Replace Renewable Energy, Environmental Services, and Clean Technology sectors\n",
    "    df['sector'] = df['sector'].replace(['Renewables & Environment', 'Renewable Energy and Environmental Services', 'Environmental Services', 'Environmental service', 'Clean Technology', 'CleanTech', 'Pollution control equiptment'], 'Renewable Energy, Environmental Services, and Clean Technology')\n",
    "    \n",
    "    # Replace Online Storytelling sector\n",
    "    df['sector'] = df['sector'].replace(['Online storytelling'], 'Online Storytelling')\n",
    "    \n",
    "    # Replace Customer Relationship Management sector\n",
    "    df['sector'] = df['sector'].replace(['CRM', 'Customer Relationship Management'], 'Customer Relationship Management')\n",
    "    \n",
    "    # Replace Nutrition and Nutrition Technology sectors\n",
    "    df['sector'] = df['sector'].replace(['Nutrition', 'Nutrition sector', 'Nutrition tech', 'Nutrition Tech', 'Food & Nutrition'], 'Nutrition and Nutrition Technology')\n",
    "    \n",
    "    # Replace Direct-to-Consumer sectors\n",
    "    df['sector'] = df['sector'].replace(['D2C', 'Direct-to-Consumer', 'D2C Business', 'D2C startup', 'D2C Fashion', 'D2C jewellery'], 'Direct-to-Consumer')\n",
    "    \n",
    "    # Replace Innovation Management sector\n",
    "    df['sector'] = df['sector'].replace(['Innovation Management', 'Innovation management'], 'Innovation Management')\n",
    "    \n",
    "    # Replace Community Platforms and Communities sectors\n",
    "    df['sector'] = df['sector'].replace(['Community platform', 'Community', 'Communities'], 'Community Platforms and Communities')\n",
    "    \n",
    "    # Replace Networking and Networking Platforms sectors\n",
    "    df['sector'] = df['sector'].replace(['Networking', 'Networking platform'], 'Networking and Networking Platforms')\n",
    "    \n",
    "    # Replace Augmented Reality and AR/VR sectors\n",
    "    df['sector'] = df['sector'].replace(['AR startup', 'Augmented Reality Startup', 'AR platform', 'Augmented reality', 'Augmented Reality', 'AR/VR', 'AR/VR startup'], 'Augmented Reality and AR/VR')\n",
    "    \n",
    "    # Replace Content sectors\n",
    "    df['sector'] = df['sector'].replace(['Content publishing', 'Content commerce', 'Content creation', 'Content Management', 'Content Marktplace'], 'Content')\n",
    "    \n",
    "    # Replace Rental Space sector\n",
    "    df['sector'] = df['sector'].replace(['Rental space'], 'Rental Space')\n",
    "    \n",
    "    # Replace Tourism sector\n",
    "    df['sector'] = df['sector'].replace(['Tourism'], 'Tourism')\n",
    "    \n",
    "    # Replace Femtech sector\n",
    "    df['sector'] = df['sector'].replace(['FemTech', 'Femtech'], 'Femtech')\n",
    "    \n",
    "    # Replace Cultural sector\n",
    "    df['sector'] = df['sector'].replace(['Cultural'], 'Cultural')\n",
    "    \n",
    "    # Replace Co-working sectors\n",
    "    df['sector'] = df['sector'].replace(['Co-working', 'Co-working Startup', 'Coworking'], 'Co-working')\n",
    "    \n",
    "    # Replace Supply Chain and Logistics sectors\n",
    "    df['sector'] = df['sector'].replace(['Supply chain platform', 'Supply Chain Platform', 'Logistics & Supply Chain', 'Logistics and Supply Chain', 'B2B Supply Chain'], 'Supply Chain and Logistics')\n",
    "    \n",
    "    # Replace Cryptocurrency sectors\n",
    "    df['sector'] = df['sector'].replace(['Crypto', 'Cryptocurrency'], 'Cryptocurrency')\n",
    "    \n",
    "    # Replace Clothing sector\n",
    "    df['sector'] = df['sector'].replace(['Clothing'], 'Clothing')\n",
    "    \n",
    "    # Replace Analytics and Data Science sectors\n",
    "    df['sector'] = df['sector'].replace(['Analytics', 'Location Analytics', 'Data Analytics', 'Data Science', 'Data Intelligence'], 'Analytics and Data Science')\n",
    "    \n",
    "    # Replace Internet of Things Platform sector\n",
    "    df['sector'] = df['sector'].replace(['IoT platform', 'Internet of Things Platform'], 'Internet of Things Platform')\n",
    "    \n",
    "    # Replace Defense and Space sectors\n",
    "    df['sector'] = df['sector'].replace(['Defense & Space', 'Defense and Space'], 'Defense and Space')\n",
    "    \n",
    "    return df\n",
    "    \n",
    "    \n",
    "    \n",
    "    \n",
    "    \n",
    "    "
   ]
  },
  {
   "cell_type": "code",
   "execution_count": 67,
   "id": "27534c73",
   "metadata": {},
   "outputs": [
    {
     "data": {
      "text/plain": [
       "18"
      ]
     },
     "execution_count": 67,
     "metadata": {},
     "output_type": "execute_result"
    }
   ],
   "source": [
    "df['sector'].isna().sum()"
   ]
  },
  {
   "cell_type": "code",
   "execution_count": 68,
   "id": "1779d916",
   "metadata": {},
   "outputs": [],
   "source": [
    "# apply function\n",
    "df=categorize_sector(df)"
   ]
  },
  {
   "cell_type": "code",
   "execution_count": 69,
   "id": "841c98a4",
   "metadata": {},
   "outputs": [],
   "source": [
    "df['sector'].fillna(df['sector'].mode()[0], inplace=True)"
   ]
  },
  {
   "cell_type": "code",
   "execution_count": 70,
   "id": "64390f15",
   "metadata": {},
   "outputs": [
    {
     "name": "stdout",
     "output_type": "stream",
     "text": [
      " There are 0 missing values\n"
     ]
    }
   ],
   "source": [
    "print(f\" There are {df['sector'].isnull().sum()} missing values\")"
   ]
  },
  {
   "cell_type": "markdown",
   "id": "f486c860",
   "metadata": {},
   "source": [
    "#### __4.4 About_Company__"
   ]
  },
  {
   "cell_type": "code",
   "execution_count": 71,
   "id": "ca63d658",
   "metadata": {},
   "outputs": [
    {
     "data": {
      "text/plain": [
       "array(['Cultivating Ideas for Profit',\n",
       "       'An academy-guardian-scholar centric ecosystem which provides state of the art technological solutions.',\n",
       "       'Converting bio-hazardous waste to harmless waste', ...,\n",
       "       'Mombay is a unique opportunity for housewives to start household food business and avail everyone with their homemade healthy dishes.',\n",
       "       'Droni Tech manufacture UAVs and develop software to service a range of industry requirements.',\n",
       "       \"Welcome to India's most convenient pharmacy!\"], dtype=object)"
      ]
     },
     "execution_count": 71,
     "metadata": {},
     "output_type": "execute_result"
    }
   ],
   "source": [
    "df[\"about_company\"].unique()\n"
   ]
  },
  {
   "cell_type": "code",
   "execution_count": 72,
   "id": "23dbc19d",
   "metadata": {},
   "outputs": [
    {
     "name": "stdout",
     "output_type": "stream",
     "text": [
      "There are 0 missing values\n"
     ]
    }
   ],
   "source": [
    "print(f\"There are {df['about_company'].isnull().sum()} missing values\")"
   ]
  },
  {
   "cell_type": "markdown",
   "id": "f7c8e932",
   "metadata": {},
   "source": [
    "### __4.5 Founders__ "
   ]
  },
  {
   "cell_type": "code",
   "execution_count": 73,
   "id": "527866f6",
   "metadata": {},
   "outputs": [
    {
     "name": "stdout",
     "output_type": "stream",
     "text": [
      "544\n"
     ]
    }
   ],
   "source": [
    "# Remove unwanted characters\n",
    "df['founders'] = df['founders'].replace(['...', np.nan], np.NaN)\n",
    "\n",
    "# Check the number of NaN values in the 'founders' column\n",
    "nan_count = df['founders'].isna().sum()\n",
    "\n",
    "print(nan_count)"
   ]
  },
  {
   "cell_type": "code",
   "execution_count": 74,
   "id": "a5e96555",
   "metadata": {},
   "outputs": [
    {
     "data": {
      "text/plain": [
       "544"
      ]
     },
     "execution_count": 74,
     "metadata": {},
     "output_type": "execute_result"
    }
   ],
   "source": [
    "df['founders'].isnull().sum()"
   ]
  },
  {
   "cell_type": "code",
   "execution_count": 75,
   "id": "24d62536",
   "metadata": {},
   "outputs": [
    {
     "name": "stdout",
     "output_type": "stream",
     "text": [
      " There are 0 missing values\n"
     ]
    }
   ],
   "source": [
    "clean_replace(df, 'founders')\n",
    "print(f\" There are {df['founders'].isna().sum()} missing values\")"
   ]
  },
  {
   "cell_type": "code",
   "execution_count": 76,
   "id": "72dba8df",
   "metadata": {},
   "outputs": [],
   "source": [
    "# strip off characters \n",
    "df['founders'] = df['founders'].str.strip('\\t#REF!')"
   ]
  },
  {
   "cell_type": "markdown",
   "id": "4ab1500d",
   "metadata": {},
   "source": [
    "### __4.6 Investors__"
   ]
  },
  {
   "cell_type": "code",
   "execution_count": 77,
   "id": "edd424e8",
   "metadata": {},
   "outputs": [
    {
     "data": {
      "text/plain": [
       "array(['Angel investors', 'GSF Accelerator', 'Venture Center', ...,\n",
       "       'Norwest Venture Partners, General Catalyst, Fundamentum, Accel Partners',\n",
       "       'TPG, Norwest Venture Partners, Evolvence India', nan],\n",
       "      dtype=object)"
      ]
     },
     "execution_count": 77,
     "metadata": {},
     "output_type": "execute_result"
    }
   ],
   "source": [
    "df['investor'].unique()"
   ]
  },
  {
   "cell_type": "code",
   "execution_count": 78,
   "id": "dfa60c7a",
   "metadata": {},
   "outputs": [
    {
     "name": "stdout",
     "output_type": "stream",
     "text": [
      " There are 629 missing values\n"
     ]
    }
   ],
   "source": [
    "print(f\" There are {df['investor'].isnull().sum()} missing values\")"
   ]
  },
  {
   "cell_type": "markdown",
   "id": "4fce9286",
   "metadata": {},
   "source": [
    "There are 628 missing values\n",
    "Observation\n",
    "\n",
    "---> There are unidentified investors and there are some with not applicable(nan). ---> There are missing values in the column\n",
    "\n",
    "Course of action\n",
    "\n",
    "----> We will be replacing the missing values with none\n",
    "\n",
    "----> Change the nan and replace with none."
   ]
  },
  {
   "cell_type": "code",
   "execution_count": 79,
   "id": "6bc51e48",
   "metadata": {},
   "outputs": [
    {
     "name": "stdout",
     "output_type": "stream",
     "text": [
      " There are 0 missing values\n"
     ]
    }
   ],
   "source": [
    "clean_replace(df, 'investor')\n",
    "\n",
    "print(f\" There are {df['investor'].isna().sum()} missing values\")"
   ]
  },
  {
   "cell_type": "code",
   "execution_count": 80,
   "id": "829425c9",
   "metadata": {},
   "outputs": [],
   "source": [
    "df.loc[:, 'investor'] = df.loc[:, 'investor'].replace('nan', 'None', regex=True)\n",
    "df.loc[:, 'investor'] = df.loc[:, 'investor'].replace('http://100x.vc/', 'None', regex=True)\n",
    "df['investor']= df['investor'].str.split(',').str[0].str.replace(\"'\",\"\", regex=True)\n",
    "df['investor'] = df['investor'].str.strip('\\t#REF!')"
   ]
  },
  {
   "cell_type": "markdown",
   "id": "b60dd009",
   "metadata": {},
   "source": [
    "### __4.7 SERIES__\n",
    "Startups start with pre-seed, progress through seed, Series A, Series B, etc., securing resources for development and strategies. Additional rounds like Series C or D may follow. External funding at each stage fuels growth toward the venture's full potential.\n",
    "\n",
    "\n",
    "\n",
    "link: https://www.startupindia.gov.in/content/sih/en/funding.html\n",
    "\n",
    "__Stages__\t       __Description__\n",
    "\n",
    "__Others:__\tMiscellaneous phases or unique development activities.\n",
    "\n",
    "__Early Traction:__\tGaining initial traction, attracting early adopters, and refining based on feedback.\n",
    "\n",
    "__Validation:__\tValidating the business model, product-market fit, and scalability through research and feedback.\n",
    "\n",
    "__Ideation:__\tBrainstorming and developing business concepts, defining value propositions, and outlining plans.\n",
    "\n",
    "__Scaling:__\tExpanding operations, customer base, and market reach for rapid growth.\n",
    "\n",
    "__Exit Option:__\tConsidering exit strategies such as mergers, acquisitions, or IPOs.\n"
   ]
  },
  {
   "cell_type": "markdown",
   "id": "b93f8983",
   "metadata": {},
   "source": []
  },
  {
   "cell_type": "code",
   "execution_count": 81,
   "id": "777caeb9",
   "metadata": {},
   "outputs": [
    {
     "name": "stdout",
     "output_type": "stream",
     "text": [
      "['others' 'validation' 'early traction' 'scaling' 'exit option']\n"
     ]
    }
   ],
   "source": [
    "def categorize_series(df):\n",
    "    # Convert 'series' column to lowercase for case-insensitive operations\n",
    "    df['series'] = df['series'].astype(str).str.lower()\n",
    "\n",
    "    # Step 1: Replace Exit Option stages\n",
    "    df.loc[df['series'].str.contains('post ipo|post series a', regex=True, case=False), 'series'] = 'exit option'\n",
    "\n",
    "    # Step 2: Replace Scaling stages\n",
    "    df.loc[df['series'].str.contains('mid series|series b\\+|private equity|venture - series unknown', regex=True, case=False), 'series'] = 'scaling'\n",
    "\n",
    "    # Step 3: Replace Early Traction stages\n",
    "    df.loc[df['series'].str.contains('series [abcdefghi]|early seed', regex=True, case=False), 'series'] = 'early traction'\n",
    "\n",
    "    # Step 4: Replace Validation stages\n",
    "    df.loc[df['series'].str.contains('seed|angel', regex=True, case=False), 'series'] = 'validation'\n",
    "\n",
    "    # Step 5: Replace Ideation stages\n",
    "    df.loc[df['series'].str.contains('pre[ -]?seed', regex=True, case=False), 'series'] = 'ideation'\n",
    "\n",
    "    # Step 6: Replace Others\n",
    "    df.loc[df['series'].str.contains('pre[ -]?series|bridge|corporate round|debt|undisclosed|secondary market|non-equity assistance|grant|funding round|nan', na=False, regex=True, case=False), 'series'] = 'others'\n",
    "\n",
    "    # Step 7: Catch-all replacement for any remaining uncategorized values\n",
    "    df.loc[~df['series'].isin(['others', 'early traction', 'validation', 'ideation', 'scaling', 'exit option']), 'series'] = 'others'\n",
    "\n",
    "    return df\n",
    "\n",
    "# Apply the categorization function to your existing DataFrame\n",
    "df = categorize_series(df)\n",
    "\n",
    "# Print the unique values after categorization\n",
    "print(df['series'].unique())"
   ]
  },
  {
   "cell_type": "code",
   "execution_count": 82,
   "id": "de842a40",
   "metadata": {},
   "outputs": [],
   "source": [
    "# fix index 551\n",
    "df.at[551,'amount']=300000\n",
    "df.at[551,'series']=None\n",
    "\n",
    "# fix index 674\n",
    "df.at[674,'amount']=6000000\n",
    "df.at[674,'series']=None\n",
    "\n",
    "# fix index 2531\n",
    "df.at[2531,'amount']=None\n",
    "df.at[2531,'series']=None"
   ]
  },
  {
   "cell_type": "code",
   "execution_count": 83,
   "id": "775396bb",
   "metadata": {},
   "outputs": [],
   "source": [
    "# strip off characters \n",
    "df['series'] = df['series'].str.strip('\\t#REF!')"
   ]
  },
  {
   "cell_type": "markdown",
   "id": "66961324",
   "metadata": {},
   "source": [
    "#### __4.8 Year__"
   ]
  },
  {
   "cell_type": "code",
   "execution_count": 84,
   "id": "b13b26c2",
   "metadata": {},
   "outputs": [
    {
     "data": {
      "text/plain": [
       "dtype('int64')"
      ]
     },
     "execution_count": 84,
     "metadata": {},
     "output_type": "execute_result"
    }
   ],
   "source": [
    "df['year'].dtype"
   ]
  },
  {
   "cell_type": "code",
   "execution_count": 85,
   "id": "2485fd3a",
   "metadata": {},
   "outputs": [],
   "source": [
    "import pandas as pd\n",
    "\n",
    "# Convert the 'year' column to date\n",
    "df['year'] = pd.to_datetime(df['year'], format='%Y')\n",
    "\n",
    "# Convert the 'founded' column to timestamp\n",
    "df['founded'] = df['founded'].dt.to_timestamp()\n",
    "\n",
    "# Extract the year from the 'founded' column\n",
    "df['founded'] = df['founded'].dt.year"
   ]
  },
  {
   "cell_type": "code",
   "execution_count": 86,
   "id": "b906192c",
   "metadata": {},
   "outputs": [
    {
     "name": "stdout",
     "output_type": "stream",
     "text": [
      "There are 0 Null values in the 'year' column\n"
     ]
    }
   ],
   "source": [
    "# check for nulls and duplicated\n",
    "print(f\"There are {df['year'].isna().sum()} Null values in the 'year' column\")"
   ]
  },
  {
   "cell_type": "code",
   "execution_count": 87,
   "id": "cb7a6723",
   "metadata": {},
   "outputs": [],
   "source": [
    "df.dropna(subset=['year'], inplace=True)"
   ]
  },
  {
   "cell_type": "code",
   "execution_count": 88,
   "id": "6f123ba1",
   "metadata": {},
   "outputs": [
    {
     "name": "stdout",
     "output_type": "stream",
     "text": [
      "There are 0 Null values in the 'year' column\n"
     ]
    }
   ],
   "source": [
    "# check for nulls and duplicated\n",
    "print(f\"There are {df['year'].isna().sum()} Null values in the 'year' column\")"
   ]
  },
  {
   "cell_type": "code",
   "execution_count": 89,
   "id": "97efcc05",
   "metadata": {},
   "outputs": [
    {
     "name": "stdout",
     "output_type": "stream",
     "text": [
      "<class 'pandas.core.series.Series'>\n",
      "Index: 2855 entries, 0 to 2878\n",
      "Series name: year\n",
      "Non-Null Count  Dtype         \n",
      "--------------  -----         \n",
      "2855 non-null   datetime64[ns]\n",
      "dtypes: datetime64[ns](1)\n",
      "memory usage: 109.1 KB\n"
     ]
    }
   ],
   "source": [
    "df['year'].info()"
   ]
  },
  {
   "cell_type": "markdown",
   "id": "38d4130f",
   "metadata": {},
   "source": []
  },
  {
   "cell_type": "markdown",
   "id": "a884a532",
   "metadata": {},
   "source": [
    "### __6. Statistical Analysis__"
   ]
  },
  {
   "cell_type": "markdown",
   "id": "62f5e575",
   "metadata": {},
   "source": [
    "### __6.0 Hypothesis Testing__\n",
    "Hypotheses \n",
    "\n",
    "H0 : There is no significant relationship between funding and the sector\n",
    "\n",
    "H1 : There is a significant relationship between funding and the sector\n",
    "\n",
    "We use t-test to test the hypotheses because there are only two groups to analyze. "
   ]
  },
  {
   "cell_type": "code",
   "execution_count": 90,
   "id": "0f6de076",
   "metadata": {},
   "outputs": [
    {
     "name": "stdout",
     "output_type": "stream",
     "text": [
      "Fail to reject the null hypothesis. There is no significant relationship between funding and the sector.\n",
      "The p_value is 0.9999999999999999\n",
      "The f_statistic is 0.06267113279592722\n"
     ]
    }
   ],
   "source": [
    "\n",
    "\n",
    "# Create a subset of the DataFrame with only the 'sector' and 'amount' columns\n",
    "sector_funding = df[['sector', 'amount']]\n",
    "\n",
    "# Convert 'amount' column to numeric type\n",
    "sector_funding['amount'] = pd.to_numeric(sector_funding['amount'], errors='coerce')\n",
    "\n",
    "# Remove any rows with missing values\n",
    "sector_funding = sector_funding.dropna()\n",
    "\n",
    "# Perform one-way ANOVA\n",
    "sector_groups = [group[1] for group in sector_funding.groupby('sector')['amount']]\n",
    "f_statistic, p_value = stats.f_oneway(*sector_groups)\n",
    "\n",
    "# Define the significance level (alpha)\n",
    "alpha = 0.05\n",
    "\n",
    "# Interpret the results\n",
    "if p_value < alpha:\n",
    "    print(\"Reject the null hypothesis. There is a significant relationship between funding and the sector.\")\n",
    "else:\n",
    "    print(\"Fail to reject the null hypothesis. There is no significant relationship between funding and the sector.\")\n",
    "print(f'The p_value is {p_value}')\n",
    "print(f'The f_statistic is {f_statistic}')"
   ]
  },
  {
   "cell_type": "markdown",
   "id": "1fd57b79",
   "metadata": {},
   "source": [
    "### __7. Analytical Questions__"
   ]
  },
  {
   "cell_type": "markdown",
   "id": "4b760f17",
   "metadata": {},
   "source": [
    "### __Questions__\n",
    "1. How have funding trends evolved between 2018 and 2021?\n",
    "2. What is the relationship between the amount of funding and the stage of the company?\n",
    "3. How does funding vary with the location of the start-ups\n",
    "4. What are the most attractive sectors for investors?\n",
    "5. Does the location of the company influence its sector?"
   ]
  },
  {
   "cell_type": "markdown",
   "id": "da5197eb",
   "metadata": {},
   "source": [
    "#### __7.10 How have funding trends evolved between 2018 and 2021?__ ####"
   ]
  },
  {
   "cell_type": "code",
   "execution_count": 91,
   "id": "28211b4f",
   "metadata": {},
   "outputs": [
    {
     "data": {
      "image/png": "[encoded data removed]",
      "text/plain": [
       "<Figure size 1200x600 with 1 Axes>"
      ]
     },
     "metadata": {},
     "output_type": "display_data"
    }
   ],
   "source": [
    "\n",
    "\n",
    "# Convert the 'amount' column to numeric type\n",
    "df['amount'] = pd.to_numeric(df['amount'], errors='coerce')\n",
    "\n",
    "# Group the data by year and calculate the total funded amount\n",
    "funding_trend = df.groupby('year')['amount'].sum()\n",
    "\n",
    "# Convert the result to a DataFrame\n",
    "funding_trend = pd.DataFrame(funding_trend).reset_index()\n",
    "\n",
    "# Create a line plot using Seaborn\n",
    "plt.figure(figsize=(12, 6))  # Adjust the figure size if needed\n",
    "ax = sns.lineplot(data=funding_trend, x='year', marker='o', markersize=5, y='amount')\n",
    "\n",
    "# Set plot title and axis labels\n",
    "plt.title('Funding Trend Over the Years\\n2018-2021')\n",
    "plt.xlabel('Year')\n",
    "plt.ylabel('Total Funded Amount (in Billion Dollars)')\n",
    "\n",
    "# Rotate x-axis labels and format y-axis tick labels\n",
    "plt.xticks(rotation=5)\n",
    "ax.xaxis.set_major_locator(YearLocator())\n",
    "ax.yaxis.set_major_formatter(FuncFormatter(lambda x, _: '{:,}'.format(int(x))))\n",
    "ax.yaxis.set_major_formatter(FuncFormatter(lambda x, _: f'{int(x / 1e9)}B'))\n",
    "\n",
    "# Add data labels to the plot\n",
    "for i, label in enumerate(funding_trend['amount']):\n",
    "    year = funding_trend['year'].iloc[i]\n",
    "    y_value = funding_trend['amount'].iloc[i]\n",
    "    label_text = f'{label / 1e9:.1f}B' if not pd.isna(label) else 'N/A'\n",
    "    plt.text(year, y_value, label_text, ha='left', va='top', color='black', fontsize=10)\n",
    "\n",
    "# Display the plot\n",
    "plt.show()"
   ]
  },
  {
   "cell_type": "markdown",
   "id": "8a2451c2",
   "metadata": {},
   "source": [
    "#### __Observations__ ####\n",
    "- There was a modest decline in funding amounts between 2018 and 2019. However, from 2019 to 2021, there was a remarkable and abrupt increase, with a substantial difference of over 176 billion between the funding levels in 2019 and 2021.\n",
    "- 2021 is by far the best funded year with over 179B in funding"
   ]
  },
  {
   "cell_type": "markdown",
   "id": "63679165",
   "metadata": {},
   "source": [
    "#### __7.11 Evolution of Funding Trends Across Top Locations Over the Years__ ####"
   ]
  },
  {
   "cell_type": "code",
   "execution_count": 92,
   "id": "213d28ea",
   "metadata": {},
   "outputs": [
    {
     "data": {
      "image/png": "[encoded data removed]",
      "text/plain": [
       "<Figure size 1200x600 with 1 Axes>"
      ]
     },
     "metadata": {},
     "output_type": "display_data"
    }
   ],
   "source": [
    "# plot a line graph for the top four funded locations\n",
    "df['year'] = pd.to_datetime(df['year'], format='%Y')\n",
    "location_trend = df.groupby(['headquarter', 'year'])['amount'].sum().sort_values(ascending=False)\n",
    "top_locations = location_trend.groupby('headquarter').sum().nlargest(4).index\n",
    "# Filter the original DataFrame for the top 5 locations\n",
    "location_trend_top4 = location_trend[location_trend.index.get_level_values('headquarter').isin(top_locations)].reset_index()\n",
    "location_trend_top4_reset = location_trend_top4.reset_index()\n",
    "# Create a line plot using Seaborn\n",
    "plt.figure(figsize=(12, 6))  # Adjust the figure size if needed\n",
    "ax = sns.lineplot(data=location_trend_top4_reset, x='year', y='amount', hue='headquarter', marker='o', markersize=8)\n",
    "plt.title('Funding Trend across Top Locations Over the Years\\n2018-2021\\n')\n",
    "plt.xlabel('Year')\n",
    "plt.ylabel('Total Funded Amount')\n",
    "ax.yaxis.set_major_formatter(FuncFormatter(lambda x, _: f'{int(x / 1e9)}B'))\n",
    "ax.xaxis.set_major_locator(YearLocator())\n",
    "plt.show()"
   ]
  },
  {
   "cell_type": "markdown",
   "id": "11916c29",
   "metadata": {},
   "source": [
    "#### __Observations__ ####\n",
    "Mumbai stands out as the most well-funded location, exhibiting a funding trend that closely mirrors the overall funding pattern. In contrast, Bangalore, Gurgaon, Delhi and all other cities follow at a considerable distance."
   ]
  },
  {
   "cell_type": "markdown",
   "id": "ab06e26e",
   "metadata": {},
   "source": [
    "### __7.12 Evolution of Funding Trends Across Top Sectors Over the Years__ ##"
   ]
  },
  {
   "cell_type": "code",
   "execution_count": 93,
   "id": "8af0cbba",
   "metadata": {},
   "outputs": [
    {
     "data": {
      "image/png": "[encoded data removed]",
      "text/plain": [
       "<Figure size 1200x600 with 1 Axes>"
      ]
     },
     "metadata": {},
     "output_type": "display_data"
    }
   ],
   "source": [
    "# Plot a line graph to visualize trend of funding across top top_sectors\n",
    "df['year'] = pd.to_datetime(df['year'], format='%Y')\n",
    "sector_trend = df.groupby(['sector', 'year'])['amount'].sum().sort_values(ascending=False)\n",
    "top_sectors = sector_trend.groupby('sector').sum().nlargest(4).index\n",
    "sector_trend_top4 = sector_trend[sector_trend.index.get_level_values('sector').isin(top_sectors)].reset_index()\n",
    "plt.figure(figsize=(12, 6))\n",
    "ax = sns.lineplot(data=sector_trend_top4, x='year', y='amount', hue='sector', marker='o', markersize=8)\n",
    "plt.title('Funding Trends across Top Sectors Over the Years\\n2018-2021\\n')\n",
    "plt.xlabel('Year')\n",
    "plt.ylabel('Total Funded Amount (in billions)')\n",
    "ax.yaxis.set_major_formatter(FuncFormatter(lambda x, _: f'{int(x / 1e9)}B'))\n",
    "ax.xaxis.set_major_locator(YearLocator())\n",
    "plt.show()"
   ]
  },
  {
   "cell_type": "markdown",
   "id": "f31f354f",
   "metadata": {},
   "source": [
    "### __Observations__ ###\n",
    "Retail has undergone a notable evolution in its funding trend. Initially, it exhibited a steep upward trajectory until 2020, followed by a sudden decline between 2020 and 2021.\n",
    "\n",
    "In contrast, fintech consistently lagged significantly behind retail until 2020, only to experience a sudden upward trajectory thereafter, ultimately emerging as the best-funded sector."
   ]
  },
  {
   "cell_type": "markdown",
   "id": "b789a0bd",
   "metadata": {},
   "source": [
    " #### __7.13 Evolution of Funding Trends Across Startup Stages Over the Years__ ####"
   ]
  },
  {
   "cell_type": "code",
   "execution_count": 94,
   "id": "53638e58",
   "metadata": {},
   "outputs": [
    {
     "data": {
      "image/png": "[encoded data removed]",
      "text/plain": [
       "<Figure size 1200x600 with 1 Axes>"
      ]
     },
     "metadata": {},
     "output_type": "display_data"
    }
   ],
   "source": [
    "# plot a line graph for the top four funded series\n",
    "df['year'] = pd.to_datetime(df['year'], format='%Y')\n",
    "series_trend = df.groupby(['series', 'year'])['amount'].sum().sort_values(ascending=False)\n",
    "top_series = series_trend.groupby('series').sum().index\n",
    "# Filter the original DataFrame for the top 4 series\n",
    "series_trend_top4 = series_trend[series_trend.index.get_level_values('series').isin(top_series)].reset_index()\n",
    "series_trend_top4_reset = series_trend_top4.reset_index()\n",
    "# Create a line plot using Seaborn\n",
    "plt.figure(figsize=(12, 6))  # Adjust the figure size if needed\n",
    "ax = sns.lineplot(data=series_trend_top4_reset, x='year', y='amount', hue='series', marker='o', markersize=8)\n",
    "plt.title('Funding Trends across All stages Over the Years\\n2018-2021\\n')\n",
    "plt.xlabel('Year')\n",
    "plt.ylabel('Total Funded Amount')\n",
    "ax.yaxis.set_major_formatter(FuncFormatter(lambda x, _: f'{int(x / 1e9)}B'))\n",
    "ax.xaxis.set_major_locator(YearLocator())\n",
    "plt.show()"
   ]
  },
  {
   "cell_type": "code",
   "execution_count": null,
   "id": "df80c91c",
   "metadata": {},
   "outputs": [],
   "source": []
  },
  {
   "cell_type": "markdown",
   "id": "a84775e0",
   "metadata": {},
   "source": [
    "#### __Observations__ ####\n",
    "From the Graph above, Over the years, \"Other\" category which includes Private Equity, Corporate Round, Undisclosed, Non-equity Assistance, Debt, Bridge, and Edge has seen a tremendous growth in the amount of funding received. These types of funding are often associated with more mature startups. As the startup ecosystem has matured, investors have become more comfortable investing in later-stage startups that are closer to profitability."
   ]
  },
  {
   "cell_type": "markdown",
   "id": "e7b7c537",
   "metadata": {},
   "source": [
    "### __Concclusion__ ###\n",
    "__Startup Funding Trends__\n",
    "\n",
    "Startup funding is experiencing a significant surge, especially in the financial technology (Fintech) sector. Among various locations, Mumbai stands out as the epicenter of this growth.\n",
    "\n",
    "__Key Points:__\n",
    "\n",
    "Rising Trends: Startup funding is on a tremendous rise.\n",
    "Location Spotlight: Mumbai leads the charts as the location with the most substantial rise in startup funding.\n",
    "Industry Focus: Fintech emerges as the industry experiencing the most significant surge in funding."
   ]
  },
  {
   "cell_type": "markdown",
   "id": "34462bda",
   "metadata": {},
   "source": [
    "#### __7.2 What is the relationship between the amount of funding and the stage of the company?__ ####"
   ]
  },
  {
   "cell_type": "code",
   "execution_count": 95,
   "id": "2e4dbf04",
   "metadata": {},
   "outputs": [
    {
     "data": {
      "image/png": "[encoded data removed]",
      "text/plain": [
       "<Figure size 1000x600 with 1 Axes>"
      ]
     },
     "metadata": {},
     "output_type": "display_data"
    }
   ],
   "source": [
    "stage_funding_dist = df.groupby('series')['amount'].sum().sort_values(ascending=False)\n",
    "# Plot the data\n",
    "fig, ax = plt.subplots(figsize=(10, 6))\n",
    "stage_funding_dist.plot(kind='barh', ax=ax)\n",
    "ax.set_title('Total Funding Amounts Per Series\\n2018-2021', fontsize=14)\n",
    "ax.set_xlabel('Amount of Funding in Billion Dollars', fontsize=12)\n",
    "ax.set_ylabel('Series', fontsize=12)\n",
    "\n",
    "# Annotate the bars\n",
    "for i, (series, amount) in enumerate(stage_funding_dist.items()):\n",
    "    ax.annotate(f'{amount / 1e9:.1f}B', xy=(amount, i), ha='left', va='center', fontsize=10)\n",
    "\n",
    "plt.tight_layout()\n",
    "plt.show()"
   ]
  },
  {
   "cell_type": "markdown",
   "id": "7857dfe8",
   "metadata": {},
   "source": [
    "#### __Observations__ ####\n",
    "- Category 'Others' being the best funded stage received 251B in total\n",
    "- Exit option is the worst funded with about a Billion in funding\n",
    "- A clear trend emerges – the more mature the startup, the more likely it is to attract substantial funding"
   ]
  },
  {
   "cell_type": "markdown",
   "id": "dc3a6caf",
   "metadata": {},
   "source": [
    "### __7.20 Average Funding Received in Different Stages__ ###"
   ]
  },
  {
   "cell_type": "code",
   "execution_count": 96,
   "id": "eb3cd0fb",
   "metadata": {},
   "outputs": [
    {
     "data": {
      "image/png": "[encoded data removed]",
      "text/plain": [
       "<Figure size 1000x600 with 1 Axes>"
      ]
     },
     "metadata": {},
     "output_type": "display_data"
    }
   ],
   "source": [
    "# Average funding received by startups in different stages\n",
    "stage_funding_dist_avg = df.groupby('series')['amount'].mean().sort_values(ascending=False)\n",
    "stage_funding_dist_avg = pd.DataFrame(stage_funding_dist_avg)\n",
    "\n",
    "# Limiting the number of categories to plot\n",
    "num_categories = 10  # You can adjust this value according to your preference\n",
    "top_categories = stage_funding_dist_avg.head(num_categories)\n",
    "\n",
    "plt.figure(figsize=(10, 6))  # Reduced figure size\n",
    "\n",
    "# Plot horizontal bar chart\n",
    "bars=plt.barh(top_categories.index, top_categories['amount'])\n",
    "\n",
    "plt.title('Average Funding Amounts Per Series\\n2018-2021')\n",
    "plt.xlabel('Average Amount of Funding in Miilion Dollars')\n",
    "plt.ylabel('Series')\n",
    "for bar in bars:\n",
    "    width = bar.get_width()\n",
    "    plt.annotate(f'{int(width / 1e6)}M',\n",
    "                 xy=(width, bar.get_y() + bar.get_height() / 2),\n",
    "                 xytext=(3, 0),  # 3 points horizontal offset\n",
    "                 textcoords='offset points',\n",
    "                 ha='left', va='center', fontsize=10)\n",
    "\n",
    "\n",
    "plt.show()"
   ]
  },
  {
   "cell_type": "markdown",
   "id": "dff32e55",
   "metadata": {},
   "source": [
    "##### __Conclusion__ #####\n",
    "We can comfortably infer that startups that are more muture get more funding on average"
   ]
  },
  {
   "cell_type": "markdown",
   "id": "6428a2e3",
   "metadata": {},
   "source": [
    "#### __7.3 How does funding vary with the location of the start-ups__ ####"
   ]
  },
  {
   "cell_type": "code",
   "execution_count": 97,
   "id": "7e4d46c4",
   "metadata": {},
   "outputs": [
    {
     "data": {
      "image/png": "[encoded data removed]",
      "text/plain": [
       "<Figure size 1000x600 with 1 Axes>"
      ]
     },
     "metadata": {},
     "output_type": "display_data"
    }
   ],
   "source": [
    "# Group by 'headquarter' and calculate the mean amount\n",
    "location_funding = df.groupby('headquarter')['amount'].mean().reset_index()\n",
    "\n",
    "# Sort by mean funding amount and select the top 10 cities\n",
    "top_10_cities = location_funding.sort_values('amount', ascending=False).head(10)\n",
    "\n",
    "# Create a bar plot\n",
    "fig, ax = plt.subplots(figsize=(10, 6))\n",
    "bars = ax.bar(top_10_cities['headquarter'], top_10_cities['amount'])\n",
    "\n",
    "# Add labels and title\n",
    "plt.xlabel('City', fontsize=12)\n",
    "plt.ylabel('Average Funding Amount', fontsize=12)\n",
    "plt.title('Top 10 Cities by Average Funding Amount\\n2018-2021', fontsize=14)\n",
    "\n",
    "# Rotate x-axis labels for better readability\n",
    "plt.xticks(rotation=45, ha='right')\n",
    "\n",
    "# Annotate the bars with the mean funding amount\n",
    "for bar in bars:\n",
    "    height = bar.get_height()\n",
    "    ax.annotate(f'{height / 1e9:.1f}B',\n",
    "                xy=(bar.get_x() + bar.get_width() / 2, height),\n",
    "                xytext=(0, 3),\n",
    "                textcoords='offset points',\n",
    "                ha='center', va='bottom', fontsize=10)\n",
    "\n",
    "plt.tight_layout()\n",
    "plt.show()\n"
   ]
  },
  {
   "cell_type": "markdown",
   "id": "9420068e",
   "metadata": {},
   "source": [
    "#### __Observations__ ####\n",
    "- Mumbai's startups get the most money on average. Shanghai gets less, quite a bit behind. It's like a funding showdown between the two cities.\n",
    "- There's clear variation in funding across different cities. Mumbai, Shanghai, San Francisco, Kalpakkan, and Beijing startups are more likely to secure over $0.2 billion on average."
   ]
  },
  {
   "cell_type": "markdown",
   "id": "2dd6fe77",
   "metadata": {},
   "source": [
    "#### __Conclusion__ ####\n",
    "- Startups located in Mumbai and San Francisco receive more funding \n",
    "on average than startups in other locations."
   ]
  },
  {
   "cell_type": "markdown",
   "id": "f646f0c1",
   "metadata": {},
   "source": [
    " #### __7.4 What are the most attractive sectors for investors?__ ####"
   ]
  },
  {
   "cell_type": "markdown",
   "id": "61da556c",
   "metadata": {},
   "source": [
    "#### __7.40 Total Funding per Sector__ ####"
   ]
  },
  {
   "cell_type": "code",
   "execution_count": 98,
   "id": "ce63386f",
   "metadata": {},
   "outputs": [
    {
     "data": {
      "image/png": "[encoded data removed]",
      "text/plain": [
       "<Figure size 1000x600 with 1 Axes>"
      ]
     },
     "metadata": {},
     "output_type": "display_data"
    }
   ],
   "source": [
    "# Sort sectors by funding amount\n",
    "sectors_by_funding = df.groupby('sector')['amount'].sum().sort_values(ascending=False)\n",
    "\n",
    "# Select top ten sectors\n",
    "top_ten_sectors_by_funding = sectors_by_funding.head(10)\n",
    "\n",
    "# Set Seaborn style\n",
    "sns.set_style(\"darkgrid\")\n",
    "\n",
    "# Plotting using Pandas\n",
    "fig, ax = plt.subplots(figsize=(10, 6))\n",
    "top_ten_sectors_by_funding.plot(kind='barh', ax=ax)\n",
    "ax.set_title('Top Ten Sectors by Total Funding (in $B)\\n2018-2021', fontsize=14)\n",
    "ax.set_xlabel('Amount in Billion $', fontsize=12)\n",
    "ax.set_ylabel('Sector', fontsize=12)\n",
    "\n",
    "# Annotate the bars\n",
    "for i, (sector, amount) in enumerate(top_ten_sectors_by_funding.items()):\n",
    "    ax.annotate(f'{amount / 1e9:.1f}B', xy=(amount, i), ha='left', va='center', fontsize=10)\n",
    "\n",
    "plt.tight_layout()\n",
    "plt.show()"
   ]
  },
  {
   "cell_type": "markdown",
   "id": "0be5451c",
   "metadata": {},
   "source": [
    "#### __Observations__ ####\n",
    "- Fintech and retail sectors stand out as the most attractive for investors.\n",
    "- The two sectors have received the most funding over the year\n",
    "- These sectors have received significant funding, making them key players in the startup investment landscape."
   ]
  },
  {
   "cell_type": "markdown",
   "id": "e6c7076b",
   "metadata": {},
   "source": []
  },
  {
   "cell_type": "markdown",
   "id": "f4425e40",
   "metadata": {},
   "source": [
    "#### __7.41 Average Funding per Sector__ ####"
   ]
  },
  {
   "cell_type": "code",
   "execution_count": 99,
   "id": "42bc6da4",
   "metadata": {},
   "outputs": [
    {
     "data": {
      "image/png": "[encoded data removed]",
      "text/plain": [
       "<Figure size 1000x600 with 1 Axes>"
      ]
     },
     "metadata": {},
     "output_type": "display_data"
    }
   ],
   "source": [
    "# Find the average funding amount for each sector\n",
    "avg_sectors_funding = df.groupby('sector')['amount'].mean().reset_index()\n",
    "\n",
    "# Convert the amount to billion dollars\n",
    "avg_sectors_funding['amount_in_billion'] = avg_sectors_funding['amount'] / 1e9\n",
    "\n",
    "# Sort sectors by average funding amount and select the top 10\n",
    "top_ten_sectors = avg_sectors_funding.sort_values('amount_in_billion', ascending=False).head(10)\n",
    "\n",
    "# Set Seaborn style\n",
    "sns.set_style(\"darkgrid\")\n",
    "\n",
    "# Create a bar plot\n",
    "fig, ax = plt.subplots(figsize=(10, 6))\n",
    "bars = ax.bar(top_ten_sectors['sector'], top_ten_sectors['amount_in_billion'])\n",
    "\n",
    "# Add labels and title\n",
    "plt.xlabel('Sector', fontsize=12)\n",
    "plt.ylabel('Average Funding Amount (in $B)', fontsize=12)\n",
    "plt.title('Top 10 Sectors by Average Funding Amount\\n2018-2021', fontsize=14)\n",
    "\n",
    "# Rotate x-axis labels for better readability\n",
    "plt.xticks(rotation=45, ha='right')\n",
    "\n",
    "# Annotate the bars with the average funding amount\n",
    "for bar in bars:\n",
    "    height = bar.get_height()\n",
    "    ax.annotate(f'{height:.1f}B',\n",
    "                xy=(bar.get_x() + bar.get_width() / 2, height),\n",
    "                xytext=(0, 3),\n",
    "                textcoords='offset points',\n",
    "                ha='center', va='bottom', fontsize=10)\n",
    "\n",
    "plt.tight_layout()\n",
    "plt.show()\n"
   ]
  },
  {
   "cell_type": "markdown",
   "id": "5d5cc4bf",
   "metadata": {},
   "source": [
    "#### __Observations__ ####\n",
    "__1. Retail Dominance:__\n",
    "\n",
    "On average, retail startups secured the highest funding from 2018 to 2021, indicating strong investor interest.\n",
    "\n",
    "___2. Fintech Discrepancy:__\n",
    "\n",
    "While fintech received the most funds in total, the average funding per startup was significantly lower at $0.55 billion.\n",
    "In contrast, retail startups averaged a substantial $2.4 billion, highlighting a considerable difference in individual funding amounts.\n",
    "\n",
    "__Conclusion__\n",
    "The most attractive sectors for investors are Retail and Fintech"
   ]
  },
  {
   "cell_type": "markdown",
   "id": "13dba26b",
   "metadata": {},
   "source": [
    "### __7.5 Does the location of the company influence its sector?__"
   ]
  },
  {
   "cell_type": "code",
   "execution_count": 100,
   "id": "06997e1f",
   "metadata": {},
   "outputs": [
    {
     "data": {
      "application/vnd.plotly.v1+json": {
       "config": {
        "plotlyServerURL": "https://plot.ly"
       },
       "data": [
        {
         "coloraxis": "coloraxis",
         "hovertemplate": "Headquarter Location=%{x}<br>Sector=%{y}<br>count=%{z}<extra></extra>",
         "name": "",
         "type": "histogram2d",
         "x": [
          "Bangalore",
          "Bangalore",
          "Gurgaon",
          "Delhi",
          "Delhi",
          "Mumbai",
          "Gurgaon",
          "Mumbai",
          "Bangalore",
          "Gurgaon",
          "Bangalore",
          "Gurgaon",
          "Bangalore",
          "Gurgaon",
          "Bangalore",
          "Delhi",
          "Gurgaon",
          "Pune",
          "Delhi",
          "Pune",
          "Bangalore",
          "Bangalore",
          "Bangalore",
          "Bangalore",
          "Bangalore",
          "Bangalore",
          "Bangalore",
          "None",
          "Bangalore",
          "Bangalore",
          "Delhi",
          "Mumbai",
          "Gurgaon",
          "Mumbai",
          "Gurgaon",
          "Bangalore",
          "Gurgaon",
          "Bangalore",
          "Bangalore",
          "Bangalore",
          "Bangalore",
          "Bangalore",
          "Delhi",
          "Gurgaon",
          "Mumbai",
          "Bangalore",
          "Bangalore",
          "Mumbai",
          "Pune",
          "Gurgaon",
          "Bangalore",
          "Bangalore",
          "Mumbai",
          "Delhi",
          "Mumbai",
          "Gurgaon",
          "San Francisco",
          "Bangalore",
          "Mumbai",
          "Mumbai",
          "Mumbai",
          "Bangalore",
          "Mumbai",
          "Bangalore",
          "Mumbai",
          "Gurgaon",
          "Bangalore",
          "Bangalore",
          "Bangalore",
          "Mumbai",
          "Bangalore",
          "Mumbai",
          "Mumbai",
          "Bangalore",
          "San Francisco",
          "Gurgaon",
          "Bangalore",
          "Mumbai",
          "Gurgaon",
          "Bangalore",
          "Bangalore",
          "Bangalore",
          "Mumbai",
          "Mumbai",
          "Mumbai",
          "Bangalore",
          "Delhi",
          "Mumbai",
          "Mumbai",
          "Mumbai",
          "Delhi",
          "Mumbai",
          "San Francisco",
          "Bangalore",
          "Bangalore",
          "Mumbai",
          "Pune",
          "Mumbai",
          "Mumbai",
          "Bangalore",
          "Mumbai",
          "Bangalore",
          "Delhi",
          "San Francisco",
          "Mumbai",
          "Gurgaon",
          "Bangalore",
          "Bangalore",
          "Gurgaon",
          "Delhi",
          "Bangalore",
          "Bangalore",
          "Gurgaon",
          "Pune",
          "Pune",
          "Gurgaon",
          "Bangalore",
          "Mumbai",
          "Mumbai",
          "Mumbai",
          "Mumbai",
          "Delhi",
          "Mumbai",
          "Bangalore",
          "Mumbai",
          "Gurgaon",
          "Gurgaon",
          "Delhi",
          "Mumbai",
          "Bangalore",
          "Bangalore",
          "Bangalore",
          "Mumbai",
          "Bangalore",
          "Bangalore",
          "Bangalore",
          "Pune",
          "Bangalore",
          "Bangalore",
          "Mumbai",
          "Mumbai",
          "Bangalore",
          "Mumbai",
          "Delhi",
          "Mumbai",
          "Mumbai",
          "Bangalore",
          "Delhi",
          "Mumbai",
          "Bangalore",
          "None",
          "Bangalore",
          "Bangalore",
          "Gurgaon",
          "Bangalore",
          "Pune",
          "Bangalore",
          "Mumbai",
          "Bangalore",
          "Bangalore",
          "Gurgaon",
          "Gurgaon",
          "Bangalore",
          "Delhi",
          "Gurgaon",
          "Bangalore",
          "Mumbai",
          "Bangalore",
          "Bangalore",
          "Bangalore",
          "Gurgaon",
          "Bangalore",
          "Mumbai",
          "Bangalore",
          "Mumbai",
          "None",
          "Bangalore",
          "Delhi",
          "Bangalore",
          "Gurgaon",
          "Mumbai",
          "Gurgaon",
          "Gurgaon",
          "Bangalore",
          "None",
          "Bangalore",
          "None",
          "Gurgaon",
          "None",
          "Mumbai",
          "Bangalore",
          "Delhi",
          "Mumbai",
          "None",
          "Delhi",
          "Bangalore",
          "None",
          "Pune",
          "Bangalore",
          "Delhi",
          "Bangalore",
          "Pune",
          "Mumbai",
          "Bangalore",
          "None",
          "None",
          "Bangalore",
          "None",
          "Bangalore",
          "None",
          "Mumbai",
          "Gurgaon",
          "Bangalore",
          "Gurgaon",
          "Bangalore",
          "Mumbai",
          "Delhi",
          "Gurgaon",
          "Mumbai",
          "Bangalore",
          "Mumbai",
          "None",
          "None",
          "Bangalore",
          "None",
          "Bangalore",
          "Bangalore",
          "Gurgaon",
          "Mumbai",
          "Bangalore",
          "Bangalore",
          "Gurgaon",
          "Mumbai",
          "Bangalore",
          "Delhi",
          "Bangalore",
          "Delhi",
          "None",
          "Delhi",
          "Bangalore",
          "Bangalore",
          "Gurgaon",
          "Bangalore",
          "Bangalore",
          "Bangalore",
          "None",
          "Delhi",
          "Bangalore",
          "None",
          "None",
          "Delhi",
          "Gurgaon",
          "Mumbai",
          "None",
          "Mumbai",
          "Bangalore",
          "Mumbai",
          "Bangalore",
          "Gurgaon",
          "Delhi",
          "Bangalore",
          "Pune",
          "None",
          "Gurgaon",
          "Mumbai",
          "Bangalore",
          "Delhi",
          "Mumbai",
          "None",
          "Bangalore",
          "Pune",
          "Bangalore",
          "Bangalore",
          "None",
          "Bangalore",
          "None",
          "Delhi",
          "None",
          "None",
          "None",
          "None",
          "None",
          "Gurgaon",
          "None",
          "Delhi",
          "None",
          "Mumbai",
          "Mumbai",
          "Mumbai",
          "Gurgaon",
          "Mumbai",
          "Delhi",
          "Bangalore",
          "Bangalore",
          "Bangalore",
          "Delhi",
          "None",
          "Bangalore",
          "Gurgaon",
          "Mumbai",
          "Mumbai",
          "Delhi",
          "Bangalore",
          "Bangalore",
          "Bangalore",
          "Bangalore",
          "Mumbai",
          "Delhi",
          "Bangalore",
          "Bangalore",
          "Pune",
          "Gurgaon",
          "Gurgaon",
          "Mumbai",
          "Bangalore",
          "Bangalore",
          "Bangalore",
          "Bangalore",
          "Pune",
          "Bangalore",
          "Bangalore",
          "Mumbai",
          "Bangalore",
          "Gurgaon",
          "Delhi",
          "Gurgaon",
          "Bangalore",
          "Bangalore",
          "Bangalore",
          "Delhi",
          "Mumbai",
          "Delhi",
          "Delhi",
          "Gurgaon",
          "Gurgaon",
          "Gurgaon",
          "Mumbai",
          "Delhi",
          "Bangalore",
          "Gurgaon",
          "Delhi",
          "Bangalore",
          "Mumbai",
          "Bangalore",
          "Delhi",
          "Gurgaon",
          "Delhi",
          "Delhi",
          "Bangalore",
          "Bangalore",
          "Bangalore",
          "Gurgaon",
          "Gurgaon",
          "Mumbai",
          "Mumbai",
          "Bangalore",
          "Mumbai",
          "Bangalore",
          "Bangalore",
          "Mumbai",
          "Bangalore",
          "Bangalore",
          "Bangalore",
          "Gurgaon",
          "Mumbai",
          "Bangalore",
          "Bangalore",
          "Gurgaon",
          "Gurgaon",
          "Mumbai",
          "Delhi",
          "Pune",
          "Gurgaon",
          "Bangalore",
          "Delhi",
          "Bangalore",
          "Mumbai",
          "Bangalore",
          "Bangalore",
          "Bangalore",
          "Pune",
          "Gurgaon",
          "Bangalore",
          "Bangalore",
          "Delhi",
          "Delhi",
          "Mumbai",
          "Bangalore",
          "Bangalore",
          "Mumbai",
          "Gurgaon",
          "Mumbai",
          "Gurgaon",
          "Delhi",
          "Gurgaon",
          "Bangalore",
          "Gurgaon",
          "Delhi",
          "Delhi",
          "Gurgaon",
          "Bangalore",
          "Mumbai",
          "Delhi",
          "Delhi",
          "Delhi",
          "Bangalore",
          "Mumbai",
          "Delhi",
          "Delhi",
          "Bangalore",
          "Delhi",
          "Gurgaon",
          "Pune",
          "Bangalore",
          "Mumbai",
          "Mumbai",
          "Bangalore",
          "Bangalore",
          "Bangalore",
          "Pune",
          "Bangalore",
          "Pune",
          "Bangalore",
          "Gurgaon",
          "Bangalore",
          "Delhi",
          "Mumbai",
          "Mumbai",
          "Delhi",
          "Mumbai",
          "Bangalore",
          "Bangalore",
          "Bangalore",
          "Mumbai",
          "Gurgaon",
          "Gurgaon",
          "Delhi",
          "Gurgaon",
          "Bangalore",
          "Mumbai",
          "Bangalore",
          "Delhi",
          "Bangalore",
          "Bangalore",
          "Delhi",
          "Mumbai",
          "Bangalore",
          "Bangalore",
          "Bangalore",
          "Bangalore",
          "Bangalore",
          "Mumbai",
          "Bangalore",
          "Bangalore",
          "Delhi",
          "Bangalore",
          "Bangalore",
          "Bangalore",
          "Pune",
          "Mumbai",
          "Gurgaon",
          "Bangalore",
          "Mumbai",
          "Delhi",
          "Delhi",
          "Bangalore",
          "Bangalore",
          "Delhi",
          "Delhi",
          "Bangalore",
          "Bangalore",
          "Delhi",
          "Mumbai",
          "Bangalore",
          "Mumbai",
          "Mumbai",
          "Gurgaon",
          "Gurgaon",
          "Bangalore",
          "Mumbai",
          "Mumbai",
          "Gurgaon",
          "Bangalore",
          "Delhi",
          "Bangalore",
          "Bangalore",
          "Bangalore",
          "Bangalore",
          "Delhi",
          "Bangalore",
          "Mumbai",
          "Gurgaon",
          "Gurgaon",
          "Bangalore",
          "Bangalore",
          "Delhi",
          "Bangalore",
          "Gurgaon",
          "Bangalore",
          "Mumbai",
          "Mumbai",
          "Gurgaon",
          "Mumbai",
          "Mumbai",
          "Bangalore",
          "Mumbai",
          "Delhi",
          "Bangalore",
          "Bangalore",
          "Delhi",
          "Gurgaon",
          "Gurgaon",
          "Gurgaon",
          "Mumbai",
          "Pune",
          "Gurgaon",
          "Gurgaon",
          "Delhi",
          "Bangalore",
          "Bangalore",
          "Delhi",
          "Gurgaon",
          "Bangalore",
          "Mumbai",
          "Mumbai",
          "Mumbai",
          "Mumbai",
          "Bangalore",
          "Delhi",
          "Delhi",
          "Mumbai",
          "Mumbai",
          "Bangalore",
          "Bangalore",
          "Pune",
          "Bangalore",
          "Mumbai",
          "Mumbai",
          "Bangalore",
          "Gurgaon",
          "Delhi",
          "Bangalore",
          "Bangalore",
          "Bangalore",
          "Delhi",
          "Pune",
          "Gurgaon",
          "Bangalore",
          "Gurgaon",
          "Bangalore",
          "Delhi",
          "Bangalore",
          "Gurgaon",
          "Gurgaon",
          "Bangalore",
          "Bangalore",
          "Delhi",
          "Gurgaon",
          "Bangalore",
          "Bangalore",
          "Gurgaon",
          "Delhi",
          "Bangalore",
          "Pune",
          "Bangalore",
          "Bangalore",
          "Mumbai",
          "Bangalore",
          "Mumbai",
          "Mumbai",
          "Delhi",
          "Gurgaon",
          "Delhi",
          "Gurgaon",
          "Mumbai",
          "Bangalore",
          "Delhi",
          "Gurgaon",
          "Bangalore",
          "Delhi",
          "Bangalore",
          "Bangalore",
          "Mumbai",
          "Bangalore",
          "Mumbai",
          "Mumbai",
          "Gurgaon",
          "Bangalore",
          "Bangalore",
          "Bangalore",
          "Mumbai",
          "Bangalore",
          "Mumbai",
          "Bangalore",
          "Gurgaon",
          "Mumbai",
          "Bangalore",
          "Pune",
          "Bangalore",
          "Bangalore",
          "Mumbai",
          "Mumbai",
          "Pune",
          "Gurgaon",
          "Mumbai",
          "Delhi",
          "Pune",
          "Mumbai",
          "Bangalore",
          "Gurgaon",
          "Bangalore",
          "Bangalore",
          "Mumbai",
          "Bangalore",
          "Bangalore",
          "Gurgaon",
          "Bangalore",
          "Bangalore",
          "Pune",
          "Delhi",
          "Bangalore",
          "Gurgaon",
          "Bangalore",
          "Mumbai",
          "Mumbai",
          "Delhi",
          "None",
          "Delhi",
          "None",
          "Bangalore",
          "None",
          "None",
          "None",
          "Bangalore",
          "Bangalore",
          "None",
          "Mumbai",
          "Mumbai",
          "Bangalore",
          "Bangalore",
          "Bangalore",
          "Mumbai",
          "Delhi",
          "Delhi",
          "Bangalore",
          "Bangalore",
          "Bangalore",
          "Mumbai",
          "Mumbai",
          "Delhi",
          "Mumbai",
          "Bangalore",
          "Mumbai",
          "Bangalore",
          "Delhi",
          "Delhi",
          "Bangalore",
          "Delhi",
          "Bangalore",
          "Mumbai",
          "Bangalore",
          "Mumbai",
          "Delhi",
          "Mumbai",
          "Bangalore",
          "Delhi",
          "Bangalore",
          "Mumbai",
          "Bangalore",
          "Delhi",
          "Bangalore",
          "Mumbai",
          "Bangalore",
          "Gurgaon",
          "Bangalore",
          "Bangalore",
          "Bangalore",
          "Mumbai",
          "Mumbai",
          "Mumbai",
          "Delhi",
          "Gurgaon",
          "Bangalore",
          "Bangalore",
          "Mumbai",
          "Bangalore",
          "Pune",
          "Mumbai",
          "Mumbai",
          "Bangalore",
          "Gurgaon",
          "Gurgaon",
          "Mumbai",
          "Gurgaon",
          "Gurgaon",
          "Mumbai",
          "Mumbai",
          "Mumbai",
          "Gurgaon",
          "Mumbai",
          "Delhi",
          "Delhi",
          "Bangalore",
          "Mumbai",
          "Pune",
          "Pune",
          "Mumbai",
          "Delhi",
          "Delhi",
          "Bangalore",
          "Mumbai"
         ],
         "xaxis": "x",
         "xbingroup": "x",
         "y": [
          "Education Technology",
          "Fintech",
          "Food and Beverages",
          "Business-to-Business E-commerce",
          "Fintech",
          "Fintech",
          "Fintech",
          "Fintech",
          "Food and Beverages",
          "Business-to-Business E-commerce",
          "Education Technology",
          "Business-to-Business E-commerce",
          "Retail",
          "Fintech",
          "Fintech",
          "Fintech",
          "Fintech",
          "Education Technology",
          "Financial Services",
          "Fintech",
          "Tech company",
          "Business-to-Business E-commerce",
          "Fintech",
          "Education Technology",
          "Education Technology",
          "Financial Services",
          "Financial Services",
          "Education Technology",
          "Education Technology",
          "Fintech",
          "Fintech",
          "Financial Services",
          "Fintech",
          "Tech company",
          "Fintech",
          "Education Technology",
          "Education Technology",
          "Fintech",
          "Education Technology",
          "Business-to-Business E-commerce",
          "Education Technology",
          "Fintech",
          "Business-to-Business E-commerce",
          "Fintech",
          "Food and Beverages",
          "Fintech",
          "Business-to-Business E-commerce",
          "Fintech",
          "Business-to-Business E-commerce",
          "Fintech",
          "Education Technology",
          "Education Technology",
          "Business-to-Business E-commerce",
          "Fintech",
          "Education Technology",
          "Education Technology",
          "Education Technology",
          "Business-to-Business E-commerce",
          "Food and Beverages",
          "Education Technology",
          "Fintech",
          "Business-to-Business E-commerce",
          "Fintech",
          "Education Technology",
          "Business-to-Business E-commerce",
          "Fintech",
          "Business-to-Business E-commerce",
          "Business-to-Business E-commerce",
          "Retail",
          "Business-to-Business E-commerce",
          "Food and Beverages",
          "Education Technology",
          "Fintech",
          "Retail",
          "Tech company",
          "Fintech",
          "Fintech",
          "Education Technology",
          "Food and Beverages",
          "Food and Beverages",
          "Fintech",
          "Food and Beverages",
          "Fintech",
          "Fintech",
          "Retail",
          "Education Technology",
          "Education Technology",
          "Business-to-Business E-commerce",
          "Tech company",
          "Fintech",
          "Business-to-Business E-commerce",
          "Business-to-Business E-commerce",
          "Tech company",
          "Business-to-Business E-commerce",
          "Education Technology",
          "Fintech",
          "Food and Beverages",
          "Financial Services",
          "Financial Services",
          "Education Technology",
          "Business-to-Business E-commerce",
          "Education Technology",
          "Business-to-Business E-commerce",
          "Tech company",
          "Education Technology",
          "Business-to-Business E-commerce",
          "Education Technology",
          "Education Technology",
          "Education Technology",
          "Business-to-Business E-commerce",
          "Fintech",
          "Business-to-Business E-commerce",
          "Food and Beverages",
          "Fintech",
          "Education Technology",
          "Business-to-Business E-commerce",
          "Education Technology",
          "Financial Services",
          "Education Technology",
          "Education Technology",
          "Education Technology",
          "Financial Services",
          "Fintech",
          "Fintech",
          "Education Technology",
          "Education Technology",
          "Financial Services",
          "Business-to-Business E-commerce",
          "Business-to-Business E-commerce",
          "Education Technology",
          "Education Technology",
          "Fintech",
          "Education Technology",
          "Food and Beverages",
          "Education Technology",
          "Fintech",
          "Fintech",
          "Education Technology",
          "Fintech",
          "Education Technology",
          "Fintech",
          "Food and Beverages",
          "Fintech",
          "Fintech",
          "Food and Beverages",
          "Education Technology",
          "Fintech",
          "Fintech",
          "Food and Beverages",
          "Fintech",
          "Business-to-Business E-commerce",
          "Education Technology",
          "Education Technology",
          "Fintech",
          "Education Technology",
          "Education Technology",
          "Education Technology",
          "Food and Beverages",
          "Education Technology",
          "Fintech",
          "Fintech",
          "Food and Beverages",
          "Education Technology",
          "Food and Beverages",
          "Retail",
          "Fintech",
          "Fintech",
          "Food and Beverages",
          "Education Technology",
          "Fintech",
          "Fintech",
          "Fintech",
          "Fintech",
          "Education Technology",
          "Food and Beverages",
          "Education Technology",
          "Food and Beverages",
          "Food and Beverages",
          "Fintech",
          "Education Technology",
          "Fintech",
          "Fintech",
          "Fintech",
          "Fintech",
          "Education Technology",
          "Education Technology",
          "Fintech",
          "Fintech",
          "Fintech",
          "Fintech",
          "Fintech",
          "Food and Beverages",
          "Fintech",
          "Education Technology",
          "Education Technology",
          "Fintech",
          "Fintech",
          "Fintech",
          "Education Technology",
          "Financial Services",
          "Fintech",
          "Education Technology",
          "Food and Beverages",
          "Fintech",
          "Fintech",
          "Food and Beverages",
          "Fintech",
          "Fintech",
          "Education Technology",
          "Food and Beverages",
          "Education Technology",
          "Fintech",
          "Food and Beverages",
          "Food and Beverages",
          "Fintech",
          "Fintech",
          "Fintech",
          "Education Technology",
          "Education Technology",
          "Fintech",
          "Food and Beverages",
          "Fintech",
          "Fintech",
          "Fintech",
          "Fintech",
          "Fintech",
          "Fintech",
          "Food and Beverages",
          "Education Technology",
          "Food and Beverages",
          "Fintech",
          "Fintech",
          "Fintech",
          "Education Technology",
          "Fintech",
          "Fintech",
          "Fintech",
          "Education Technology",
          "Food and Beverages",
          "Food and Beverages",
          "Education Technology",
          "Education Technology",
          "Fintech",
          "Fintech",
          "Education Technology",
          "Fintech",
          "Education Technology",
          "Fintech",
          "Education Technology",
          "Education Technology",
          "Education Technology",
          "Fintech",
          "Fintech",
          "Food and Beverages",
          "Education Technology",
          "Education Technology",
          "Food and Beverages",
          "Fintech",
          "Education Technology",
          "Fintech",
          "Education Technology",
          "Education Technology",
          "Fintech",
          "Fintech",
          "Fintech",
          "Food and Beverages",
          "Education Technology",
          "Fintech",
          "Education Technology",
          "Business-to-Business E-commerce",
          "Education Technology",
          "Fintech",
          "Fintech",
          "Food and Beverages",
          "Fintech",
          "Fintech",
          "Education Technology",
          "Education Technology",
          "Fintech",
          "Food and Beverages",
          "Education Technology",
          "Education Technology",
          "Fintech",
          "Fintech",
          "Education Technology",
          "Fintech",
          "Education Technology",
          "Education Technology",
          "Business-to-Business E-commerce",
          "Fintech",
          "Business-to-Business E-commerce",
          "Education Technology",
          "Fintech",
          "Fintech",
          "Education Technology",
          "Food and Beverages",
          "Education Technology",
          "Food and Beverages",
          "Fintech",
          "Food and Beverages",
          "Business-to-Business E-commerce",
          "Fintech",
          "Food and Beverages",
          "Education Technology",
          "Education Technology",
          "Fintech",
          "Fintech",
          "Food and Beverages",
          "Fintech",
          "Fintech",
          "Fintech",
          "Fintech",
          "Retail",
          "Fintech",
          "Fintech",
          "Business-to-Business E-commerce",
          "Education Technology",
          "Education Technology",
          "Business-to-Business E-commerce",
          "Retail",
          "Fintech",
          "Fintech",
          "Food and Beverages",
          "Education Technology",
          "Fintech",
          "Education Technology",
          "Financial Services",
          "Fintech",
          "Fintech",
          "Financial Services",
          "Food and Beverages",
          "Fintech",
          "Financial Services",
          "Business-to-Business E-commerce",
          "Education Technology",
          "Business-to-Business E-commerce",
          "Education Technology",
          "Food and Beverages",
          "Financial Services",
          "Retail",
          "Education Technology",
          "Education Technology",
          "Education Technology",
          "Education Technology",
          "Financial Services",
          "Financial Services",
          "Food and Beverages",
          "Fintech",
          "Fintech",
          "Fintech",
          "Education Technology",
          "Education Technology",
          "Fintech",
          "Financial Services",
          "Food and Beverages",
          "Financial Services",
          "Financial Services",
          "Financial Services",
          "Financial Services",
          "Financial Services",
          "Financial Services",
          "Fintech",
          "Financial Services",
          "Financial Services",
          "Business-to-Business E-commerce",
          "Business-to-Business E-commerce",
          "Business-to-Business E-commerce",
          "Food and Beverages",
          "Food and Beverages",
          "Financial Services",
          "Business-to-Business E-commerce",
          "Financial Services",
          "Education Technology",
          "Education Technology",
          "Education Technology",
          "Fintech",
          "Fintech",
          "Education Technology",
          "Fintech",
          "Education Technology",
          "Education Technology",
          "Business-to-Business E-commerce",
          "Fintech",
          "Education Technology",
          "Fintech",
          "Education Technology",
          "Business-to-Business E-commerce",
          "Education Technology",
          "Fintech",
          "Fintech",
          "Financial Services",
          "Fintech",
          "Business-to-Business E-commerce",
          "Fintech",
          "Education Technology",
          "Business-to-Business E-commerce",
          "Education Technology",
          "Fintech",
          "Fintech",
          "Fintech",
          "Business-to-Business E-commerce",
          "Business-to-Business E-commerce",
          "Fintech",
          "Fintech",
          "Education Technology",
          "Fintech",
          "Education Technology",
          "Education Technology",
          "Fintech",
          "Fintech",
          "Fintech",
          "Education Technology",
          "Food and Beverages",
          "Fintech",
          "Education Technology",
          "Fintech",
          "Business-to-Business E-commerce",
          "Business-to-Business E-commerce",
          "Education Technology",
          "Education Technology",
          "Food and Beverages",
          "Fintech",
          "Fintech",
          "Fintech",
          "Education Technology",
          "Fintech",
          "Fintech",
          "Education Technology",
          "Education Technology",
          "Business-to-Business E-commerce",
          "Financial Services",
          "Education Technology",
          "Business-to-Business E-commerce",
          "Food and Beverages",
          "Education Technology",
          "Food and Beverages",
          "Fintech",
          "Fintech",
          "Fintech",
          "Education Technology",
          "Education Technology",
          "Education Technology",
          "Food and Beverages",
          "Education Technology",
          "Business-to-Business E-commerce",
          "Food and Beverages",
          "Food and Beverages",
          "Fintech",
          "Education Technology",
          "Fintech",
          "Food and Beverages",
          "Education Technology",
          "Retail",
          "Education Technology",
          "Education Technology",
          "Education Technology",
          "Education Technology",
          "Fintech",
          "Education Technology",
          "Fintech",
          "Education Technology",
          "Fintech",
          "Business-to-Business E-commerce",
          "Business-to-Business E-commerce",
          "Food and Beverages",
          "Fintech",
          "Fintech",
          "Education Technology",
          "Fintech",
          "Business-to-Business E-commerce",
          "Education Technology",
          "Fintech",
          "Fintech",
          "Fintech",
          "Fintech",
          "Education Technology",
          "Fintech",
          "Business-to-Business E-commerce",
          "Education Technology",
          "Fintech",
          "Fintech",
          "Food and Beverages",
          "Business-to-Business E-commerce",
          "Fintech",
          "Education Technology",
          "Fintech",
          "Education Technology",
          "Fintech",
          "Food and Beverages",
          "Fintech",
          "Fintech",
          "Business-to-Business E-commerce",
          "Fintech",
          "Education Technology",
          "Education Technology",
          "Fintech",
          "Fintech",
          "Fintech",
          "Fintech",
          "Fintech",
          "Fintech",
          "Fintech",
          "Fintech",
          "Fintech",
          "Fintech",
          "Fintech",
          "Education Technology",
          "Fintech",
          "Education Technology",
          "Business-to-Business E-commerce",
          "Business-to-Business E-commerce",
          "Business-to-Business E-commerce",
          "Education Technology",
          "Fintech",
          "Education Technology",
          "Education Technology",
          "Education Technology",
          "Fintech",
          "Education Technology",
          "Fintech",
          "Fintech",
          "Education Technology",
          "Fintech",
          "Education Technology",
          "Fintech",
          "Fintech",
          "Education Technology",
          "Fintech",
          "Education Technology",
          "Fintech",
          "Fintech",
          "Retail",
          "Education Technology",
          "Education Technology",
          "Business-to-Business E-commerce",
          "Fintech",
          "Fintech",
          "Business-to-Business E-commerce",
          "Financial Services",
          "Business-to-Business E-commerce",
          "Financial Services",
          "Retail",
          "Food and Beverages",
          "Financial Services",
          "Retail",
          "Financial Services",
          "Food and Beverages",
          "Financial Services",
          "Financial Services",
          "Financial Services",
          "Financial Services",
          "Financial Services",
          "Financial Services",
          "Financial Services",
          "Financial Services",
          "Financial Services",
          "Fintech",
          "Business-to-Business E-commerce",
          "Education Technology",
          "Food and Beverages",
          "Education Technology",
          "Retail",
          "Financial Services",
          "Financial Services",
          "Financial Services",
          "Financial Services",
          "Food and Beverages",
          "Financial Services",
          "Financial Services",
          "Financial Services",
          "Financial Services",
          "Food and Beverages",
          "Financial Services",
          "Education Technology",
          "Food and Beverages",
          "Financial Services",
          "Financial Services",
          "Financial Services",
          "Financial Services",
          "Financial Services",
          "Retail",
          "Financial Services",
          "Retail",
          "Financial Services",
          "Business-to-Business E-commerce",
          "Food and Beverages",
          "Fintech",
          "Financial Services",
          "Fintech",
          "Food and Beverages",
          "Financial Services",
          "Financial Services",
          "Financial Services",
          "Financial Services",
          "Fintech",
          "Retail",
          "Financial Services",
          "Financial Services",
          "Financial Services",
          "Fintech",
          "Food and Beverages",
          "Financial Services",
          "Education Technology",
          "Retail",
          "Fintech",
          "Financial Services",
          "Financial Services",
          "Education Technology",
          "Food and Beverages",
          "Education Technology",
          "Fintech",
          "Education Technology",
          "Financial Services",
          "Education Technology",
          "Retail",
          "Education Technology",
          "Food and Beverages",
          "Fintech",
          "Food and Beverages",
          "Food and Beverages",
          "Financial Services",
          "Education Technology",
          "Financial Services",
          "Education Technology",
          "Education Technology",
          "Business-to-Business E-commerce",
          "Food and Beverages",
          "Fintech",
          "Education Technology",
          "Fintech",
          "Education Technology",
          "Fintech",
          "Education Technology",
          "Food and Beverages",
          "Food and Beverages",
          "Fintech",
          "Business-to-Business E-commerce",
          "Food and Beverages",
          "Fintech",
          "Fintech",
          "Fintech",
          "Fintech",
          "Food and Beverages",
          "Business-to-Business E-commerce",
          "Education Technology",
          "Food and Beverages",
          "Financial Services",
          "Financial Services",
          "Financial Services",
          "Food and Beverages",
          "Financial Services",
          "Financial Services",
          "Food and Beverages",
          "Financial Services",
          "Education Technology",
          "Food and Beverages",
          "Food and Beverages",
          "Education Technology",
          "Food and Beverages",
          "Education Technology",
          "Education Technology",
          "Financial Services",
          "Financial Services",
          "Financial Services",
          "Education Technology",
          "Financial Services",
          "Food and Beverages",
          "Financial Services",
          "Financial Services",
          "Financial Services",
          "Retail",
          "Financial Services",
          "Financial Services",
          "Financial Services",
          "Financial Services",
          "Food and Beverages",
          "Financial Services",
          "Financial Services",
          "Food and Beverages",
          "Food and Beverages",
          "Financial Services",
          "Financial Services",
          "Financial Services",
          "Financial Services",
          "Financial Services",
          "Financial Services",
          "Food and Beverages",
          "Food and Beverages",
          "Financial Services",
          "Education Technology",
          "Financial Services",
          "Food and Beverages",
          "Financial Services",
          "Retail",
          "Financial Services",
          "Financial Services",
          "Financial Services",
          "Financial Services",
          "Food and Beverages",
          "Fintech",
          "Financial Services",
          "Financial Services",
          "Financial Services",
          "Financial Services",
          "Financial Services",
          "Food and Beverages",
          "Food and Beverages",
          "Food and Beverages",
          "Food and Beverages",
          "Fintech",
          "Food and Beverages"
         ],
         "yaxis": "y",
         "ybingroup": "y"
        }
       ],
       "layout": {
        "coloraxis": {
         "colorbar": {
          "title": {
           "text": "count"
          }
         },
         "colorscale": [
          [
           0,
           "#0d0887"
          ],
          [
           0.1111111111111111,
           "#46039f"
          ],
          [
           0.2222222222222222,
           "#7201a8"
          ],
          [
           0.3333333333333333,
           "#9c179e"
          ],
          [
           0.4444444444444444,
           "#bd3786"
          ],
          [
           0.5555555555555556,
           "#d8576b"
          ],
          [
           0.6666666666666666,
           "#ed7953"
          ],
          [
           0.7777777777777778,
           "#fb9f3a"
          ],
          [
           0.8888888888888888,
           "#fdca26"
          ],
          [
           1,
           "#f0f921"
          ]
         ]
        },
        "legend": {
         "tracegroupgap": 0
        },
        "template": {
         "data": {
          "bar": [
           {
            "error_x": {
             "color": "#2a3f5f"
            },
            "error_y": {
             "color": "#2a3f5f"
            },
            "marker": {
             "line": {
              "color": "#E5ECF6",
              "width": 0.5
             },
             "pattern": {
              "fillmode": "overlay",
              "size": 10,
              "solidity": 0.2
             }
            },
            "type": "bar"
           }
          ],
          "barpolar": [
           {
            "marker": {
             "line": {
              "color": "#E5ECF6",
              "width": 0.5
             },
             "pattern": {
              "fillmode": "overlay",
              "size": 10,
              "solidity": 0.2
             }
            },
            "type": "barpolar"
           }
          ],
          "carpet": [
           {
            "aaxis": {
             "endlinecolor": "#2a3f5f",
             "gridcolor": "white",
             "linecolor": "white",
             "minorgridcolor": "white",
             "startlinecolor": "#2a3f5f"
            },
            "baxis": {
             "endlinecolor": "#2a3f5f",
             "gridcolor": "white",
             "linecolor": "white",
             "minorgridcolor": "white",
             "startlinecolor": "#2a3f5f"
            },
            "type": "carpet"
           }
          ],
          "choropleth": [
           {
            "colorbar": {
             "outlinewidth": 0,
             "ticks": ""
            },
            "type": "choropleth"
           }
          ],
          "contour": [
           {
            "colorbar": {
             "outlinewidth": 0,
             "ticks": ""
            },
            "colorscale": [
             [
              0,
              "#0d0887"
             ],
             [
              0.1111111111111111,
              "#46039f"
             ],
             [
              0.2222222222222222,
              "#7201a8"
             ],
             [
              0.3333333333333333,
              "#9c179e"
             ],
             [
              0.4444444444444444,
              "#bd3786"
             ],
             [
              0.5555555555555556,
              "#d8576b"
             ],
             [
              0.6666666666666666,
              "#ed7953"
             ],
             [
              0.7777777777777778,
              "#fb9f3a"
             ],
             [
              0.8888888888888888,
              "#fdca26"
             ],
             [
              1,
              "#f0f921"
             ]
            ],
            "type": "contour"
           }
          ],
          "contourcarpet": [
           {
            "colorbar": {
             "outlinewidth": 0,
             "ticks": ""
            },
            "type": "contourcarpet"
           }
          ],
          "heatmap": [
           {
            "colorbar": {
             "outlinewidth": 0,
             "ticks": ""
            },
            "colorscale": [
             [
              0,
              "#0d0887"
             ],
             [
              0.1111111111111111,
              "#46039f"
             ],
             [
              0.2222222222222222,
              "#7201a8"
             ],
             [
              0.3333333333333333,
              "#9c179e"
             ],
             [
              0.4444444444444444,
              "#bd3786"
             ],
             [
              0.5555555555555556,
              "#d8576b"
             ],
             [
              0.6666666666666666,
              "#ed7953"
             ],
             [
              0.7777777777777778,
              "#fb9f3a"
             ],
             [
              0.8888888888888888,
              "#fdca26"
             ],
             [
              1,
              "#f0f921"
             ]
            ],
            "type": "heatmap"
           }
          ],
          "heatmapgl": [
           {
            "colorbar": {
             "outlinewidth": 0,
             "ticks": ""
            },
            "colorscale": [
             [
              0,
              "#0d0887"
             ],
             [
              0.1111111111111111,
              "#46039f"
             ],
             [
              0.2222222222222222,
              "#7201a8"
             ],
             [
              0.3333333333333333,
              "#9c179e"
             ],
             [
              0.4444444444444444,
              "#bd3786"
             ],
             [
              0.5555555555555556,
              "#d8576b"
             ],
             [
              0.6666666666666666,
              "#ed7953"
             ],
             [
              0.7777777777777778,
              "#fb9f3a"
             ],
             [
              0.8888888888888888,
              "#fdca26"
             ],
             [
              1,
              "#f0f921"
             ]
            ],
            "type": "heatmapgl"
           }
          ],
          "histogram": [
           {
            "marker": {
             "pattern": {
              "fillmode": "overlay",
              "size": 10,
              "solidity": 0.2
             }
            },
            "type": "histogram"
           }
          ],
          "histogram2d": [
           {
            "colorbar": {
             "outlinewidth": 0,
             "ticks": ""
            },
            "colorscale": [
             [
              0,
              "#0d0887"
             ],
             [
              0.1111111111111111,
              "#46039f"
             ],
             [
              0.2222222222222222,
              "#7201a8"
             ],
             [
              0.3333333333333333,
              "#9c179e"
             ],
             [
              0.4444444444444444,
              "#bd3786"
             ],
             [
              0.5555555555555556,
              "#d8576b"
             ],
             [
              0.6666666666666666,
              "#ed7953"
             ],
             [
              0.7777777777777778,
              "#fb9f3a"
             ],
             [
              0.8888888888888888,
              "#fdca26"
             ],
             [
              1,
              "#f0f921"
             ]
            ],
            "type": "histogram2d"
           }
          ],
          "histogram2dcontour": [
           {
            "colorbar": {
             "outlinewidth": 0,
             "ticks": ""
            },
            "colorscale": [
             [
              0,
              "#0d0887"
             ],
             [
              0.1111111111111111,
              "#46039f"
             ],
             [
              0.2222222222222222,
              "#7201a8"
             ],
             [
              0.3333333333333333,
              "#9c179e"
             ],
             [
              0.4444444444444444,
              "#bd3786"
             ],
             [
              0.5555555555555556,
              "#d8576b"
             ],
             [
              0.6666666666666666,
              "#ed7953"
             ],
             [
              0.7777777777777778,
              "#fb9f3a"
             ],
             [
              0.8888888888888888,
              "#fdca26"
             ],
             [
              1,
              "#f0f921"
             ]
            ],
            "type": "histogram2dcontour"
           }
          ],
          "mesh3d": [
           {
            "colorbar": {
             "outlinewidth": 0,
             "ticks": ""
            },
            "type": "mesh3d"
           }
          ],
          "parcoords": [
           {
            "line": {
             "colorbar": {
              "outlinewidth": 0,
              "ticks": ""
             }
            },
            "type": "parcoords"
           }
          ],
          "pie": [
           {
            "automargin": true,
            "type": "pie"
           }
          ],
          "scatter": [
           {
            "fillpattern": {
             "fillmode": "overlay",
             "size": 10,
             "solidity": 0.2
            },
            "type": "scatter"
           }
          ],
          "scatter3d": [
           {
            "line": {
             "colorbar": {
              "outlinewidth": 0,
              "ticks": ""
             }
            },
            "marker": {
             "colorbar": {
              "outlinewidth": 0,
              "ticks": ""
             }
            },
            "type": "scatter3d"
           }
          ],
          "scattercarpet": [
           {
            "marker": {
             "colorbar": {
              "outlinewidth": 0,
              "ticks": ""
             }
            },
            "type": "scattercarpet"
           }
          ],
          "scattergeo": [
           {
            "marker": {
             "colorbar": {
              "outlinewidth": 0,
              "ticks": ""
             }
            },
            "type": "scattergeo"
           }
          ],
          "scattergl": [
           {
            "marker": {
             "colorbar": {
              "outlinewidth": 0,
              "ticks": ""
             }
            },
            "type": "scattergl"
           }
          ],
          "scattermapbox": [
           {
            "marker": {
             "colorbar": {
              "outlinewidth": 0,
              "ticks": ""
             }
            },
            "type": "scattermapbox"
           }
          ],
          "scatterpolar": [
           {
            "marker": {
             "colorbar": {
              "outlinewidth": 0,
              "ticks": ""
             }
            },
            "type": "scatterpolar"
           }
          ],
          "scatterpolargl": [
           {
            "marker": {
             "colorbar": {
              "outlinewidth": 0,
              "ticks": ""
             }
            },
            "type": "scatterpolargl"
           }
          ],
          "scatterternary": [
           {
            "marker": {
             "colorbar": {
              "outlinewidth": 0,
              "ticks": ""
             }
            },
            "type": "scatterternary"
           }
          ],
          "surface": [
           {
            "colorbar": {
             "outlinewidth": 0,
             "ticks": ""
            },
            "colorscale": [
             [
              0,
              "#0d0887"
             ],
             [
              0.1111111111111111,
              "#46039f"
             ],
             [
              0.2222222222222222,
              "#7201a8"
             ],
             [
              0.3333333333333333,
              "#9c179e"
             ],
             [
              0.4444444444444444,
              "#bd3786"
             ],
             [
              0.5555555555555556,
              "#d8576b"
             ],
             [
              0.6666666666666666,
              "#ed7953"
             ],
             [
              0.7777777777777778,
              "#fb9f3a"
             ],
             [
              0.8888888888888888,
              "#fdca26"
             ],
             [
              1,
              "#f0f921"
             ]
            ],
            "type": "surface"
           }
          ],
          "table": [
           {
            "cells": {
             "fill": {
              "color": "#EBF0F8"
             },
             "line": {
              "color": "white"
             }
            },
            "header": {
             "fill": {
              "color": "#C8D4E3"
             },
             "line": {
              "color": "white"
             }
            },
            "type": "table"
           }
          ]
         },
         "layout": {
          "annotationdefaults": {
           "arrowcolor": "#2a3f5f",
           "arrowhead": 0,
           "arrowwidth": 1
          },
          "autotypenumbers": "strict",
          "coloraxis": {
           "colorbar": {
            "outlinewidth": 0,
            "ticks": ""
           }
          },
          "colorscale": {
           "diverging": [
            [
             0,
             "#8e0152"
            ],
            [
             0.1,
             "#c51b7d"
            ],
            [
             0.2,
             "#de77ae"
            ],
            [
             0.3,
             "#f1b6da"
            ],
            [
             0.4,
             "#fde0ef"
            ],
            [
             0.5,
             "#f7f7f7"
            ],
            [
             0.6,
             "#e6f5d0"
            ],
            [
             0.7,
             "#b8e186"
            ],
            [
             0.8,
             "#7fbc41"
            ],
            [
             0.9,
             "#4d9221"
            ],
            [
             1,
             "#276419"
            ]
           ],
           "sequential": [
            [
             0,
             "#0d0887"
            ],
            [
             0.1111111111111111,
             "#46039f"
            ],
            [
             0.2222222222222222,
             "#7201a8"
            ],
            [
             0.3333333333333333,
             "#9c179e"
            ],
            [
             0.4444444444444444,
             "#bd3786"
            ],
            [
             0.5555555555555556,
             "#d8576b"
            ],
            [
             0.6666666666666666,
             "#ed7953"
            ],
            [
             0.7777777777777778,
             "#fb9f3a"
            ],
            [
             0.8888888888888888,
             "#fdca26"
            ],
            [
             1,
             "#f0f921"
            ]
           ],
           "sequentialminus": [
            [
             0,
             "#0d0887"
            ],
            [
             0.1111111111111111,
             "#46039f"
            ],
            [
             0.2222222222222222,
             "#7201a8"
            ],
            [
             0.3333333333333333,
             "#9c179e"
            ],
            [
             0.4444444444444444,
             "#bd3786"
            ],
            [
             0.5555555555555556,
             "#d8576b"
            ],
            [
             0.6666666666666666,
             "#ed7953"
            ],
            [
             0.7777777777777778,
             "#fb9f3a"
            ],
            [
             0.8888888888888888,
             "#fdca26"
            ],
            [
             1,
             "#f0f921"
            ]
           ]
          },
          "colorway": [
           "#636efa",
           "#EF553B",
           "#00cc96",
           "#ab63fa",
           "#FFA15A",
           "#19d3f3",
           "#FF6692",
           "#B6E880",
           "#FF97FF",
           "#FECB52"
          ],
          "font": {
           "color": "#2a3f5f"
          },
          "geo": {
           "bgcolor": "white",
           "lakecolor": "white",
           "landcolor": "#E5ECF6",
           "showlakes": true,
           "showland": true,
           "subunitcolor": "white"
          },
          "hoverlabel": {
           "align": "left"
          },
          "hovermode": "closest",
          "mapbox": {
           "style": "light"
          },
          "paper_bgcolor": "white",
          "plot_bgcolor": "#E5ECF6",
          "polar": {
           "angularaxis": {
            "gridcolor": "white",
            "linecolor": "white",
            "ticks": ""
           },
           "bgcolor": "#E5ECF6",
           "radialaxis": {
            "gridcolor": "white",
            "linecolor": "white",
            "ticks": ""
           }
          },
          "scene": {
           "xaxis": {
            "backgroundcolor": "#E5ECF6",
            "gridcolor": "white",
            "gridwidth": 2,
            "linecolor": "white",
            "showbackground": true,
            "ticks": "",
            "zerolinecolor": "white"
           },
           "yaxis": {
            "backgroundcolor": "#E5ECF6",
            "gridcolor": "white",
            "gridwidth": 2,
            "linecolor": "white",
            "showbackground": true,
            "ticks": "",
            "zerolinecolor": "white"
           },
           "zaxis": {
            "backgroundcolor": "#E5ECF6",
            "gridcolor": "white",
            "gridwidth": 2,
            "linecolor": "white",
            "showbackground": true,
            "ticks": "",
            "zerolinecolor": "white"
           }
          },
          "shapedefaults": {
           "line": {
            "color": "#2a3f5f"
           }
          },
          "ternary": {
           "aaxis": {
            "gridcolor": "white",
            "linecolor": "white",
            "ticks": ""
           },
           "baxis": {
            "gridcolor": "white",
            "linecolor": "white",
            "ticks": ""
           },
           "bgcolor": "#E5ECF6",
           "caxis": {
            "gridcolor": "white",
            "linecolor": "white",
            "ticks": ""
           }
          },
          "title": {
           "x": 0.05
          },
          "xaxis": {
           "automargin": true,
           "gridcolor": "white",
           "linecolor": "white",
           "ticks": "",
           "title": {
            "standoff": 15
           },
           "zerolinecolor": "white",
           "zerolinewidth": 2
          },
          "yaxis": {
           "automargin": true,
           "gridcolor": "white",
           "linecolor": "white",
           "ticks": "",
           "title": {
            "standoff": 15
           },
           "zerolinecolor": "white",
           "zerolinewidth": 2
          }
         }
        },
        "title": {
         "text": "Top 7 Sectors and Locations Heatmap \n2018-2021"
        },
        "xaxis": {
         "anchor": "y",
         "domain": [
          0,
          1
         ],
         "title": {
          "text": "Headquarter Location"
         }
        },
        "yaxis": {
         "anchor": "x",
         "domain": [
          0,
          1
         ],
         "title": {
          "text": "Sector"
         }
        }
       }
      }
     },
     "metadata": {},
     "output_type": "display_data"
    }
   ],
   "source": [
    "# Get the top 7 sectors and top 7 locations based on total funding amount\n",
    "top_sectors = df.groupby('sector')['amount'].sum().sort_values(ascending=False).head(7).index\n",
    "top_locations = df.groupby('headquarter')['amount'].sum().sort_values(ascending=False).head(7).index\n",
    "\n",
    "# Filter the DataFrame for the top 7 sectors and top 7 locations\n",
    "df_top7 = df[df['sector'].isin(top_sectors) & df['headquarter'].isin(top_locations)]\n",
    "\n",
    "# Create a heatmap\n",
    "fig = px.density_heatmap(df_top7, \n",
    "                         x='headquarter', \n",
    "                         y='sector', \n",
    "                         title='Top 7 Sectors and Locations Heatmap \\n2018-2021',\n",
    "                         labels={'headquarter': 'Headquarter Location', 'sector': 'Sector'})\n",
    "fig.show()"
   ]
  },
  {
   "cell_type": "markdown",
   "id": "17283097",
   "metadata": {},
   "source": [
    "#### __Observations__ ####\n",
    "#### __Top Industries and Locations:__ ####\n",
    "\n",
    "- Top industries exhibit a concentration in the leading locations. Therefore, Location of a company does influences its sector\n",
    "\n",
    "#### __Sectors Concentration:__ ####\n",
    "\n",
    "- consistent pattern reveals a correlation between a sector's dominance and its prevalent location.\n",
    "- This consistency suggests a nuanced influence of geography on flourishing industries.\n",
    "\n",
    "##### __Outliers Analysis:__ ####\n",
    "\n",
    "- Instances of outliers are notable, such as in Bangalore where Fintech and Education Tech industries concentrate more.\n",
    "\n",
    "#### __Conclusion:__ ####\n",
    "\n",
    "The data strongly supports the notion that top industries tend to concentrate in the leading locations.\n",
    "\n",
    "## __Summary and Recommendations__ ##\n",
    "### __Summary__ #3#\n",
    "\n",
    "### __Funding Trends__ ###\n",
    "\n",
    "- Funding experienced a modest decline from 2018 to 2019, followed by a remarkable increase of over $176 billion from 2019 to 2021.\n",
    "- 2021 stands out as the best-funded year, surpassing $179 billion.\n",
    "\n",
    "### __Geographical Dynamics__ ###\n",
    "\n",
    "- Mumbai is the most well-funded location, with other cities trailing at a considerable distance.\n",
    "- Notable variations across cities, with Mumbai, Shanghai, San Francisco, Kalpakkan, and Beijing leading.\n",
    "\n",
    "### __Sector-Specific Insights__ ###\n",
    "\n",
    "- Retail and fintech sectors attract the most funding, with 'Others' (Private Equity, Corporate Round, Debt) showing substantial growth.\n",
    "\n",
    "### __Key Players__ ###\n",
    "\n",
    "- Silver Lake and Mubadala Investment Company lead all investors, contributing a massive $70 billion.\n",
    "\n",
    "\n",
    "## __Recommendations__ ##\n",
    "\n",
    "__1. Location Consideration:__\n",
    "\n",
    "- Investors should focus on top-funded locations like Mumbai, Shanghai, San Francisco, Kalpakkan, and Beijing.\n",
    "\n",
    "__2. Sector-Specific Investments:__\n",
    "\n",
    "- Explore opportunities in fintech and retail, the most attractive sectors for investors.\n",
    "\n",
    "__ 3. Emerging Trends:__\n",
    "\n",
    "- Monitor trends in mature startups in the 'Others' category, signaling investor comfort with later-stage ventures.\n",
    "__ 4. Diversification:__\n",
    "\n",
    "- Diversify portfolios across locations and sectors for a balanced risk-return profile."
   ]
  },
  {
   "cell_type": "code",
   "execution_count": 101,
   "id": "d79c793c",
   "metadata": {},
   "outputs": [],
   "source": [
    "df.to_csv('df.csv', index=False)"
   ]
  },
  {
   "cell_type": "markdown",
   "id": "52e0ca07",
   "metadata": {},
   "source": []
  }
 ],
 "metadata": {
  "kernelspec": {
   "display_name": "Python 3 (ipykernel)",
   "language": "python",
   "name": "python3"
  },
  "language_info": {
   "codemirror_mode": {
    "name": "ipython",
    "version": 3
   },
   "file_extension": ".py",
   "mimetype": "text/x-python",
   "name": "python",
   "nbconvert_exporter": "python",
   "pygments_lexer": "ipython3",
   "version": "3.10.9"
  }
 },
 "nbformat": 4,
 "nbformat_minor": 5
}
